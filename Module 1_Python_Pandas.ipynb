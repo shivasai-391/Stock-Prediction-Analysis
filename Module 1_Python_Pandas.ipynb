{
 "cells": [
  {
   "cell_type": "markdown",
   "metadata": {},
   "source": [
    "# <h9><center> INTRODUCTION TO THE PROBLEM <h9>"
   ]
  },
  {
   "cell_type": "markdown",
   "metadata": {},
   "source": [
    "In Module 1, we are going to get familiar with pandas, the python module which is used to process and analyse data. Processing could include removing unknown values from the data or replacing unknown values with values which make sense, maybe 0. Analysing the data could include finding out the trend of a stock price. <br> e.g. how the stock price changes with respect to the Nifty 50 basket of stocks."
   ]
  },
  {
   "cell_type": "markdown",
   "metadata": {},
   "source": [
    "## PROBLEM STATEMENT-1.1"
   ]
  },
  {
   "cell_type": "markdown",
   "metadata": {},
   "source": [
    "Import the csv file of the stock of your choosing using 'pd.read_csv()' function into a dataframe. Shares of a company can be offered in more than one category. The category of a stock is indicated in the ‘Series’ column. If the csv file has data on more than one category, the ‘Date’ column will have repeating values. To avoid repetitions in the date, remove all the rows where 'Series' column is NOT 'EQ'. <br>  Analyze and understand each column properly. <br> You'd find the head(), tail() and describe() functions to be immensely useful for exploration. You're free to carry out any other exploration of your own."
   ]
  },
  {
   "cell_type": "code",
   "execution_count": 304,
   "metadata": {},
   "outputs": [],
   "source": [
    "import numpy as np \n",
    "import pandas as pd"
   ]
  },
  {
   "cell_type": "markdown",
   "metadata": {},
   "source": [
    "#### Importing CSV file using pd.read_csv()"
   ]
  },
  {
   "cell_type": "code",
   "execution_count": 305,
   "metadata": {},
   "outputs": [
    {
     "data": {
      "text/html": [
       "<div>\n",
       "<style scoped>\n",
       "    .dataframe tbody tr th:only-of-type {\n",
       "        vertical-align: middle;\n",
       "    }\n",
       "\n",
       "    .dataframe tbody tr th {\n",
       "        vertical-align: top;\n",
       "    }\n",
       "\n",
       "    .dataframe thead th {\n",
       "        text-align: right;\n",
       "    }\n",
       "</style>\n",
       "<table border=\"1\" class=\"dataframe\">\n",
       "  <thead>\n",
       "    <tr style=\"text-align: right;\">\n",
       "      <th></th>\n",
       "      <th>Symbol</th>\n",
       "      <th>Series</th>\n",
       "      <th>Date</th>\n",
       "      <th>Prev Close</th>\n",
       "      <th>Open Price</th>\n",
       "      <th>High Price</th>\n",
       "      <th>Low Price</th>\n",
       "      <th>Last Price</th>\n",
       "      <th>Close Price</th>\n",
       "      <th>Average Price</th>\n",
       "      <th>Total Traded Quantity</th>\n",
       "      <th>Turnover</th>\n",
       "      <th>No. of Trades</th>\n",
       "      <th>Deliverable Qty</th>\n",
       "      <th>% Dly Qt to Traded Qty</th>\n",
       "    </tr>\n",
       "  </thead>\n",
       "  <tbody>\n",
       "    <tr>\n",
       "      <th>0</th>\n",
       "      <td>RAYMOND</td>\n",
       "      <td>EQ</td>\n",
       "      <td>15-May-2017</td>\n",
       "      <td>763.45</td>\n",
       "      <td>765.00</td>\n",
       "      <td>779.00</td>\n",
       "      <td>757.05</td>\n",
       "      <td>773.9</td>\n",
       "      <td>772.80</td>\n",
       "      <td>770.09</td>\n",
       "      <td>292498</td>\n",
       "      <td>2.252491e+08</td>\n",
       "      <td>9033</td>\n",
       "      <td>55467</td>\n",
       "      <td>18.96</td>\n",
       "    </tr>\n",
       "    <tr>\n",
       "      <th>1</th>\n",
       "      <td>RAYMOND</td>\n",
       "      <td>EQ</td>\n",
       "      <td>16-May-2017</td>\n",
       "      <td>772.80</td>\n",
       "      <td>773.45</td>\n",
       "      <td>801.45</td>\n",
       "      <td>768.10</td>\n",
       "      <td>783.5</td>\n",
       "      <td>785.00</td>\n",
       "      <td>788.89</td>\n",
       "      <td>823956</td>\n",
       "      <td>6.500070e+08</td>\n",
       "      <td>18238</td>\n",
       "      <td>179377</td>\n",
       "      <td>21.77</td>\n",
       "    </tr>\n",
       "    <tr>\n",
       "      <th>2</th>\n",
       "      <td>RAYMOND</td>\n",
       "      <td>EQ</td>\n",
       "      <td>17-May-2017</td>\n",
       "      <td>785.00</td>\n",
       "      <td>786.00</td>\n",
       "      <td>804.95</td>\n",
       "      <td>778.40</td>\n",
       "      <td>785.5</td>\n",
       "      <td>783.65</td>\n",
       "      <td>792.72</td>\n",
       "      <td>598094</td>\n",
       "      <td>4.741212e+08</td>\n",
       "      <td>13968</td>\n",
       "      <td>127637</td>\n",
       "      <td>21.34</td>\n",
       "    </tr>\n",
       "    <tr>\n",
       "      <th>3</th>\n",
       "      <td>RAYMOND</td>\n",
       "      <td>EQ</td>\n",
       "      <td>18-May-2017</td>\n",
       "      <td>783.65</td>\n",
       "      <td>779.35</td>\n",
       "      <td>779.95</td>\n",
       "      <td>740.20</td>\n",
       "      <td>744.0</td>\n",
       "      <td>746.95</td>\n",
       "      <td>762.57</td>\n",
       "      <td>319834</td>\n",
       "      <td>2.438956e+08</td>\n",
       "      <td>7713</td>\n",
       "      <td>92200</td>\n",
       "      <td>28.83</td>\n",
       "    </tr>\n",
       "    <tr>\n",
       "      <th>4</th>\n",
       "      <td>RAYMOND</td>\n",
       "      <td>EQ</td>\n",
       "      <td>19-May-2017</td>\n",
       "      <td>746.95</td>\n",
       "      <td>748.00</td>\n",
       "      <td>767.50</td>\n",
       "      <td>714.00</td>\n",
       "      <td>722.0</td>\n",
       "      <td>723.10</td>\n",
       "      <td>740.30</td>\n",
       "      <td>561346</td>\n",
       "      <td>4.155619e+08</td>\n",
       "      <td>13328</td>\n",
       "      <td>137648</td>\n",
       "      <td>24.52</td>\n",
       "    </tr>\n",
       "  </tbody>\n",
       "</table>\n",
       "</div>"
      ],
      "text/plain": [
       "    Symbol Series         Date  Prev Close  Open Price  High Price  Low Price  \\\n",
       "0  RAYMOND     EQ  15-May-2017      763.45      765.00      779.00     757.05   \n",
       "1  RAYMOND     EQ  16-May-2017      772.80      773.45      801.45     768.10   \n",
       "2  RAYMOND     EQ  17-May-2017      785.00      786.00      804.95     778.40   \n",
       "3  RAYMOND     EQ  18-May-2017      783.65      779.35      779.95     740.20   \n",
       "4  RAYMOND     EQ  19-May-2017      746.95      748.00      767.50     714.00   \n",
       "\n",
       "   Last Price  Close Price  Average Price  Total Traded Quantity  \\\n",
       "0       773.9       772.80         770.09                 292498   \n",
       "1       783.5       785.00         788.89                 823956   \n",
       "2       785.5       783.65         792.72                 598094   \n",
       "3       744.0       746.95         762.57                 319834   \n",
       "4       722.0       723.10         740.30                 561346   \n",
       "\n",
       "       Turnover  No. of Trades  Deliverable Qty  % Dly Qt to Traded Qty  \n",
       "0  2.252491e+08           9033            55467                   18.96  \n",
       "1  6.500070e+08          18238           179377                   21.77  \n",
       "2  4.741212e+08          13968           127637                   21.34  \n",
       "3  2.438956e+08           7713            92200                   28.83  \n",
       "4  4.155619e+08          13328           137648                   24.52  "
      ]
     },
     "execution_count": 305,
     "metadata": {},
     "output_type": "execute_result"
    }
   ],
   "source": [
    "raymond = pd.read_csv('./RAYMOND.csv')\n",
    "raymond.head(5)"
   ]
  },
  {
   "cell_type": "markdown",
   "metadata": {},
   "source": [
    "#### Check whether csv file has data on more than one category. <br> \n",
    "- checking for the ‘Date’ column will have repeating values."
   ]
  },
  {
   "cell_type": "code",
   "execution_count": 306,
   "metadata": {},
   "outputs": [
    {
     "data": {
      "text/html": [
       "<div>\n",
       "<style scoped>\n",
       "    .dataframe tbody tr th:only-of-type {\n",
       "        vertical-align: middle;\n",
       "    }\n",
       "\n",
       "    .dataframe tbody tr th {\n",
       "        vertical-align: top;\n",
       "    }\n",
       "\n",
       "    .dataframe thead th {\n",
       "        text-align: right;\n",
       "    }\n",
       "</style>\n",
       "<table border=\"1\" class=\"dataframe\">\n",
       "  <thead>\n",
       "    <tr style=\"text-align: right;\">\n",
       "      <th></th>\n",
       "      <th>Symbol</th>\n",
       "      <th>Series</th>\n",
       "      <th>Date</th>\n",
       "      <th>Prev Close</th>\n",
       "      <th>Open Price</th>\n",
       "      <th>High Price</th>\n",
       "      <th>Low Price</th>\n",
       "      <th>Last Price</th>\n",
       "      <th>Close Price</th>\n",
       "      <th>Average Price</th>\n",
       "      <th>Total Traded Quantity</th>\n",
       "      <th>Turnover</th>\n",
       "      <th>No. of Trades</th>\n",
       "      <th>Deliverable Qty</th>\n",
       "      <th>% Dly Qt to Traded Qty</th>\n",
       "    </tr>\n",
       "  </thead>\n",
       "  <tbody>\n",
       "  </tbody>\n",
       "</table>\n",
       "</div>"
      ],
      "text/plain": [
       "Empty DataFrame\n",
       "Columns: [Symbol, Series, Date, Prev Close, Open Price, High Price, Low Price, Last Price, Close Price, Average Price, Total Traded Quantity, Turnover, No. of Trades, Deliverable Qty, % Dly Qt to Traded Qty]\n",
       "Index: []"
      ]
     },
     "execution_count": 306,
     "metadata": {},
     "output_type": "execute_result"
    }
   ],
   "source": [
    "col=raymond.loc[raymond['Series'] != 'EQ']\n",
    "col"
   ]
  },
  {
   "cell_type": "code",
   "execution_count": 307,
   "metadata": {},
   "outputs": [],
   "source": [
    "datedup = raymond['Date'].duplicated()"
   ]
  },
  {
   "cell_type": "code",
   "execution_count": 308,
   "metadata": {},
   "outputs": [
    {
     "data": {
      "text/plain": [
       "(494,)"
      ]
     },
     "execution_count": 308,
     "metadata": {},
     "output_type": "execute_result"
    }
   ],
   "source": [
    "datedup.shape"
   ]
  },
  {
   "cell_type": "markdown",
   "metadata": {},
   "source": [
    "**we dont have the duplicate dates and we don't have NOT'EQ' values in the 'Series' Column**"
   ]
  },
  {
   "cell_type": "markdown",
   "metadata": {},
   "source": [
    "#### 1.1.4 Analyze and understand `raymond` DataFrame properly."
   ]
  },
  {
   "cell_type": "markdown",
   "metadata": {},
   "source": [
    " - **`tail(n)` - Gives last n rows which equivalent to last n days**.<br>\n",
    " - **`describe(n)`- Generates descriptive statistics of raymond data**.<br>\n",
    " - **`head(n)`- Gives first n rows which equivalent to first n days**"
   ]
  },
  {
   "cell_type": "code",
   "execution_count": 309,
   "metadata": {},
   "outputs": [
    {
     "data": {
      "text/html": [
       "<div>\n",
       "<style scoped>\n",
       "    .dataframe tbody tr th:only-of-type {\n",
       "        vertical-align: middle;\n",
       "    }\n",
       "\n",
       "    .dataframe tbody tr th {\n",
       "        vertical-align: top;\n",
       "    }\n",
       "\n",
       "    .dataframe thead th {\n",
       "        text-align: right;\n",
       "    }\n",
       "</style>\n",
       "<table border=\"1\" class=\"dataframe\">\n",
       "  <thead>\n",
       "    <tr style=\"text-align: right;\">\n",
       "      <th></th>\n",
       "      <th>Symbol</th>\n",
       "      <th>Series</th>\n",
       "      <th>Date</th>\n",
       "      <th>Prev Close</th>\n",
       "      <th>Open Price</th>\n",
       "      <th>High Price</th>\n",
       "      <th>Low Price</th>\n",
       "      <th>Last Price</th>\n",
       "      <th>Close Price</th>\n",
       "      <th>Average Price</th>\n",
       "      <th>Total Traded Quantity</th>\n",
       "      <th>Turnover</th>\n",
       "      <th>No. of Trades</th>\n",
       "      <th>Deliverable Qty</th>\n",
       "      <th>% Dly Qt to Traded Qty</th>\n",
       "    </tr>\n",
       "  </thead>\n",
       "  <tbody>\n",
       "    <tr>\n",
       "      <th>0</th>\n",
       "      <td>RAYMOND</td>\n",
       "      <td>EQ</td>\n",
       "      <td>15-May-2017</td>\n",
       "      <td>763.45</td>\n",
       "      <td>765.00</td>\n",
       "      <td>779.00</td>\n",
       "      <td>757.05</td>\n",
       "      <td>773.9</td>\n",
       "      <td>772.80</td>\n",
       "      <td>770.09</td>\n",
       "      <td>292498</td>\n",
       "      <td>2.252491e+08</td>\n",
       "      <td>9033</td>\n",
       "      <td>55467</td>\n",
       "      <td>18.96</td>\n",
       "    </tr>\n",
       "    <tr>\n",
       "      <th>1</th>\n",
       "      <td>RAYMOND</td>\n",
       "      <td>EQ</td>\n",
       "      <td>16-May-2017</td>\n",
       "      <td>772.80</td>\n",
       "      <td>773.45</td>\n",
       "      <td>801.45</td>\n",
       "      <td>768.10</td>\n",
       "      <td>783.5</td>\n",
       "      <td>785.00</td>\n",
       "      <td>788.89</td>\n",
       "      <td>823956</td>\n",
       "      <td>6.500070e+08</td>\n",
       "      <td>18238</td>\n",
       "      <td>179377</td>\n",
       "      <td>21.77</td>\n",
       "    </tr>\n",
       "    <tr>\n",
       "      <th>2</th>\n",
       "      <td>RAYMOND</td>\n",
       "      <td>EQ</td>\n",
       "      <td>17-May-2017</td>\n",
       "      <td>785.00</td>\n",
       "      <td>786.00</td>\n",
       "      <td>804.95</td>\n",
       "      <td>778.40</td>\n",
       "      <td>785.5</td>\n",
       "      <td>783.65</td>\n",
       "      <td>792.72</td>\n",
       "      <td>598094</td>\n",
       "      <td>4.741212e+08</td>\n",
       "      <td>13968</td>\n",
       "      <td>127637</td>\n",
       "      <td>21.34</td>\n",
       "    </tr>\n",
       "    <tr>\n",
       "      <th>3</th>\n",
       "      <td>RAYMOND</td>\n",
       "      <td>EQ</td>\n",
       "      <td>18-May-2017</td>\n",
       "      <td>783.65</td>\n",
       "      <td>779.35</td>\n",
       "      <td>779.95</td>\n",
       "      <td>740.20</td>\n",
       "      <td>744.0</td>\n",
       "      <td>746.95</td>\n",
       "      <td>762.57</td>\n",
       "      <td>319834</td>\n",
       "      <td>2.438956e+08</td>\n",
       "      <td>7713</td>\n",
       "      <td>92200</td>\n",
       "      <td>28.83</td>\n",
       "    </tr>\n",
       "    <tr>\n",
       "      <th>4</th>\n",
       "      <td>RAYMOND</td>\n",
       "      <td>EQ</td>\n",
       "      <td>19-May-2017</td>\n",
       "      <td>746.95</td>\n",
       "      <td>748.00</td>\n",
       "      <td>767.50</td>\n",
       "      <td>714.00</td>\n",
       "      <td>722.0</td>\n",
       "      <td>723.10</td>\n",
       "      <td>740.30</td>\n",
       "      <td>561346</td>\n",
       "      <td>4.155619e+08</td>\n",
       "      <td>13328</td>\n",
       "      <td>137648</td>\n",
       "      <td>24.52</td>\n",
       "    </tr>\n",
       "  </tbody>\n",
       "</table>\n",
       "</div>"
      ],
      "text/plain": [
       "    Symbol Series         Date  Prev Close  Open Price  High Price  Low Price  \\\n",
       "0  RAYMOND     EQ  15-May-2017      763.45      765.00      779.00     757.05   \n",
       "1  RAYMOND     EQ  16-May-2017      772.80      773.45      801.45     768.10   \n",
       "2  RAYMOND     EQ  17-May-2017      785.00      786.00      804.95     778.40   \n",
       "3  RAYMOND     EQ  18-May-2017      783.65      779.35      779.95     740.20   \n",
       "4  RAYMOND     EQ  19-May-2017      746.95      748.00      767.50     714.00   \n",
       "\n",
       "   Last Price  Close Price  Average Price  Total Traded Quantity  \\\n",
       "0       773.9       772.80         770.09                 292498   \n",
       "1       783.5       785.00         788.89                 823956   \n",
       "2       785.5       783.65         792.72                 598094   \n",
       "3       744.0       746.95         762.57                 319834   \n",
       "4       722.0       723.10         740.30                 561346   \n",
       "\n",
       "       Turnover  No. of Trades  Deliverable Qty  % Dly Qt to Traded Qty  \n",
       "0  2.252491e+08           9033            55467                   18.96  \n",
       "1  6.500070e+08          18238           179377                   21.77  \n",
       "2  4.741212e+08          13968           127637                   21.34  \n",
       "3  2.438956e+08           7713            92200                   28.83  \n",
       "4  4.155619e+08          13328           137648                   24.52  "
      ]
     },
     "execution_count": 309,
     "metadata": {},
     "output_type": "execute_result"
    }
   ],
   "source": [
    "raymond.head()"
   ]
  },
  {
   "cell_type": "code",
   "execution_count": 310,
   "metadata": {},
   "outputs": [
    {
     "data": {
      "text/html": [
       "<div>\n",
       "<style scoped>\n",
       "    .dataframe tbody tr th:only-of-type {\n",
       "        vertical-align: middle;\n",
       "    }\n",
       "\n",
       "    .dataframe tbody tr th {\n",
       "        vertical-align: top;\n",
       "    }\n",
       "\n",
       "    .dataframe thead th {\n",
       "        text-align: right;\n",
       "    }\n",
       "</style>\n",
       "<table border=\"1\" class=\"dataframe\">\n",
       "  <thead>\n",
       "    <tr style=\"text-align: right;\">\n",
       "      <th></th>\n",
       "      <th>Symbol</th>\n",
       "      <th>Series</th>\n",
       "      <th>Date</th>\n",
       "      <th>Prev Close</th>\n",
       "      <th>Open Price</th>\n",
       "      <th>High Price</th>\n",
       "      <th>Low Price</th>\n",
       "      <th>Last Price</th>\n",
       "      <th>Close Price</th>\n",
       "      <th>Average Price</th>\n",
       "      <th>Total Traded Quantity</th>\n",
       "      <th>Turnover</th>\n",
       "      <th>No. of Trades</th>\n",
       "      <th>Deliverable Qty</th>\n",
       "      <th>% Dly Qt to Traded Qty</th>\n",
       "    </tr>\n",
       "  </thead>\n",
       "  <tbody>\n",
       "    <tr>\n",
       "      <th>489</th>\n",
       "      <td>RAYMOND</td>\n",
       "      <td>EQ</td>\n",
       "      <td>07-May-2019</td>\n",
       "      <td>806.05</td>\n",
       "      <td>806.05</td>\n",
       "      <td>821.6</td>\n",
       "      <td>799.25</td>\n",
       "      <td>811.15</td>\n",
       "      <td>808.95</td>\n",
       "      <td>814.61</td>\n",
       "      <td>2038484</td>\n",
       "      <td>1.660574e+09</td>\n",
       "      <td>33444</td>\n",
       "      <td>321610</td>\n",
       "      <td>15.78</td>\n",
       "    </tr>\n",
       "    <tr>\n",
       "      <th>490</th>\n",
       "      <td>RAYMOND</td>\n",
       "      <td>EQ</td>\n",
       "      <td>08-May-2019</td>\n",
       "      <td>808.95</td>\n",
       "      <td>807.90</td>\n",
       "      <td>816.9</td>\n",
       "      <td>797.05</td>\n",
       "      <td>806.40</td>\n",
       "      <td>807.10</td>\n",
       "      <td>807.55</td>\n",
       "      <td>930010</td>\n",
       "      <td>7.510262e+08</td>\n",
       "      <td>19028</td>\n",
       "      <td>51327</td>\n",
       "      <td>5.52</td>\n",
       "    </tr>\n",
       "    <tr>\n",
       "      <th>491</th>\n",
       "      <td>RAYMOND</td>\n",
       "      <td>EQ</td>\n",
       "      <td>09-May-2019</td>\n",
       "      <td>807.10</td>\n",
       "      <td>801.00</td>\n",
       "      <td>811.1</td>\n",
       "      <td>798.00</td>\n",
       "      <td>805.25</td>\n",
       "      <td>805.30</td>\n",
       "      <td>804.23</td>\n",
       "      <td>425205</td>\n",
       "      <td>3.419611e+08</td>\n",
       "      <td>8608</td>\n",
       "      <td>34675</td>\n",
       "      <td>8.15</td>\n",
       "    </tr>\n",
       "    <tr>\n",
       "      <th>492</th>\n",
       "      <td>RAYMOND</td>\n",
       "      <td>EQ</td>\n",
       "      <td>10-May-2019</td>\n",
       "      <td>805.30</td>\n",
       "      <td>809.95</td>\n",
       "      <td>815.0</td>\n",
       "      <td>795.05</td>\n",
       "      <td>804.00</td>\n",
       "      <td>804.40</td>\n",
       "      <td>804.95</td>\n",
       "      <td>464539</td>\n",
       "      <td>3.739298e+08</td>\n",
       "      <td>9381</td>\n",
       "      <td>22009</td>\n",
       "      <td>4.74</td>\n",
       "    </tr>\n",
       "    <tr>\n",
       "      <th>493</th>\n",
       "      <td>RAYMOND</td>\n",
       "      <td>EQ</td>\n",
       "      <td>13-May-2019</td>\n",
       "      <td>804.40</td>\n",
       "      <td>803.00</td>\n",
       "      <td>803.0</td>\n",
       "      <td>774.75</td>\n",
       "      <td>782.00</td>\n",
       "      <td>779.35</td>\n",
       "      <td>789.32</td>\n",
       "      <td>342185</td>\n",
       "      <td>2.700928e+08</td>\n",
       "      <td>9023</td>\n",
       "      <td>29418</td>\n",
       "      <td>8.60</td>\n",
       "    </tr>\n",
       "  </tbody>\n",
       "</table>\n",
       "</div>"
      ],
      "text/plain": [
       "      Symbol Series         Date  Prev Close  Open Price  High Price  \\\n",
       "489  RAYMOND     EQ  07-May-2019      806.05      806.05       821.6   \n",
       "490  RAYMOND     EQ  08-May-2019      808.95      807.90       816.9   \n",
       "491  RAYMOND     EQ  09-May-2019      807.10      801.00       811.1   \n",
       "492  RAYMOND     EQ  10-May-2019      805.30      809.95       815.0   \n",
       "493  RAYMOND     EQ  13-May-2019      804.40      803.00       803.0   \n",
       "\n",
       "     Low Price  Last Price  Close Price  Average Price  Total Traded Quantity  \\\n",
       "489     799.25      811.15       808.95         814.61                2038484   \n",
       "490     797.05      806.40       807.10         807.55                 930010   \n",
       "491     798.00      805.25       805.30         804.23                 425205   \n",
       "492     795.05      804.00       804.40         804.95                 464539   \n",
       "493     774.75      782.00       779.35         789.32                 342185   \n",
       "\n",
       "         Turnover  No. of Trades  Deliverable Qty  % Dly Qt to Traded Qty  \n",
       "489  1.660574e+09          33444           321610                   15.78  \n",
       "490  7.510262e+08          19028            51327                    5.52  \n",
       "491  3.419611e+08           8608            34675                    8.15  \n",
       "492  3.739298e+08           9381            22009                    4.74  \n",
       "493  2.700928e+08           9023            29418                    8.60  "
      ]
     },
     "execution_count": 310,
     "metadata": {},
     "output_type": "execute_result"
    }
   ],
   "source": [
    "raymond.tail()"
   ]
  },
  {
   "cell_type": "code",
   "execution_count": 311,
   "metadata": {},
   "outputs": [
    {
     "data": {
      "text/html": [
       "<div>\n",
       "<style scoped>\n",
       "    .dataframe tbody tr th:only-of-type {\n",
       "        vertical-align: middle;\n",
       "    }\n",
       "\n",
       "    .dataframe tbody tr th {\n",
       "        vertical-align: top;\n",
       "    }\n",
       "\n",
       "    .dataframe thead th {\n",
       "        text-align: right;\n",
       "    }\n",
       "</style>\n",
       "<table border=\"1\" class=\"dataframe\">\n",
       "  <thead>\n",
       "    <tr style=\"text-align: right;\">\n",
       "      <th></th>\n",
       "      <th>Prev Close</th>\n",
       "      <th>Open Price</th>\n",
       "      <th>High Price</th>\n",
       "      <th>Low Price</th>\n",
       "      <th>Last Price</th>\n",
       "      <th>Close Price</th>\n",
       "      <th>Average Price</th>\n",
       "      <th>Total Traded Quantity</th>\n",
       "      <th>Turnover</th>\n",
       "      <th>No. of Trades</th>\n",
       "      <th>Deliverable Qty</th>\n",
       "      <th>% Dly Qt to Traded Qty</th>\n",
       "    </tr>\n",
       "  </thead>\n",
       "  <tbody>\n",
       "    <tr>\n",
       "      <th>count</th>\n",
       "      <td>494.000000</td>\n",
       "      <td>494.000000</td>\n",
       "      <td>494.000000</td>\n",
       "      <td>494.000000</td>\n",
       "      <td>494.000000</td>\n",
       "      <td>494.000000</td>\n",
       "      <td>494.000000</td>\n",
       "      <td>4.940000e+02</td>\n",
       "      <td>4.940000e+02</td>\n",
       "      <td>494.000000</td>\n",
       "      <td>494.000000</td>\n",
       "      <td>494.000000</td>\n",
       "    </tr>\n",
       "    <tr>\n",
       "      <th>mean</th>\n",
       "      <td>857.014879</td>\n",
       "      <td>858.730972</td>\n",
       "      <td>872.788765</td>\n",
       "      <td>843.176417</td>\n",
       "      <td>857.161842</td>\n",
       "      <td>857.047065</td>\n",
       "      <td>858.740729</td>\n",
       "      <td>6.996091e+05</td>\n",
       "      <td>5.940349e+08</td>\n",
       "      <td>16504.493927</td>\n",
       "      <td>125046.406883</td>\n",
       "      <td>18.723462</td>\n",
       "    </tr>\n",
       "    <tr>\n",
       "      <th>std</th>\n",
       "      <td>119.790034</td>\n",
       "      <td>120.556591</td>\n",
       "      <td>120.621563</td>\n",
       "      <td>119.405568</td>\n",
       "      <td>119.938925</td>\n",
       "      <td>119.766977</td>\n",
       "      <td>119.749048</td>\n",
       "      <td>5.598060e+05</td>\n",
       "      <td>4.619086e+08</td>\n",
       "      <td>11567.284242</td>\n",
       "      <td>95448.244753</td>\n",
       "      <td>7.572019</td>\n",
       "    </tr>\n",
       "    <tr>\n",
       "      <th>min</th>\n",
       "      <td>600.450000</td>\n",
       "      <td>606.000000</td>\n",
       "      <td>633.000000</td>\n",
       "      <td>593.000000</td>\n",
       "      <td>598.000000</td>\n",
       "      <td>600.450000</td>\n",
       "      <td>610.960000</td>\n",
       "      <td>6.071500e+04</td>\n",
       "      <td>4.590994e+07</td>\n",
       "      <td>1589.000000</td>\n",
       "      <td>15533.000000</td>\n",
       "      <td>4.740000</td>\n",
       "    </tr>\n",
       "    <tr>\n",
       "      <th>25%</th>\n",
       "      <td>774.412500</td>\n",
       "      <td>776.112500</td>\n",
       "      <td>789.250000</td>\n",
       "      <td>761.000000</td>\n",
       "      <td>775.662500</td>\n",
       "      <td>774.575000</td>\n",
       "      <td>776.320000</td>\n",
       "      <td>4.132282e+05</td>\n",
       "      <td>3.456062e+08</td>\n",
       "      <td>10303.500000</td>\n",
       "      <td>63414.000000</td>\n",
       "      <td>12.935000</td>\n",
       "    </tr>\n",
       "    <tr>\n",
       "      <th>50%</th>\n",
       "      <td>817.300000</td>\n",
       "      <td>822.000000</td>\n",
       "      <td>832.800000</td>\n",
       "      <td>808.700000</td>\n",
       "      <td>818.425000</td>\n",
       "      <td>817.300000</td>\n",
       "      <td>820.875000</td>\n",
       "      <td>5.443265e+05</td>\n",
       "      <td>4.706057e+08</td>\n",
       "      <td>13513.000000</td>\n",
       "      <td>96873.500000</td>\n",
       "      <td>17.340000</td>\n",
       "    </tr>\n",
       "    <tr>\n",
       "      <th>75%</th>\n",
       "      <td>946.125000</td>\n",
       "      <td>947.412500</td>\n",
       "      <td>964.937500</td>\n",
       "      <td>932.050000</td>\n",
       "      <td>949.250000</td>\n",
       "      <td>946.125000</td>\n",
       "      <td>949.725000</td>\n",
       "      <td>7.576688e+05</td>\n",
       "      <td>6.731828e+08</td>\n",
       "      <td>18785.250000</td>\n",
       "      <td>152829.500000</td>\n",
       "      <td>22.670000</td>\n",
       "    </tr>\n",
       "    <tr>\n",
       "      <th>max</th>\n",
       "      <td>1132.400000</td>\n",
       "      <td>1142.000000</td>\n",
       "      <td>1153.000000</td>\n",
       "      <td>1121.000000</td>\n",
       "      <td>1131.550000</td>\n",
       "      <td>1132.400000</td>\n",
       "      <td>1134.420000</td>\n",
       "      <td>4.933002e+06</td>\n",
       "      <td>4.876011e+09</td>\n",
       "      <td>104582.000000</td>\n",
       "      <td>768430.000000</td>\n",
       "      <td>45.880000</td>\n",
       "    </tr>\n",
       "  </tbody>\n",
       "</table>\n",
       "</div>"
      ],
      "text/plain": [
       "        Prev Close   Open Price   High Price    Low Price   Last Price  \\\n",
       "count   494.000000   494.000000   494.000000   494.000000   494.000000   \n",
       "mean    857.014879   858.730972   872.788765   843.176417   857.161842   \n",
       "std     119.790034   120.556591   120.621563   119.405568   119.938925   \n",
       "min     600.450000   606.000000   633.000000   593.000000   598.000000   \n",
       "25%     774.412500   776.112500   789.250000   761.000000   775.662500   \n",
       "50%     817.300000   822.000000   832.800000   808.700000   818.425000   \n",
       "75%     946.125000   947.412500   964.937500   932.050000   949.250000   \n",
       "max    1132.400000  1142.000000  1153.000000  1121.000000  1131.550000   \n",
       "\n",
       "       Close Price  Average Price  Total Traded Quantity      Turnover  \\\n",
       "count   494.000000     494.000000           4.940000e+02  4.940000e+02   \n",
       "mean    857.047065     858.740729           6.996091e+05  5.940349e+08   \n",
       "std     119.766977     119.749048           5.598060e+05  4.619086e+08   \n",
       "min     600.450000     610.960000           6.071500e+04  4.590994e+07   \n",
       "25%     774.575000     776.320000           4.132282e+05  3.456062e+08   \n",
       "50%     817.300000     820.875000           5.443265e+05  4.706057e+08   \n",
       "75%     946.125000     949.725000           7.576688e+05  6.731828e+08   \n",
       "max    1132.400000    1134.420000           4.933002e+06  4.876011e+09   \n",
       "\n",
       "       No. of Trades  Deliverable Qty  % Dly Qt to Traded Qty  \n",
       "count     494.000000       494.000000              494.000000  \n",
       "mean    16504.493927    125046.406883               18.723462  \n",
       "std     11567.284242     95448.244753                7.572019  \n",
       "min      1589.000000     15533.000000                4.740000  \n",
       "25%     10303.500000     63414.000000               12.935000  \n",
       "50%     13513.000000     96873.500000               17.340000  \n",
       "75%     18785.250000    152829.500000               22.670000  \n",
       "max    104582.000000    768430.000000               45.880000  "
      ]
     },
     "execution_count": 311,
     "metadata": {},
     "output_type": "execute_result"
    }
   ],
   "source": [
    "raymond.describe()"
   ]
  },
  {
   "cell_type": "code",
   "execution_count": 312,
   "metadata": {},
   "outputs": [
    {
     "data": {
      "text/html": [
       "<div>\n",
       "<style scoped>\n",
       "    .dataframe tbody tr th:only-of-type {\n",
       "        vertical-align: middle;\n",
       "    }\n",
       "\n",
       "    .dataframe tbody tr th {\n",
       "        vertical-align: top;\n",
       "    }\n",
       "\n",
       "    .dataframe thead th {\n",
       "        text-align: right;\n",
       "    }\n",
       "</style>\n",
       "<table border=\"1\" class=\"dataframe\">\n",
       "  <thead>\n",
       "    <tr style=\"text-align: right;\">\n",
       "      <th></th>\n",
       "      <th>count</th>\n",
       "      <th>mean</th>\n",
       "      <th>std</th>\n",
       "      <th>min</th>\n",
       "      <th>25%</th>\n",
       "      <th>50%</th>\n",
       "      <th>75%</th>\n",
       "      <th>max</th>\n",
       "    </tr>\n",
       "  </thead>\n",
       "  <tbody>\n",
       "    <tr>\n",
       "      <th>Prev Close</th>\n",
       "      <td>494.0</td>\n",
       "      <td>8.570149e+02</td>\n",
       "      <td>1.197900e+02</td>\n",
       "      <td>600.45</td>\n",
       "      <td>7.744125e+02</td>\n",
       "      <td>8.173000e+02</td>\n",
       "      <td>9.461250e+02</td>\n",
       "      <td>1.132400e+03</td>\n",
       "    </tr>\n",
       "    <tr>\n",
       "      <th>Open Price</th>\n",
       "      <td>494.0</td>\n",
       "      <td>8.587310e+02</td>\n",
       "      <td>1.205566e+02</td>\n",
       "      <td>606.00</td>\n",
       "      <td>7.761125e+02</td>\n",
       "      <td>8.220000e+02</td>\n",
       "      <td>9.474125e+02</td>\n",
       "      <td>1.142000e+03</td>\n",
       "    </tr>\n",
       "    <tr>\n",
       "      <th>High Price</th>\n",
       "      <td>494.0</td>\n",
       "      <td>8.727888e+02</td>\n",
       "      <td>1.206216e+02</td>\n",
       "      <td>633.00</td>\n",
       "      <td>7.892500e+02</td>\n",
       "      <td>8.328000e+02</td>\n",
       "      <td>9.649375e+02</td>\n",
       "      <td>1.153000e+03</td>\n",
       "    </tr>\n",
       "    <tr>\n",
       "      <th>Low Price</th>\n",
       "      <td>494.0</td>\n",
       "      <td>8.431764e+02</td>\n",
       "      <td>1.194056e+02</td>\n",
       "      <td>593.00</td>\n",
       "      <td>7.610000e+02</td>\n",
       "      <td>8.087000e+02</td>\n",
       "      <td>9.320500e+02</td>\n",
       "      <td>1.121000e+03</td>\n",
       "    </tr>\n",
       "    <tr>\n",
       "      <th>Last Price</th>\n",
       "      <td>494.0</td>\n",
       "      <td>8.571618e+02</td>\n",
       "      <td>1.199389e+02</td>\n",
       "      <td>598.00</td>\n",
       "      <td>7.756625e+02</td>\n",
       "      <td>8.184250e+02</td>\n",
       "      <td>9.492500e+02</td>\n",
       "      <td>1.131550e+03</td>\n",
       "    </tr>\n",
       "    <tr>\n",
       "      <th>Close Price</th>\n",
       "      <td>494.0</td>\n",
       "      <td>8.570471e+02</td>\n",
       "      <td>1.197670e+02</td>\n",
       "      <td>600.45</td>\n",
       "      <td>7.745750e+02</td>\n",
       "      <td>8.173000e+02</td>\n",
       "      <td>9.461250e+02</td>\n",
       "      <td>1.132400e+03</td>\n",
       "    </tr>\n",
       "    <tr>\n",
       "      <th>Average Price</th>\n",
       "      <td>494.0</td>\n",
       "      <td>8.587407e+02</td>\n",
       "      <td>1.197490e+02</td>\n",
       "      <td>610.96</td>\n",
       "      <td>7.763200e+02</td>\n",
       "      <td>8.208750e+02</td>\n",
       "      <td>9.497250e+02</td>\n",
       "      <td>1.134420e+03</td>\n",
       "    </tr>\n",
       "    <tr>\n",
       "      <th>Total Traded Quantity</th>\n",
       "      <td>494.0</td>\n",
       "      <td>6.996091e+05</td>\n",
       "      <td>5.598060e+05</td>\n",
       "      <td>60715.00</td>\n",
       "      <td>4.132282e+05</td>\n",
       "      <td>5.443265e+05</td>\n",
       "      <td>7.576688e+05</td>\n",
       "      <td>4.933002e+06</td>\n",
       "    </tr>\n",
       "    <tr>\n",
       "      <th>Turnover</th>\n",
       "      <td>494.0</td>\n",
       "      <td>5.940349e+08</td>\n",
       "      <td>4.619086e+08</td>\n",
       "      <td>45909935.50</td>\n",
       "      <td>3.456062e+08</td>\n",
       "      <td>4.706057e+08</td>\n",
       "      <td>6.731828e+08</td>\n",
       "      <td>4.876011e+09</td>\n",
       "    </tr>\n",
       "    <tr>\n",
       "      <th>No. of Trades</th>\n",
       "      <td>494.0</td>\n",
       "      <td>1.650449e+04</td>\n",
       "      <td>1.156728e+04</td>\n",
       "      <td>1589.00</td>\n",
       "      <td>1.030350e+04</td>\n",
       "      <td>1.351300e+04</td>\n",
       "      <td>1.878525e+04</td>\n",
       "      <td>1.045820e+05</td>\n",
       "    </tr>\n",
       "    <tr>\n",
       "      <th>Deliverable Qty</th>\n",
       "      <td>494.0</td>\n",
       "      <td>1.250464e+05</td>\n",
       "      <td>9.544824e+04</td>\n",
       "      <td>15533.00</td>\n",
       "      <td>6.341400e+04</td>\n",
       "      <td>9.687350e+04</td>\n",
       "      <td>1.528295e+05</td>\n",
       "      <td>7.684300e+05</td>\n",
       "    </tr>\n",
       "    <tr>\n",
       "      <th>% Dly Qt to Traded Qty</th>\n",
       "      <td>494.0</td>\n",
       "      <td>1.872346e+01</td>\n",
       "      <td>7.572019e+00</td>\n",
       "      <td>4.74</td>\n",
       "      <td>1.293500e+01</td>\n",
       "      <td>1.734000e+01</td>\n",
       "      <td>2.267000e+01</td>\n",
       "      <td>4.588000e+01</td>\n",
       "    </tr>\n",
       "  </tbody>\n",
       "</table>\n",
       "</div>"
      ],
      "text/plain": [
       "                        count          mean           std          min  \\\n",
       "Prev Close              494.0  8.570149e+02  1.197900e+02       600.45   \n",
       "Open Price              494.0  8.587310e+02  1.205566e+02       606.00   \n",
       "High Price              494.0  8.727888e+02  1.206216e+02       633.00   \n",
       "Low Price               494.0  8.431764e+02  1.194056e+02       593.00   \n",
       "Last Price              494.0  8.571618e+02  1.199389e+02       598.00   \n",
       "Close Price             494.0  8.570471e+02  1.197670e+02       600.45   \n",
       "Average Price           494.0  8.587407e+02  1.197490e+02       610.96   \n",
       "Total Traded Quantity   494.0  6.996091e+05  5.598060e+05     60715.00   \n",
       "Turnover                494.0  5.940349e+08  4.619086e+08  45909935.50   \n",
       "No. of Trades           494.0  1.650449e+04  1.156728e+04      1589.00   \n",
       "Deliverable Qty         494.0  1.250464e+05  9.544824e+04     15533.00   \n",
       "% Dly Qt to Traded Qty  494.0  1.872346e+01  7.572019e+00         4.74   \n",
       "\n",
       "                                 25%           50%           75%           max  \n",
       "Prev Close              7.744125e+02  8.173000e+02  9.461250e+02  1.132400e+03  \n",
       "Open Price              7.761125e+02  8.220000e+02  9.474125e+02  1.142000e+03  \n",
       "High Price              7.892500e+02  8.328000e+02  9.649375e+02  1.153000e+03  \n",
       "Low Price               7.610000e+02  8.087000e+02  9.320500e+02  1.121000e+03  \n",
       "Last Price              7.756625e+02  8.184250e+02  9.492500e+02  1.131550e+03  \n",
       "Close Price             7.745750e+02  8.173000e+02  9.461250e+02  1.132400e+03  \n",
       "Average Price           7.763200e+02  8.208750e+02  9.497250e+02  1.134420e+03  \n",
       "Total Traded Quantity   4.132282e+05  5.443265e+05  7.576688e+05  4.933002e+06  \n",
       "Turnover                3.456062e+08  4.706057e+08  6.731828e+08  4.876011e+09  \n",
       "No. of Trades           1.030350e+04  1.351300e+04  1.878525e+04  1.045820e+05  \n",
       "Deliverable Qty         6.341400e+04  9.687350e+04  1.528295e+05  7.684300e+05  \n",
       "% Dly Qt to Traded Qty  1.293500e+01  1.734000e+01  2.267000e+01  4.588000e+01  "
      ]
     },
     "execution_count": 312,
     "metadata": {},
     "output_type": "execute_result"
    }
   ],
   "source": [
    "raymond.describe().transpose()"
   ]
  },
  {
   "cell_type": "markdown",
   "metadata": {},
   "source": [
    "## PROBLEM STATEMENT-1.2"
   ]
  },
  {
   "cell_type": "markdown",
   "metadata": {},
   "source": [
    "Calculate the maximum, minimum and mean price for the last 90 days. <br> (price=Closing Price unless stated otherwise)"
   ]
  },
  {
   "cell_type": "markdown",
   "metadata": {},
   "source": [
    " - **`tail(n)` - Gives last n rows which equivalent to last n days**.<br>\n",
    " - **`describe(n)`- Generates descriptive statistics of raymond data**.<br>\n",
    " - **`head(n)`- Gives first n rows which equivalent to first n days**"
   ]
  },
  {
   "cell_type": "code",
   "execution_count": 313,
   "metadata": {},
   "outputs": [],
   "source": [
    "max = raymond['Close Price'].tail(90).max(axis = 0)\n",
    "min = raymond['Close Price'].tail(90).min(axis = 0)\n",
    "mean = raymond['Close Price'].tail(90).mean(axis = 0)"
   ]
  },
  {
   "cell_type": "code",
   "execution_count": 314,
   "metadata": {},
   "outputs": [
    {
     "name": "stdout",
     "output_type": "stream",
     "text": [
      "844.75 653.7 779.3216666666666\n"
     ]
    }
   ],
   "source": [
    "print(max,min,mean)"
   ]
  },
  {
   "cell_type": "code",
   "execution_count": 315,
   "metadata": {},
   "outputs": [
    {
     "name": "stdout",
     "output_type": "stream",
     "text": [
      "max: 844.75\n"
     ]
    }
   ],
   "source": [
    "print(\"max:\",max)"
   ]
  },
  {
   "cell_type": "code",
   "execution_count": 316,
   "metadata": {},
   "outputs": [
    {
     "name": "stdout",
     "output_type": "stream",
     "text": [
      "min: 653.7\n",
      "mean: 779.3216666666666\n"
     ]
    }
   ],
   "source": [
    "print(\"min:\",min)\n",
    "print(\"mean:\",mean)"
   ]
  },
  {
   "cell_type": "markdown",
   "metadata": {},
   "source": [
    "## PROBLEM STATEMENT-1.3"
   ]
  },
  {
   "cell_type": "markdown",
   "metadata": {},
   "source": [
    "Analysing the data types for each column of the dataframe. Pandas knows how to deal with dates in an intelligent manner. But to make use of Pandas functionality for dates, you need to ensure that the column is of type 'datetime64(ns)'. Change the date column from 'object' type to 'datetime64(ns)' for future convenience. See what happens if you subtract the minimum value of the date column from the maximum value."
   ]
  },
  {
   "cell_type": "markdown",
   "metadata": {},
   "source": [
    "#### Analysing the data types for each column of the \"raymond\""
   ]
  },
  {
   "cell_type": "code",
   "execution_count": 317,
   "metadata": {},
   "outputs": [
    {
     "data": {
      "text/plain": [
       "Symbol                     object\n",
       "Series                     object\n",
       "Date                       object\n",
       "Prev Close                float64\n",
       "Open Price                float64\n",
       "High Price                float64\n",
       "Low Price                 float64\n",
       "Last Price                float64\n",
       "Close Price               float64\n",
       "Average Price             float64\n",
       "Total Traded Quantity       int64\n",
       "Turnover                  float64\n",
       "No. of Trades               int64\n",
       "Deliverable Qty             int64\n",
       "% Dly Qt to Traded Qty    float64\n",
       "dtype: object"
      ]
     },
     "execution_count": 317,
     "metadata": {},
     "output_type": "execute_result"
    }
   ],
   "source": [
    "raymond.dtypes"
   ]
  },
  {
   "cell_type": "markdown",
   "metadata": {},
   "source": [
    "#### Changing the `date` column from 'object' type to 'datetime64(ns)'"
   ]
  },
  {
   "cell_type": "code",
   "execution_count": 318,
   "metadata": {},
   "outputs": [],
   "source": [
    "raymond['Date'] = raymond['Date'].astype('datetime64')"
   ]
  },
  {
   "cell_type": "markdown",
   "metadata": {},
   "source": [
    "##### Checking Changed Datatypes"
   ]
  },
  {
   "cell_type": "code",
   "execution_count": 319,
   "metadata": {},
   "outputs": [
    {
     "data": {
      "text/plain": [
       "Symbol                            object\n",
       "Series                            object\n",
       "Date                      datetime64[ns]\n",
       "Prev Close                       float64\n",
       "Open Price                       float64\n",
       "High Price                       float64\n",
       "Low Price                        float64\n",
       "Last Price                       float64\n",
       "Close Price                      float64\n",
       "Average Price                    float64\n",
       "Total Traded Quantity              int64\n",
       "Turnover                         float64\n",
       "No. of Trades                      int64\n",
       "Deliverable Qty                    int64\n",
       "% Dly Qt to Traded Qty           float64\n",
       "dtype: object"
      ]
     },
     "execution_count": 319,
     "metadata": {},
     "output_type": "execute_result"
    }
   ],
   "source": [
    "raymond.dtypes"
   ]
  },
  {
   "cell_type": "markdown",
   "metadata": {},
   "source": [
    "#### subtracting the minimum value of the `date` column from the maximum value."
   ]
  },
  {
   "cell_type": "code",
   "execution_count": 320,
   "metadata": {},
   "outputs": [],
   "source": [
    "maxdate=raymond['Date'].max()"
   ]
  },
  {
   "cell_type": "code",
   "execution_count": 321,
   "metadata": {},
   "outputs": [],
   "source": [
    "mindate=raymond['Date'].min()"
   ]
  },
  {
   "cell_type": "code",
   "execution_count": 322,
   "metadata": {},
   "outputs": [
    {
     "data": {
      "text/plain": [
       "Timedelta('728 days 00:00:00')"
      ]
     },
     "execution_count": 322,
     "metadata": {},
     "output_type": "execute_result"
    }
   ],
   "source": [
    "maxdate-mindate"
   ]
  },
  {
   "cell_type": "markdown",
   "metadata": {},
   "source": [
    "#### Here we can see that it showing the days between max and min of `date` column"
   ]
  },
  {
   "cell_type": "code",
   "execution_count": 323,
   "metadata": {},
   "outputs": [
    {
     "name": "stdout",
     "output_type": "stream",
     "text": [
      "No:of Days:- 728 days 00:00:00\n"
     ]
    }
   ],
   "source": [
    "print(\"No:of Days:-\",maxdate-mindate)"
   ]
  },
  {
   "cell_type": "code",
   "execution_count": 324,
   "metadata": {},
   "outputs": [],
   "source": [
    "import warnings"
   ]
  },
  {
   "cell_type": "code",
   "execution_count": 325,
   "metadata": {},
   "outputs": [],
   "source": [
    "warnings.filterwarnings('ignore')"
   ]
  },
  {
   "cell_type": "markdown",
   "metadata": {},
   "source": [
    "## PROBLEM STATEMENT-1.4"
   ]
  },
  {
   "cell_type": "markdown",
   "metadata": {},
   "source": [
    "\n",
    "In a separate array , calculate the monthwise VWAP (Volume Weighted Average Price ) of the stock.<br>\n",
    "*`( VWAP = sum(price * volume)/sum(volume) )`*<br>\n",
    "To know more about VWAP , visit - [VWAP definition](https://www.investopedia.com/terms/v/vwap.asp)<br>\n",
    "{Hint : Create a new dataframe column ‘Month’. The values for this column can be derived from the ‘Date” column by using appropriate pandas functions. Similarly, create a column ‘Year’ and initialize it. Then use the 'groupby()' function by month and year. Finally, calculate the vwap value for each month (i.e. for each group created)."
   ]
  },
  {
   "cell_type": "code",
   "execution_count": 326,
   "metadata": {},
   "outputs": [],
   "source": [
    "raymond['Year'] = pd.DatetimeIndex(raymond.Date).year"
   ]
  },
  {
   "cell_type": "code",
   "execution_count": 327,
   "metadata": {},
   "outputs": [],
   "source": [
    "raymond['Month'] = pd.DatetimeIndex(raymond.Date).month"
   ]
  },
  {
   "cell_type": "markdown",
   "metadata": {},
   "source": [
    "#### Here\n",
    "- ####  \"`Total Traded Quantity`\" => Volume\n",
    "- #### \"`Close Price`\" => Price"
   ]
  },
  {
   "cell_type": "code",
   "execution_count": 328,
   "metadata": {},
   "outputs": [
    {
     "data": {
      "text/html": [
       "<div>\n",
       "<style scoped>\n",
       "    .dataframe tbody tr th:only-of-type {\n",
       "        vertical-align: middle;\n",
       "    }\n",
       "\n",
       "    .dataframe tbody tr th {\n",
       "        vertical-align: top;\n",
       "    }\n",
       "\n",
       "    .dataframe thead th {\n",
       "        text-align: right;\n",
       "    }\n",
       "</style>\n",
       "<table border=\"1\" class=\"dataframe\">\n",
       "  <thead>\n",
       "    <tr style=\"text-align: right;\">\n",
       "      <th></th>\n",
       "      <th>Symbol</th>\n",
       "      <th>Series</th>\n",
       "      <th>Date</th>\n",
       "      <th>Prev Close</th>\n",
       "      <th>Open Price</th>\n",
       "      <th>High Price</th>\n",
       "      <th>Low Price</th>\n",
       "      <th>Last Price</th>\n",
       "      <th>Close Price</th>\n",
       "      <th>Average Price</th>\n",
       "      <th>Total Traded Quantity</th>\n",
       "      <th>Turnover</th>\n",
       "      <th>No. of Trades</th>\n",
       "      <th>Deliverable Qty</th>\n",
       "      <th>% Dly Qt to Traded Qty</th>\n",
       "      <th>Year</th>\n",
       "      <th>Month</th>\n",
       "    </tr>\n",
       "  </thead>\n",
       "  <tbody>\n",
       "    <tr>\n",
       "      <th>0</th>\n",
       "      <td>RAYMOND</td>\n",
       "      <td>EQ</td>\n",
       "      <td>2017-05-15</td>\n",
       "      <td>763.45</td>\n",
       "      <td>765.0</td>\n",
       "      <td>779.0</td>\n",
       "      <td>757.05</td>\n",
       "      <td>773.9</td>\n",
       "      <td>772.8</td>\n",
       "      <td>770.09</td>\n",
       "      <td>292498</td>\n",
       "      <td>2.252491e+08</td>\n",
       "      <td>9033</td>\n",
       "      <td>55467</td>\n",
       "      <td>18.96</td>\n",
       "      <td>2017</td>\n",
       "      <td>5</td>\n",
       "    </tr>\n",
       "  </tbody>\n",
       "</table>\n",
       "</div>"
      ],
      "text/plain": [
       "    Symbol Series       Date  Prev Close  Open Price  High Price  Low Price  \\\n",
       "0  RAYMOND     EQ 2017-05-15      763.45       765.0       779.0     757.05   \n",
       "\n",
       "   Last Price  Close Price  Average Price  Total Traded Quantity  \\\n",
       "0       773.9        772.8         770.09                 292498   \n",
       "\n",
       "       Turnover  No. of Trades  Deliverable Qty  % Dly Qt to Traded Qty  Year  \\\n",
       "0  2.252491e+08           9033            55467                   18.96  2017   \n",
       "\n",
       "   Month  \n",
       "0      5  "
      ]
     },
     "execution_count": 328,
     "metadata": {},
     "output_type": "execute_result"
    }
   ],
   "source": [
    "raymond.head(1)"
   ]
  },
  {
   "cell_type": "markdown",
   "metadata": {},
   "source": [
    "<h4 align=center>Let implement VWAP formula</h4>\n",
    "\n",
    "$$VWAP= \\frac{\\sum_{}price*volume}{\\sum_{}volume}$$"
   ]
  },
  {
   "cell_type": "code",
   "execution_count": 329,
   "metadata": {},
   "outputs": [],
   "source": [
    "raymond['VWAP'] = (raymond['Close Price'] * raymond['Total Traded Quantity']).cumsum() / raymond['Total Traded Quantity'].fillna(0).cumsum()\n",
    "vwap = raymond[['Year','Month','VWAP']]\n",
    "group = vwap.groupby(['Year','Month'])"
   ]
  },
  {
   "cell_type": "code",
   "execution_count": 330,
   "metadata": {},
   "outputs": [
    {
     "data": {
      "text/html": [
       "<div>\n",
       "<style scoped>\n",
       "    .dataframe tbody tr th:only-of-type {\n",
       "        vertical-align: middle;\n",
       "    }\n",
       "\n",
       "    .dataframe tbody tr th {\n",
       "        vertical-align: top;\n",
       "    }\n",
       "\n",
       "    .dataframe thead th {\n",
       "        text-align: right;\n",
       "    }\n",
       "</style>\n",
       "<table border=\"1\" class=\"dataframe\">\n",
       "  <thead>\n",
       "    <tr style=\"text-align: right;\">\n",
       "      <th></th>\n",
       "      <th></th>\n",
       "      <th>VWAP</th>\n",
       "    </tr>\n",
       "    <tr>\n",
       "      <th>Year</th>\n",
       "      <th>Month</th>\n",
       "      <th></th>\n",
       "    </tr>\n",
       "  </thead>\n",
       "  <tbody>\n",
       "    <tr>\n",
       "      <th rowspan=\"8\" valign=\"top\">2017</th>\n",
       "      <th>5</th>\n",
       "      <td>772.800000</td>\n",
       "    </tr>\n",
       "    <tr>\n",
       "      <th>6</th>\n",
       "      <td>711.343029</td>\n",
       "    </tr>\n",
       "    <tr>\n",
       "      <th>7</th>\n",
       "      <td>723.670339</td>\n",
       "    </tr>\n",
       "    <tr>\n",
       "      <th>8</th>\n",
       "      <td>755.678298</td>\n",
       "    </tr>\n",
       "    <tr>\n",
       "      <th>9</th>\n",
       "      <td>757.419173</td>\n",
       "    </tr>\n",
       "    <tr>\n",
       "      <th>10</th>\n",
       "      <td>786.321648</td>\n",
       "    </tr>\n",
       "    <tr>\n",
       "      <th>11</th>\n",
       "      <td>803.725228</td>\n",
       "    </tr>\n",
       "    <tr>\n",
       "      <th>12</th>\n",
       "      <td>827.836545</td>\n",
       "    </tr>\n",
       "    <tr>\n",
       "      <th rowspan=\"12\" valign=\"top\">2018</th>\n",
       "      <th>1</th>\n",
       "      <td>845.789518</td>\n",
       "    </tr>\n",
       "    <tr>\n",
       "      <th>2</th>\n",
       "      <td>867.821008</td>\n",
       "    </tr>\n",
       "    <tr>\n",
       "      <th>3</th>\n",
       "      <td>873.796597</td>\n",
       "    </tr>\n",
       "    <tr>\n",
       "      <th>4</th>\n",
       "      <td>876.390565</td>\n",
       "    </tr>\n",
       "    <tr>\n",
       "      <th>5</th>\n",
       "      <td>897.595992</td>\n",
       "    </tr>\n",
       "    <tr>\n",
       "      <th>6</th>\n",
       "      <td>906.560240</td>\n",
       "    </tr>\n",
       "    <tr>\n",
       "      <th>7</th>\n",
       "      <td>909.586288</td>\n",
       "    </tr>\n",
       "    <tr>\n",
       "      <th>8</th>\n",
       "      <td>905.042164</td>\n",
       "    </tr>\n",
       "    <tr>\n",
       "      <th>9</th>\n",
       "      <td>896.765783</td>\n",
       "    </tr>\n",
       "    <tr>\n",
       "      <th>10</th>\n",
       "      <td>890.751551</td>\n",
       "    </tr>\n",
       "    <tr>\n",
       "      <th>11</th>\n",
       "      <td>874.466223</td>\n",
       "    </tr>\n",
       "    <tr>\n",
       "      <th>12</th>\n",
       "      <td>869.737108</td>\n",
       "    </tr>\n",
       "    <tr>\n",
       "      <th rowspan=\"5\" valign=\"top\">2019</th>\n",
       "      <th>1</th>\n",
       "      <td>868.119442</td>\n",
       "    </tr>\n",
       "    <tr>\n",
       "      <th>2</th>\n",
       "      <td>864.691768</td>\n",
       "    </tr>\n",
       "    <tr>\n",
       "      <th>3</th>\n",
       "      <td>854.005697</td>\n",
       "    </tr>\n",
       "    <tr>\n",
       "      <th>4</th>\n",
       "      <td>851.928282</td>\n",
       "    </tr>\n",
       "    <tr>\n",
       "      <th>5</th>\n",
       "      <td>849.273254</td>\n",
       "    </tr>\n",
       "  </tbody>\n",
       "</table>\n",
       "</div>"
      ],
      "text/plain": [
       "                  VWAP\n",
       "Year Month            \n",
       "2017 5      772.800000\n",
       "     6      711.343029\n",
       "     7      723.670339\n",
       "     8      755.678298\n",
       "     9      757.419173\n",
       "     10     786.321648\n",
       "     11     803.725228\n",
       "     12     827.836545\n",
       "2018 1      845.789518\n",
       "     2      867.821008\n",
       "     3      873.796597\n",
       "     4      876.390565\n",
       "     5      897.595992\n",
       "     6      906.560240\n",
       "     7      909.586288\n",
       "     8      905.042164\n",
       "     9      896.765783\n",
       "     10     890.751551\n",
       "     11     874.466223\n",
       "     12     869.737108\n",
       "2019 1      868.119442\n",
       "     2      864.691768\n",
       "     3      854.005697\n",
       "     4      851.928282\n",
       "     5      849.273254"
      ]
     },
     "execution_count": 330,
     "metadata": {},
     "output_type": "execute_result"
    }
   ],
   "source": [
    "group.first()"
   ]
  },
  {
   "cell_type": "markdown",
   "metadata": {},
   "source": [
    "## PROBLEM STATEMENT-1.5"
   ]
  },
  {
   "cell_type": "markdown",
   "metadata": {},
   "source": [
    "Write a function to calculate the average price over the last N days of the stock price data where N is a user defined parameter. Write a second function to calculate the profit/loss percentage over the last N days.<br>\n",
    "Calculate the average price AND the profit/loss percentages over the course of last -<br>\n",
    "1 week, 2 weeks, 1 month, 3 months, 6 months and 1 year.<br>\n",
    "{Note : Profit/Loss percentage between N days is the percentage change between the closing prices of the 2 days }"
   ]
  },
  {
   "cell_type": "markdown",
   "metadata": {},
   "source": [
    "####  Writing a function to calculate the average price over the last N days of the raymond stock price data"
   ]
  },
  {
   "cell_type": "code",
   "execution_count": 331,
   "metadata": {},
   "outputs": [],
   "source": [
    "def last_N_days_avg_price(dataframe, N):\n",
    "    return dataframe.tail(N)[\"Average Price\"].mean()"
   ]
  },
  {
   "cell_type": "code",
   "execution_count": 332,
   "metadata": {},
   "outputs": [
    {
     "data": {
      "text/plain": [
       "797.6191111111115"
      ]
     },
     "execution_count": 332,
     "metadata": {},
     "output_type": "execute_result"
    }
   ],
   "source": [
    "last_N_days_avg_price(raymond, 45)"
   ]
  },
  {
   "cell_type": "code",
   "execution_count": 333,
   "metadata": {},
   "outputs": [
    {
     "data": {
      "text/plain": [
       "' \\n>>>N=int(input(\"enter N last days\"))\\n    last_N_days_avg_price(raymond, N)\\nOut[]: enter N last days90\\n       780.7442222222222\\n'"
      ]
     },
     "execution_count": 333,
     "metadata": {},
     "output_type": "execute_result"
    }
   ],
   "source": [
    "\"\"\" \n",
    ">>>N=int(input(\"enter N last days\"))\n",
    "    last_N_days_avg_price(raymond, N)\n",
    "Out[]: enter N last days90\n",
    "       780.7442222222222\n",
    "\"\"\""
   ]
  },
  {
   "cell_type": "markdown",
   "metadata": {},
   "source": [
    "#### 1.5.2 Write a second function to calculate the profit/loss percentage over the last N days."
   ]
  },
  {
   "cell_type": "markdown",
   "metadata": {},
   "source": [
    "$$Profit / Loss Percentage= \\frac{Close Price - Prev Close}{Prev Close}*100$$"
   ]
  },
  {
   "cell_type": "code",
   "execution_count": 334,
   "metadata": {},
   "outputs": [],
   "source": [
    "def last_N_days_prof_loss(dataframe,n):\n",
    "    difference = (dataframe['Close Price'].tail(n).iloc[n-1] - dataframe['Close Price'].tail(n).iloc[0])\n",
    "    if difference < 0 :\n",
    "        loss = -(difference)\n",
    "        loss_percen = (loss/dataframe['Close Price'].tail(n).iloc[n-1])*100\n",
    "        return loss_percen\n",
    "    if difference > 0 :\n",
    "        profit = difference\n",
    "        profit_percen = (profit/dataframe['Close Price'].tail(n).iloc[n-1])*100\n",
    "        return profit_percen"
   ]
  },
  {
   "cell_type": "code",
   "execution_count": 335,
   "metadata": {},
   "outputs": [
    {
     "data": {
      "text/plain": [
       "0.988002822865214"
      ]
     },
     "execution_count": 335,
     "metadata": {},
     "output_type": "execute_result"
    }
   ],
   "source": [
    "last_N_days_prof_loss(raymond,9)"
   ]
  },
  {
   "cell_type": "code",
   "execution_count": 336,
   "metadata": {},
   "outputs": [
    {
     "data": {
      "text/plain": [
       "'\\n>>>n=int(input(\"enter N last days\"))\\n...last_N_days_prof_loss(raymond, n)\\n\\nOut[]: enter N last days9\\n        0.988002822865214\\n'"
      ]
     },
     "execution_count": 336,
     "metadata": {},
     "output_type": "execute_result"
    }
   ],
   "source": [
    "\"\"\"\n",
    ">>>n=int(input(\"enter N last days\"))\n",
    "...last_N_days_prof_loss(raymond, n)\n",
    "\n",
    "Out[]: enter N last days9\n",
    "        0.988002822865214\n",
    "\"\"\""
   ]
  },
  {
   "cell_type": "markdown",
   "metadata": {},
   "source": [
    "As we Know the stock market is open for a 5 days in a week\n",
    "So,Lets Consider 5 days a week"
   ]
  },
  {
   "cell_type": "code",
   "execution_count": 337,
   "metadata": {},
   "outputs": [],
   "source": [
    "def profit_loss_percentage(dataframe, days=None, weeks=None, months=None, years=None):\n",
    "    if days:\n",
    "        print(\"Profit/Loss Percentage For\",days,\"day.\" if days==1 else \"days.\",\"\\n\",'-'*10)\n",
    "        return last_N_days_prof_loss(dataframe, days)\n",
    "    elif weeks:\n",
    "        print(\"Profit/Loss Percentage For\",weeks,\"week.\" if weeks==1 else \"weeks.\",\"\\n\",'-'*10)\n",
    "        day = weeks * 5\n",
    "        return last_N_days_prof_loss(dataframe, day)\n",
    "    elif months:\n",
    "        print(\"Profit/Loss Percentage For\",months,\"month.\" if months==1 else \"months.\",\"\\n\",'-'*10)\n",
    "        day = months * 21\n",
    "        return last_N_days_prof_loss(dataframe, day)  \n",
    "    elif years:\n",
    "        print(\"Profit/Loss Percentage For\",years,\"year.\" if years==1 else \"years.\",\"\\n\",'-'*10)\n",
    "        day = years * 252\n",
    "        return last_N_days_prof_loss(dataframe, day)"
   ]
  },
  {
   "cell_type": "markdown",
   "metadata": {},
   "source": [
    "####  Calculate the Profit/Loss Percentages  over the course of last :\n",
    "- 1 week, \n",
    "- 2 weeks, \n",
    "- 1 month, \n",
    "- 3 months, \n",
    "- 6 months,\n",
    "- 1 year."
   ]
  },
  {
   "cell_type": "code",
   "execution_count": 338,
   "metadata": {},
   "outputs": [
    {
     "name": "stdout",
     "output_type": "stream",
     "text": [
      "Profit/Loss Percentage For 1 week. \n",
      " ----------\n"
     ]
    },
    {
     "data": {
      "text/plain": [
       "3.7980368255597643"
      ]
     },
     "execution_count": 338,
     "metadata": {},
     "output_type": "execute_result"
    }
   ],
   "source": [
    "profit_loss_percentage(raymond, weeks=1)"
   ]
  },
  {
   "cell_type": "code",
   "execution_count": 339,
   "metadata": {},
   "outputs": [
    {
     "name": "stdout",
     "output_type": "stream",
     "text": [
      "Profit/Loss Percentage For 2 weeks. \n",
      " ----------\n"
     ]
    },
    {
     "data": {
      "text/plain": [
       "2.8613588246615853"
      ]
     },
     "execution_count": 339,
     "metadata": {},
     "output_type": "execute_result"
    }
   ],
   "source": [
    "profit_loss_percentage(raymond, weeks=2)"
   ]
  },
  {
   "cell_type": "code",
   "execution_count": 340,
   "metadata": {},
   "outputs": [
    {
     "name": "stdout",
     "output_type": "stream",
     "text": [
      "Profit/Loss Percentage For 1 month. \n",
      " ----------\n"
     ]
    },
    {
     "data": {
      "text/plain": [
       "0.2694553153268779"
      ]
     },
     "execution_count": 340,
     "metadata": {},
     "output_type": "execute_result"
    }
   ],
   "source": [
    "profit_loss_percentage(raymond, months=1)"
   ]
  },
  {
   "cell_type": "code",
   "execution_count": 341,
   "metadata": {},
   "outputs": [
    {
     "name": "stdout",
     "output_type": "stream",
     "text": [
      "Profit/Loss Percentage For 3 months. \n",
      " ----------\n"
     ]
    },
    {
     "data": {
      "text/plain": [
       "8.757297748123435"
      ]
     },
     "execution_count": 341,
     "metadata": {},
     "output_type": "execute_result"
    }
   ],
   "source": [
    "profit_loss_percentage(raymond, months=3)"
   ]
  },
  {
   "cell_type": "code",
   "execution_count": 342,
   "metadata": {},
   "outputs": [
    {
     "name": "stdout",
     "output_type": "stream",
     "text": [
      "Profit/Loss Percentage For 6 months. \n",
      " ----------\n"
     ]
    },
    {
     "data": {
      "text/plain": [
       "3.6633091678963323"
      ]
     },
     "execution_count": 342,
     "metadata": {},
     "output_type": "execute_result"
    }
   ],
   "source": [
    "profit_loss_percentage(raymond, months=6)"
   ]
  },
  {
   "cell_type": "code",
   "execution_count": 343,
   "metadata": {},
   "outputs": [
    {
     "name": "stdout",
     "output_type": "stream",
     "text": [
      "Profit/Loss Percentage For 1 year. \n",
      " ----------\n"
     ]
    },
    {
     "data": {
      "text/plain": [
       "42.29806890357349"
      ]
     },
     "execution_count": 343,
     "metadata": {},
     "output_type": "execute_result"
    }
   ],
   "source": [
    "profit_loss_percentage(raymond, years=1)"
   ]
  },
  {
   "cell_type": "code",
   "execution_count": 344,
   "metadata": {},
   "outputs": [],
   "source": [
    "def avg_price(dataframe, days=None, weeks=None, months=None, years=None):\n",
    "    if days:\n",
    "        print(\"Average Price For\",days,\"day.\" if days==1 else \"days.\",\"\\n\",'-'*10)\n",
    "        return last_N_days_avg_price(dataframe, days)\n",
    "    \n",
    "    elif weeks:\n",
    "        print(\"Average Price For\",weeks,\"week.\" if weeks==1 else \"weeks.\",\"\\n\",'-'*10)\n",
    "        day = weeks * 5\n",
    "        return last_N_days_avg_price(dataframe, day)\n",
    "    \n",
    "    elif months:\n",
    "        print(\"Average Price For\",months,\"month.\" if months==1 else \"months.\",\"\\n\",'-'*10)\n",
    "        day = months * 21\n",
    "        return last_N_days_avg_price(dataframe, day)\n",
    "        \n",
    "    elif years:\n",
    "        print(\"Average Price For\",years,\"year.\" if years==1 else \"years.\",\"\\n\",'-'*10)\n",
    "        day = years * 252\n",
    "        return last_N_days_avg_price(dataframe, day)"
   ]
  },
  {
   "cell_type": "markdown",
   "metadata": {},
   "source": [
    "#### Calculate the Average Price over the course of last :\n",
    "- 1 week, \n",
    "- 2 weeks, \n",
    "- 1 month, \n",
    "- 3 months, \n",
    "- 6 months,\n",
    "- 1 year."
   ]
  },
  {
   "cell_type": "code",
   "execution_count": 345,
   "metadata": {},
   "outputs": [
    {
     "name": "stdout",
     "output_type": "stream",
     "text": [
      "Average Price For 1 week. \n",
      " ----------\n",
      "804.1320000000001\n"
     ]
    }
   ],
   "source": [
    "print(avg_price(raymond,weeks=1))"
   ]
  },
  {
   "cell_type": "code",
   "execution_count": 346,
   "metadata": {},
   "outputs": [
    {
     "name": "stdout",
     "output_type": "stream",
     "text": [
      "Average Price For 2 weeks. \n",
      " ----------\n",
      "783.2669999999999\n",
      "Average Price For 1 month. \n",
      " ----------\n",
      "779.7204761904762\n",
      "Average Price For 3 months. \n",
      " ----------\n",
      "773.1585714285712\n",
      "Average Price For 6 months. \n",
      " ----------\n",
      "788.3922222222221\n",
      "Average Price For 1 year. \n",
      " ----------\n",
      "820.0887301587297\n"
     ]
    }
   ],
   "source": [
    "print(avg_price(raymond,weeks=2))\n",
    "print(avg_price(raymond,months=1))\n",
    "print(avg_price(raymond,months=3))\n",
    "print(avg_price(raymond,months=6))\n",
    "print(avg_price(raymond,years=1))"
   ]
  },
  {
   "cell_type": "code",
   "execution_count": 347,
   "metadata": {},
   "outputs": [
    {
     "data": {
      "text/html": [
       "<div>\n",
       "<style scoped>\n",
       "    .dataframe tbody tr th:only-of-type {\n",
       "        vertical-align: middle;\n",
       "    }\n",
       "\n",
       "    .dataframe tbody tr th {\n",
       "        vertical-align: top;\n",
       "    }\n",
       "\n",
       "    .dataframe thead th {\n",
       "        text-align: right;\n",
       "    }\n",
       "</style>\n",
       "<table border=\"1\" class=\"dataframe\">\n",
       "  <thead>\n",
       "    <tr style=\"text-align: right;\">\n",
       "      <th></th>\n",
       "      <th>Symbol</th>\n",
       "      <th>Series</th>\n",
       "      <th>Date</th>\n",
       "      <th>Prev Close</th>\n",
       "      <th>Open Price</th>\n",
       "      <th>High Price</th>\n",
       "      <th>Low Price</th>\n",
       "      <th>Last Price</th>\n",
       "      <th>Close Price</th>\n",
       "      <th>Average Price</th>\n",
       "      <th>Total Traded Quantity</th>\n",
       "      <th>Turnover</th>\n",
       "      <th>No. of Trades</th>\n",
       "      <th>Deliverable Qty</th>\n",
       "      <th>% Dly Qt to Traded Qty</th>\n",
       "      <th>Year</th>\n",
       "      <th>Month</th>\n",
       "      <th>VWAP</th>\n",
       "    </tr>\n",
       "  </thead>\n",
       "  <tbody>\n",
       "    <tr>\n",
       "      <th>0</th>\n",
       "      <td>RAYMOND</td>\n",
       "      <td>EQ</td>\n",
       "      <td>2017-05-15</td>\n",
       "      <td>763.45</td>\n",
       "      <td>765.00</td>\n",
       "      <td>779.00</td>\n",
       "      <td>757.05</td>\n",
       "      <td>773.9</td>\n",
       "      <td>772.80</td>\n",
       "      <td>770.09</td>\n",
       "      <td>292498</td>\n",
       "      <td>2.252491e+08</td>\n",
       "      <td>9033</td>\n",
       "      <td>55467</td>\n",
       "      <td>18.96</td>\n",
       "      <td>2017</td>\n",
       "      <td>5</td>\n",
       "      <td>772.800000</td>\n",
       "    </tr>\n",
       "    <tr>\n",
       "      <th>1</th>\n",
       "      <td>RAYMOND</td>\n",
       "      <td>EQ</td>\n",
       "      <td>2017-05-16</td>\n",
       "      <td>772.80</td>\n",
       "      <td>773.45</td>\n",
       "      <td>801.45</td>\n",
       "      <td>768.10</td>\n",
       "      <td>783.5</td>\n",
       "      <td>785.00</td>\n",
       "      <td>788.89</td>\n",
       "      <td>823956</td>\n",
       "      <td>6.500070e+08</td>\n",
       "      <td>18238</td>\n",
       "      <td>179377</td>\n",
       "      <td>21.77</td>\n",
       "      <td>2017</td>\n",
       "      <td>5</td>\n",
       "      <td>781.803741</td>\n",
       "    </tr>\n",
       "    <tr>\n",
       "      <th>2</th>\n",
       "      <td>RAYMOND</td>\n",
       "      <td>EQ</td>\n",
       "      <td>2017-05-17</td>\n",
       "      <td>785.00</td>\n",
       "      <td>786.00</td>\n",
       "      <td>804.95</td>\n",
       "      <td>778.40</td>\n",
       "      <td>785.5</td>\n",
       "      <td>783.65</td>\n",
       "      <td>792.72</td>\n",
       "      <td>598094</td>\n",
       "      <td>4.741212e+08</td>\n",
       "      <td>13968</td>\n",
       "      <td>127637</td>\n",
       "      <td>21.34</td>\n",
       "      <td>2017</td>\n",
       "      <td>5</td>\n",
       "      <td>782.447781</td>\n",
       "    </tr>\n",
       "    <tr>\n",
       "      <th>3</th>\n",
       "      <td>RAYMOND</td>\n",
       "      <td>EQ</td>\n",
       "      <td>2017-05-18</td>\n",
       "      <td>783.65</td>\n",
       "      <td>779.35</td>\n",
       "      <td>779.95</td>\n",
       "      <td>740.20</td>\n",
       "      <td>744.0</td>\n",
       "      <td>746.95</td>\n",
       "      <td>762.57</td>\n",
       "      <td>319834</td>\n",
       "      <td>2.438956e+08</td>\n",
       "      <td>7713</td>\n",
       "      <td>92200</td>\n",
       "      <td>28.83</td>\n",
       "      <td>2017</td>\n",
       "      <td>5</td>\n",
       "      <td>776.867021</td>\n",
       "    </tr>\n",
       "    <tr>\n",
       "      <th>4</th>\n",
       "      <td>RAYMOND</td>\n",
       "      <td>EQ</td>\n",
       "      <td>2017-05-19</td>\n",
       "      <td>746.95</td>\n",
       "      <td>748.00</td>\n",
       "      <td>767.50</td>\n",
       "      <td>714.00</td>\n",
       "      <td>722.0</td>\n",
       "      <td>723.10</td>\n",
       "      <td>740.30</td>\n",
       "      <td>561346</td>\n",
       "      <td>4.155619e+08</td>\n",
       "      <td>13328</td>\n",
       "      <td>137648</td>\n",
       "      <td>24.52</td>\n",
       "      <td>2017</td>\n",
       "      <td>5</td>\n",
       "      <td>765.239492</td>\n",
       "    </tr>\n",
       "  </tbody>\n",
       "</table>\n",
       "</div>"
      ],
      "text/plain": [
       "    Symbol Series       Date  Prev Close  Open Price  High Price  Low Price  \\\n",
       "0  RAYMOND     EQ 2017-05-15      763.45      765.00      779.00     757.05   \n",
       "1  RAYMOND     EQ 2017-05-16      772.80      773.45      801.45     768.10   \n",
       "2  RAYMOND     EQ 2017-05-17      785.00      786.00      804.95     778.40   \n",
       "3  RAYMOND     EQ 2017-05-18      783.65      779.35      779.95     740.20   \n",
       "4  RAYMOND     EQ 2017-05-19      746.95      748.00      767.50     714.00   \n",
       "\n",
       "   Last Price  Close Price  Average Price  Total Traded Quantity  \\\n",
       "0       773.9       772.80         770.09                 292498   \n",
       "1       783.5       785.00         788.89                 823956   \n",
       "2       785.5       783.65         792.72                 598094   \n",
       "3       744.0       746.95         762.57                 319834   \n",
       "4       722.0       723.10         740.30                 561346   \n",
       "\n",
       "       Turnover  No. of Trades  Deliverable Qty  % Dly Qt to Traded Qty  Year  \\\n",
       "0  2.252491e+08           9033            55467                   18.96  2017   \n",
       "1  6.500070e+08          18238           179377                   21.77  2017   \n",
       "2  4.741212e+08          13968           127637                   21.34  2017   \n",
       "3  2.438956e+08           7713            92200                   28.83  2017   \n",
       "4  4.155619e+08          13328           137648                   24.52  2017   \n",
       "\n",
       "   Month        VWAP  \n",
       "0      5  772.800000  \n",
       "1      5  781.803741  \n",
       "2      5  782.447781  \n",
       "3      5  776.867021  \n",
       "4      5  765.239492  "
      ]
     },
     "execution_count": 347,
     "metadata": {},
     "output_type": "execute_result"
    }
   ],
   "source": [
    "raymond.head()"
   ]
  },
  {
   "cell_type": "markdown",
   "metadata": {},
   "source": [
    "## PROBLEM STATEMENT-1.6\n",
    "Add a column 'Day_Perc_Change' where the values are the daily change in percentages i.e. the percentage change between 2 consecutive day's closing prices. Instead of using the basic mathematical formula for computing the same, use 'pct_change()' function provided by Pandas for dataframes. You will note that the first entry of the column will have a ‘Nan’ value. Why does this happen? Either remove the first row, or set the entry to 0 before proceeding."
   ]
  },
  {
   "cell_type": "markdown",
   "metadata": {},
   "source": [
    "#### pct_change()\n",
    "pct_change() this function only performs the (current-previous)/previous) <br/>\n",
    "so actually percentage change between 2 consecutive numbers is ((current-previous)/previous)x100 <br/>\n",
    "we are doing operation pc_change()*100"
   ]
  },
  {
   "cell_type": "code",
   "execution_count": 348,
   "metadata": {},
   "outputs": [
    {
     "data": {
      "text/html": [
       "<div>\n",
       "<style scoped>\n",
       "    .dataframe tbody tr th:only-of-type {\n",
       "        vertical-align: middle;\n",
       "    }\n",
       "\n",
       "    .dataframe tbody tr th {\n",
       "        vertical-align: top;\n",
       "    }\n",
       "\n",
       "    .dataframe thead th {\n",
       "        text-align: right;\n",
       "    }\n",
       "</style>\n",
       "<table border=\"1\" class=\"dataframe\">\n",
       "  <thead>\n",
       "    <tr style=\"text-align: right;\">\n",
       "      <th></th>\n",
       "      <th>Symbol</th>\n",
       "      <th>Series</th>\n",
       "      <th>Date</th>\n",
       "      <th>Prev Close</th>\n",
       "      <th>Open Price</th>\n",
       "      <th>High Price</th>\n",
       "      <th>Low Price</th>\n",
       "      <th>Last Price</th>\n",
       "      <th>Close Price</th>\n",
       "      <th>Average Price</th>\n",
       "      <th>Total Traded Quantity</th>\n",
       "      <th>Turnover</th>\n",
       "      <th>No. of Trades</th>\n",
       "      <th>Deliverable Qty</th>\n",
       "      <th>% Dly Qt to Traded Qty</th>\n",
       "      <th>Year</th>\n",
       "      <th>Month</th>\n",
       "      <th>VWAP</th>\n",
       "      <th>Day_Perc_Change</th>\n",
       "    </tr>\n",
       "  </thead>\n",
       "  <tbody>\n",
       "    <tr>\n",
       "      <th>0</th>\n",
       "      <td>RAYMOND</td>\n",
       "      <td>EQ</td>\n",
       "      <td>2017-05-15</td>\n",
       "      <td>763.45</td>\n",
       "      <td>765.00</td>\n",
       "      <td>779.00</td>\n",
       "      <td>757.05</td>\n",
       "      <td>773.9</td>\n",
       "      <td>772.80</td>\n",
       "      <td>770.09</td>\n",
       "      <td>292498</td>\n",
       "      <td>2.252491e+08</td>\n",
       "      <td>9033</td>\n",
       "      <td>55467</td>\n",
       "      <td>18.96</td>\n",
       "      <td>2017</td>\n",
       "      <td>5</td>\n",
       "      <td>772.800000</td>\n",
       "      <td>0.000000</td>\n",
       "    </tr>\n",
       "    <tr>\n",
       "      <th>1</th>\n",
       "      <td>RAYMOND</td>\n",
       "      <td>EQ</td>\n",
       "      <td>2017-05-16</td>\n",
       "      <td>772.80</td>\n",
       "      <td>773.45</td>\n",
       "      <td>801.45</td>\n",
       "      <td>768.10</td>\n",
       "      <td>783.5</td>\n",
       "      <td>785.00</td>\n",
       "      <td>788.89</td>\n",
       "      <td>823956</td>\n",
       "      <td>6.500070e+08</td>\n",
       "      <td>18238</td>\n",
       "      <td>179377</td>\n",
       "      <td>21.77</td>\n",
       "      <td>2017</td>\n",
       "      <td>5</td>\n",
       "      <td>781.803741</td>\n",
       "      <td>1.578675</td>\n",
       "    </tr>\n",
       "    <tr>\n",
       "      <th>2</th>\n",
       "      <td>RAYMOND</td>\n",
       "      <td>EQ</td>\n",
       "      <td>2017-05-17</td>\n",
       "      <td>785.00</td>\n",
       "      <td>786.00</td>\n",
       "      <td>804.95</td>\n",
       "      <td>778.40</td>\n",
       "      <td>785.5</td>\n",
       "      <td>783.65</td>\n",
       "      <td>792.72</td>\n",
       "      <td>598094</td>\n",
       "      <td>4.741212e+08</td>\n",
       "      <td>13968</td>\n",
       "      <td>127637</td>\n",
       "      <td>21.34</td>\n",
       "      <td>2017</td>\n",
       "      <td>5</td>\n",
       "      <td>782.447781</td>\n",
       "      <td>-0.171975</td>\n",
       "    </tr>\n",
       "    <tr>\n",
       "      <th>3</th>\n",
       "      <td>RAYMOND</td>\n",
       "      <td>EQ</td>\n",
       "      <td>2017-05-18</td>\n",
       "      <td>783.65</td>\n",
       "      <td>779.35</td>\n",
       "      <td>779.95</td>\n",
       "      <td>740.20</td>\n",
       "      <td>744.0</td>\n",
       "      <td>746.95</td>\n",
       "      <td>762.57</td>\n",
       "      <td>319834</td>\n",
       "      <td>2.438956e+08</td>\n",
       "      <td>7713</td>\n",
       "      <td>92200</td>\n",
       "      <td>28.83</td>\n",
       "      <td>2017</td>\n",
       "      <td>5</td>\n",
       "      <td>776.867021</td>\n",
       "      <td>-4.683213</td>\n",
       "    </tr>\n",
       "    <tr>\n",
       "      <th>4</th>\n",
       "      <td>RAYMOND</td>\n",
       "      <td>EQ</td>\n",
       "      <td>2017-05-19</td>\n",
       "      <td>746.95</td>\n",
       "      <td>748.00</td>\n",
       "      <td>767.50</td>\n",
       "      <td>714.00</td>\n",
       "      <td>722.0</td>\n",
       "      <td>723.10</td>\n",
       "      <td>740.30</td>\n",
       "      <td>561346</td>\n",
       "      <td>4.155619e+08</td>\n",
       "      <td>13328</td>\n",
       "      <td>137648</td>\n",
       "      <td>24.52</td>\n",
       "      <td>2017</td>\n",
       "      <td>5</td>\n",
       "      <td>765.239492</td>\n",
       "      <td>-3.192985</td>\n",
       "    </tr>\n",
       "  </tbody>\n",
       "</table>\n",
       "</div>"
      ],
      "text/plain": [
       "    Symbol Series       Date  Prev Close  Open Price  High Price  Low Price  \\\n",
       "0  RAYMOND     EQ 2017-05-15      763.45      765.00      779.00     757.05   \n",
       "1  RAYMOND     EQ 2017-05-16      772.80      773.45      801.45     768.10   \n",
       "2  RAYMOND     EQ 2017-05-17      785.00      786.00      804.95     778.40   \n",
       "3  RAYMOND     EQ 2017-05-18      783.65      779.35      779.95     740.20   \n",
       "4  RAYMOND     EQ 2017-05-19      746.95      748.00      767.50     714.00   \n",
       "\n",
       "   Last Price  Close Price  Average Price  Total Traded Quantity  \\\n",
       "0       773.9       772.80         770.09                 292498   \n",
       "1       783.5       785.00         788.89                 823956   \n",
       "2       785.5       783.65         792.72                 598094   \n",
       "3       744.0       746.95         762.57                 319834   \n",
       "4       722.0       723.10         740.30                 561346   \n",
       "\n",
       "       Turnover  No. of Trades  Deliverable Qty  % Dly Qt to Traded Qty  Year  \\\n",
       "0  2.252491e+08           9033            55467                   18.96  2017   \n",
       "1  6.500070e+08          18238           179377                   21.77  2017   \n",
       "2  4.741212e+08          13968           127637                   21.34  2017   \n",
       "3  2.438956e+08           7713            92200                   28.83  2017   \n",
       "4  4.155619e+08          13328           137648                   24.52  2017   \n",
       "\n",
       "   Month        VWAP  Day_Perc_Change  \n",
       "0      5  772.800000         0.000000  \n",
       "1      5  781.803741         1.578675  \n",
       "2      5  782.447781        -0.171975  \n",
       "3      5  776.867021        -4.683213  \n",
       "4      5  765.239492        -3.192985  "
      ]
     },
     "execution_count": 348,
     "metadata": {},
     "output_type": "execute_result"
    }
   ],
   "source": [
    "raymond[\"Day_Perc_Change\"] = raymond[\"Close Price\"].pct_change().fillna(value=0)*100\n",
    "raymond.head(5)"
   ]
  },
  {
   "cell_type": "markdown",
   "metadata": {},
   "source": [
    "## PROBLEM STATEMENT-1.7 \n",
    "Add another column `Trend` whose values are:\n",
    "\n",
    "- **'Slight or No change'** for 'Day_Perc_Change' in between -0.5 and 0.5\n",
    "- **'Slight positive'** for 'Day_Perc_Change' in between 0.5 and 1\n",
    "- **'Slight negative'** for 'Day_Perc_Change' in between -0.5 and -1\n",
    "- **'Positive'** for 'Day_Perc_Change' in between 1 and 3\n",
    "- **'Negative'** for 'Day_Perc_Change' in between -1 and -3\n",
    "- **'Among top gainers'** for 'Day_Perc_Change' in between 3 and 7\n",
    "- **'Among top losers'** for 'Day_Perc_Change' in between -3 and -7\n",
    "- **'Bull run'** for 'Day_Perc_Change' >7\n",
    "- **'Bear drop'** for 'Day_Perc_Change' <-7"
   ]
  },
  {
   "cell_type": "code",
   "execution_count": 350,
   "metadata": {},
   "outputs": [
    {
     "data": {
      "text/plain": [
       "[-inf, -7, -3, -1, -0.5, 0.5, 1, 3, 7, inf]"
      ]
     },
     "execution_count": 350,
     "metadata": {},
     "output_type": "execute_result"
    }
   ],
   "source": [
    "Cat_bins = [-pd.np.inf, -7, -3, -1, -0.5, 0.5, 1, 3, 7, pd.np.inf]\n",
    "Cat_bins"
   ]
  },
  {
   "cell_type": "code",
   "execution_count": 351,
   "metadata": {},
   "outputs": [
    {
     "data": {
      "text/plain": [
       "['Bear drop',\n",
       " 'Among top losers',\n",
       " 'Negative',\n",
       " 'Slight negative',\n",
       " 'Slight or No change',\n",
       " 'Slight positive',\n",
       " 'Positive',\n",
       " 'Among top gainers',\n",
       " 'Bull run']"
      ]
     },
     "execution_count": 351,
     "metadata": {},
     "output_type": "execute_result"
    }
   ],
   "source": [
    "Cat_labels = ['Bear drop','Among top losers','Negative','Slight negative','Slight or No change','Slight positive','Positive','Among top gainers','Bull run']\n",
    "Cat_labels"
   ]
  },
  {
   "cell_type": "code",
   "execution_count": 352,
   "metadata": {
    "scrolled": true
   },
   "outputs": [
    {
     "data": {
      "text/html": [
       "<div>\n",
       "<style scoped>\n",
       "    .dataframe tbody tr th:only-of-type {\n",
       "        vertical-align: middle;\n",
       "    }\n",
       "\n",
       "    .dataframe tbody tr th {\n",
       "        vertical-align: top;\n",
       "    }\n",
       "\n",
       "    .dataframe thead th {\n",
       "        text-align: right;\n",
       "    }\n",
       "</style>\n",
       "<table border=\"1\" class=\"dataframe\">\n",
       "  <thead>\n",
       "    <tr style=\"text-align: right;\">\n",
       "      <th></th>\n",
       "      <th>Symbol</th>\n",
       "      <th>Series</th>\n",
       "      <th>Date</th>\n",
       "      <th>Prev Close</th>\n",
       "      <th>Open Price</th>\n",
       "      <th>High Price</th>\n",
       "      <th>Low Price</th>\n",
       "      <th>Last Price</th>\n",
       "      <th>Close Price</th>\n",
       "      <th>Average Price</th>\n",
       "      <th>Total Traded Quantity</th>\n",
       "      <th>Turnover</th>\n",
       "      <th>No. of Trades</th>\n",
       "      <th>Deliverable Qty</th>\n",
       "      <th>% Dly Qt to Traded Qty</th>\n",
       "      <th>Year</th>\n",
       "      <th>Month</th>\n",
       "      <th>VWAP</th>\n",
       "      <th>Day_Perc_Change</th>\n",
       "      <th>Trend</th>\n",
       "    </tr>\n",
       "  </thead>\n",
       "  <tbody>\n",
       "    <tr>\n",
       "      <th>0</th>\n",
       "      <td>RAYMOND</td>\n",
       "      <td>EQ</td>\n",
       "      <td>2017-05-15</td>\n",
       "      <td>763.45</td>\n",
       "      <td>765.00</td>\n",
       "      <td>779.00</td>\n",
       "      <td>757.05</td>\n",
       "      <td>773.9</td>\n",
       "      <td>772.80</td>\n",
       "      <td>770.09</td>\n",
       "      <td>292498</td>\n",
       "      <td>2.252491e+08</td>\n",
       "      <td>9033</td>\n",
       "      <td>55467</td>\n",
       "      <td>18.96</td>\n",
       "      <td>2017</td>\n",
       "      <td>5</td>\n",
       "      <td>772.800000</td>\n",
       "      <td>0.000000</td>\n",
       "      <td>Slight or No change</td>\n",
       "    </tr>\n",
       "    <tr>\n",
       "      <th>1</th>\n",
       "      <td>RAYMOND</td>\n",
       "      <td>EQ</td>\n",
       "      <td>2017-05-16</td>\n",
       "      <td>772.80</td>\n",
       "      <td>773.45</td>\n",
       "      <td>801.45</td>\n",
       "      <td>768.10</td>\n",
       "      <td>783.5</td>\n",
       "      <td>785.00</td>\n",
       "      <td>788.89</td>\n",
       "      <td>823956</td>\n",
       "      <td>6.500070e+08</td>\n",
       "      <td>18238</td>\n",
       "      <td>179377</td>\n",
       "      <td>21.77</td>\n",
       "      <td>2017</td>\n",
       "      <td>5</td>\n",
       "      <td>781.803741</td>\n",
       "      <td>1.578675</td>\n",
       "      <td>Positive</td>\n",
       "    </tr>\n",
       "    <tr>\n",
       "      <th>2</th>\n",
       "      <td>RAYMOND</td>\n",
       "      <td>EQ</td>\n",
       "      <td>2017-05-17</td>\n",
       "      <td>785.00</td>\n",
       "      <td>786.00</td>\n",
       "      <td>804.95</td>\n",
       "      <td>778.40</td>\n",
       "      <td>785.5</td>\n",
       "      <td>783.65</td>\n",
       "      <td>792.72</td>\n",
       "      <td>598094</td>\n",
       "      <td>4.741212e+08</td>\n",
       "      <td>13968</td>\n",
       "      <td>127637</td>\n",
       "      <td>21.34</td>\n",
       "      <td>2017</td>\n",
       "      <td>5</td>\n",
       "      <td>782.447781</td>\n",
       "      <td>-0.171975</td>\n",
       "      <td>Slight or No change</td>\n",
       "    </tr>\n",
       "    <tr>\n",
       "      <th>3</th>\n",
       "      <td>RAYMOND</td>\n",
       "      <td>EQ</td>\n",
       "      <td>2017-05-18</td>\n",
       "      <td>783.65</td>\n",
       "      <td>779.35</td>\n",
       "      <td>779.95</td>\n",
       "      <td>740.20</td>\n",
       "      <td>744.0</td>\n",
       "      <td>746.95</td>\n",
       "      <td>762.57</td>\n",
       "      <td>319834</td>\n",
       "      <td>2.438956e+08</td>\n",
       "      <td>7713</td>\n",
       "      <td>92200</td>\n",
       "      <td>28.83</td>\n",
       "      <td>2017</td>\n",
       "      <td>5</td>\n",
       "      <td>776.867021</td>\n",
       "      <td>-4.683213</td>\n",
       "      <td>Among top losers</td>\n",
       "    </tr>\n",
       "    <tr>\n",
       "      <th>4</th>\n",
       "      <td>RAYMOND</td>\n",
       "      <td>EQ</td>\n",
       "      <td>2017-05-19</td>\n",
       "      <td>746.95</td>\n",
       "      <td>748.00</td>\n",
       "      <td>767.50</td>\n",
       "      <td>714.00</td>\n",
       "      <td>722.0</td>\n",
       "      <td>723.10</td>\n",
       "      <td>740.30</td>\n",
       "      <td>561346</td>\n",
       "      <td>4.155619e+08</td>\n",
       "      <td>13328</td>\n",
       "      <td>137648</td>\n",
       "      <td>24.52</td>\n",
       "      <td>2017</td>\n",
       "      <td>5</td>\n",
       "      <td>765.239492</td>\n",
       "      <td>-3.192985</td>\n",
       "      <td>Among top losers</td>\n",
       "    </tr>\n",
       "  </tbody>\n",
       "</table>\n",
       "</div>"
      ],
      "text/plain": [
       "    Symbol Series       Date  Prev Close  Open Price  High Price  Low Price  \\\n",
       "0  RAYMOND     EQ 2017-05-15      763.45      765.00      779.00     757.05   \n",
       "1  RAYMOND     EQ 2017-05-16      772.80      773.45      801.45     768.10   \n",
       "2  RAYMOND     EQ 2017-05-17      785.00      786.00      804.95     778.40   \n",
       "3  RAYMOND     EQ 2017-05-18      783.65      779.35      779.95     740.20   \n",
       "4  RAYMOND     EQ 2017-05-19      746.95      748.00      767.50     714.00   \n",
       "\n",
       "   Last Price  Close Price  Average Price  Total Traded Quantity  \\\n",
       "0       773.9       772.80         770.09                 292498   \n",
       "1       783.5       785.00         788.89                 823956   \n",
       "2       785.5       783.65         792.72                 598094   \n",
       "3       744.0       746.95         762.57                 319834   \n",
       "4       722.0       723.10         740.30                 561346   \n",
       "\n",
       "       Turnover  No. of Trades  Deliverable Qty  % Dly Qt to Traded Qty  Year  \\\n",
       "0  2.252491e+08           9033            55467                   18.96  2017   \n",
       "1  6.500070e+08          18238           179377                   21.77  2017   \n",
       "2  4.741212e+08          13968           127637                   21.34  2017   \n",
       "3  2.438956e+08           7713            92200                   28.83  2017   \n",
       "4  4.155619e+08          13328           137648                   24.52  2017   \n",
       "\n",
       "   Month        VWAP  Day_Perc_Change                Trend  \n",
       "0      5  772.800000         0.000000  Slight or No change  \n",
       "1      5  781.803741         1.578675             Positive  \n",
       "2      5  782.447781        -0.171975  Slight or No change  \n",
       "3      5  776.867021        -4.683213     Among top losers  \n",
       "4      5  765.239492        -3.192985     Among top losers  "
      ]
     },
     "execution_count": 352,
     "metadata": {},
     "output_type": "execute_result"
    }
   ],
   "source": [
    "raymond['Trend'] = pd.cut(raymond.Day_Perc_Change, bins=Category_bins, labels=Category_labels, include_lowest=True)\n",
    "raymond.head()"
   ]
  },
  {
   "cell_type": "markdown",
   "metadata": {},
   "source": [
    "## PROBLEM STATEMENT-1.8\n",
    "Find the average and median values of the column 'Total Traded Quantity' for each of the types of 'Trend'.<br>\n",
    "{Hint : use 'groupby()' on the 'Trend' column and then calculate the average and median values of the column 'Total Traded Quantity'}"
   ]
  },
  {
   "cell_type": "code",
   "execution_count": 356,
   "metadata": {},
   "outputs": [
    {
     "data": {
      "text/plain": [
       "Trend\n",
       "Bear drop              1.850032e+06\n",
       "Among top losers       6.611943e+05\n",
       "Negative               5.345620e+05\n",
       "Slight negative        6.256729e+05\n",
       "Slight or No change    5.919423e+05\n",
       "Slight positive        5.907689e+05\n",
       "Positive               7.240896e+05\n",
       "Among top gainers      1.463444e+06\n",
       "Bull run               2.503438e+06\n",
       "Name: Total Traded Quantity, dtype: float64"
      ]
     },
     "execution_count": 356,
     "metadata": {},
     "output_type": "execute_result"
    }
   ],
   "source": [
    "raymond.groupby(raymond.Trend).mean()['Total Traded Quantity']"
   ]
  },
  {
   "cell_type": "code",
   "execution_count": 357,
   "metadata": {},
   "outputs": [
    {
     "data": {
      "text/plain": [
       "Trend\n",
       "Bear drop              1054416.0\n",
       "Among top losers        589261.0\n",
       "Negative                481212.0\n",
       "Slight negative         494961.0\n",
       "Slight or No change     464539.0\n",
       "Slight positive         533556.0\n",
       "Positive                680800.0\n",
       "Among top gainers      1096681.0\n",
       "Bull run               2609890.0\n",
       "Name: Total Traded Quantity, dtype: float64"
      ]
     },
     "execution_count": 357,
     "metadata": {},
     "output_type": "execute_result"
    }
   ],
   "source": [
    "raymond.groupby(raymond.Trend).median()['Total Traded Quantity']"
   ]
  },
  {
   "cell_type": "code",
   "execution_count": 355,
   "metadata": {},
   "outputs": [
    {
     "data": {
      "text/html": [
       "<div>\n",
       "<style scoped>\n",
       "    .dataframe tbody tr th:only-of-type {\n",
       "        vertical-align: middle;\n",
       "    }\n",
       "\n",
       "    .dataframe tbody tr th {\n",
       "        vertical-align: top;\n",
       "    }\n",
       "\n",
       "    .dataframe thead th {\n",
       "        text-align: right;\n",
       "    }\n",
       "</style>\n",
       "<table border=\"1\" class=\"dataframe\">\n",
       "  <thead>\n",
       "    <tr style=\"text-align: right;\">\n",
       "      <th></th>\n",
       "      <th>average</th>\n",
       "      <th>median</th>\n",
       "    </tr>\n",
       "    <tr>\n",
       "      <th>Trend</th>\n",
       "      <th></th>\n",
       "      <th></th>\n",
       "    </tr>\n",
       "  </thead>\n",
       "  <tbody>\n",
       "    <tr>\n",
       "      <th>Bear drop</th>\n",
       "      <td>1.850032e+06</td>\n",
       "      <td>1054416</td>\n",
       "    </tr>\n",
       "    <tr>\n",
       "      <th>Among top losers</th>\n",
       "      <td>6.611943e+05</td>\n",
       "      <td>589261</td>\n",
       "    </tr>\n",
       "    <tr>\n",
       "      <th>Negative</th>\n",
       "      <td>5.345620e+05</td>\n",
       "      <td>481212</td>\n",
       "    </tr>\n",
       "    <tr>\n",
       "      <th>Slight negative</th>\n",
       "      <td>6.256729e+05</td>\n",
       "      <td>494961</td>\n",
       "    </tr>\n",
       "    <tr>\n",
       "      <th>Slight or No change</th>\n",
       "      <td>5.919423e+05</td>\n",
       "      <td>464539</td>\n",
       "    </tr>\n",
       "    <tr>\n",
       "      <th>Slight positive</th>\n",
       "      <td>5.907689e+05</td>\n",
       "      <td>533556</td>\n",
       "    </tr>\n",
       "    <tr>\n",
       "      <th>Positive</th>\n",
       "      <td>7.240896e+05</td>\n",
       "      <td>680800</td>\n",
       "    </tr>\n",
       "    <tr>\n",
       "      <th>Among top gainers</th>\n",
       "      <td>1.463444e+06</td>\n",
       "      <td>1096681</td>\n",
       "    </tr>\n",
       "    <tr>\n",
       "      <th>Bull run</th>\n",
       "      <td>2.503438e+06</td>\n",
       "      <td>2609890</td>\n",
       "    </tr>\n",
       "  </tbody>\n",
       "</table>\n",
       "</div>"
      ],
      "text/plain": [
       "                          average   median\n",
       "Trend                                     \n",
       "Bear drop            1.850032e+06  1054416\n",
       "Among top losers     6.611943e+05   589261\n",
       "Negative             5.345620e+05   481212\n",
       "Slight negative      6.256729e+05   494961\n",
       "Slight or No change  5.919423e+05   464539\n",
       "Slight positive      5.907689e+05   533556\n",
       "Positive             7.240896e+05   680800\n",
       "Among top gainers    1.463444e+06  1096681\n",
       "Bull run             2.503438e+06  2609890"
      ]
     },
     "execution_count": 355,
     "metadata": {},
     "output_type": "execute_result"
    }
   ],
   "source": [
    "avg_median_trendwise = raymond.groupby(by=\"Trend\")[\"Total Traded Quantity\"].agg(['mean','median']).rename(columns={'mean':'average'})\n",
    "avg_median_trendwise"
   ]
  },
  {
   "cell_type": "markdown",
   "metadata": {},
   "source": [
    "## PROBLEM STATEMENT-1.9\n",
    "SAVE the dataframe with the additional columns computed as a csv file week2.csv. In Module 2, you are going to get familiar with matplotlib, the python module which is used to visualize data. "
   ]
  },
  {
   "cell_type": "code",
   "execution_count": 358,
   "metadata": {},
   "outputs": [],
   "source": [
    "raymond.to_csv('./week2.csv')"
   ]
  },
  {
   "cell_type": "markdown",
   "metadata": {},
   "source": [
    "Saving Data-set Without Index"
   ]
  },
  {
   "cell_type": "code",
   "execution_count": 360,
   "metadata": {},
   "outputs": [],
   "source": [
    "raymond.to_csv(r'week21.csv', index=False)"
   ]
  },
  {
   "cell_type": "code",
   "execution_count": null,
   "metadata": {},
   "outputs": [],
   "source": []
  }
 ],
 "metadata": {
  "kernelspec": {
   "display_name": "Python 3",
   "language": "python",
   "name": "python3"
  },
  "language_info": {
   "codemirror_mode": {
    "name": "ipython",
    "version": 3
   },
   "file_extension": ".py",
   "mimetype": "text/x-python",
   "name": "python",
   "nbconvert_exporter": "python",
   "pygments_lexer": "ipython3",
   "version": "3.7.6"
  }
 },
 "nbformat": 4,
 "nbformat_minor": 4
}
