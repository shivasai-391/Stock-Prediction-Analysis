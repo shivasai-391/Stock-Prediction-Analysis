{
 "cells": [
  {
   "cell_type": "markdown",
   "metadata": {},
   "source": [
    "# <a id=\"id1\"><center>Module 5 - Modern Portfolio Theory</center></a>"
   ]
  },
  {
   "cell_type": "markdown",
   "metadata": {},
   "source": [
    "## <a id=\"id1\" style=\"color:#FF0000;\">Modern Portfolio Theory<a/>\n",
    "In this module, We’ll be looking at investment portfolio optimization with python, the fundamental concept of diversification and the creation of an efficient frontier that can be used by investors to choose specific mixes of assets based on investment goals; that is, the trade off between their desired level of portfolio return vs their desired level of portfolio risk.\n",
    "\n",
    "[Modern Portfolio Theory](https://www.investopedia.com/terms/m/modernportfoliotheory.asp) suggests that it is possible to construct an \"efficient frontier\" of optimal portfolios, offering the maximum possible expected return for a given level of risk. It suggests that it is not enough to look at the expected risk and return of one particular stock. By investing in more than one stock, an investor can reap the benefits of diversification, particularly a reduction in the riskiness of the portfolio. MPT quantifies the benefits of diversification, also known as not putting all of your eggs in one basket."
   ]
  },
  {
   "cell_type": "markdown",
   "metadata": {},
   "source": [
    "## <a id=\"id1\">Problem Statement 5.1</a>\n",
    "5.1 For your chosen stock, calculate the mean daily return and daily standard deviation of returns, and then just annualise them to get mean expected annual return and volatility of that single stock. **( annual mean = daily mean * 252 , annual stdev = daily stdev * sqrt(252) )**"
   ]
  },
  {
   "cell_type": "code",
   "execution_count": 51,
   "metadata": {},
   "outputs": [],
   "source": [
    "import pandas as pd\n",
    "import matplotlib.pyplot as plt\n",
    "import seaborn as sns\n",
    "import warnings\n",
    "warnings.simplefilter(\"ignore\")"
   ]
  },
  {
   "cell_type": "code",
   "execution_count": 52,
   "metadata": {
    "scrolled": true
   },
   "outputs": [
    {
     "data": {
      "text/html": [
       "<div>\n",
       "<style scoped>\n",
       "    .dataframe tbody tr th:only-of-type {\n",
       "        vertical-align: middle;\n",
       "    }\n",
       "\n",
       "    .dataframe tbody tr th {\n",
       "        vertical-align: top;\n",
       "    }\n",
       "\n",
       "    .dataframe thead th {\n",
       "        text-align: right;\n",
       "    }\n",
       "</style>\n",
       "<table border=\"1\" class=\"dataframe\">\n",
       "  <thead>\n",
       "    <tr style=\"text-align: right;\">\n",
       "      <th></th>\n",
       "      <th>Symbol</th>\n",
       "      <th>Series</th>\n",
       "      <th>Prev Close</th>\n",
       "      <th>Open Price</th>\n",
       "      <th>High Price</th>\n",
       "      <th>Low Price</th>\n",
       "      <th>Last Price</th>\n",
       "      <th>Close Price</th>\n",
       "      <th>Average Price</th>\n",
       "      <th>Total Traded Quantity</th>\n",
       "      <th>Turnover</th>\n",
       "      <th>No. of Trades</th>\n",
       "      <th>Deliverable Qty</th>\n",
       "      <th>% Dly Qt to Traded Qty</th>\n",
       "      <th>Year</th>\n",
       "      <th>Month</th>\n",
       "      <th>VWAP</th>\n",
       "      <th>Day_Perc_Change</th>\n",
       "      <th>Trend</th>\n",
       "    </tr>\n",
       "    <tr>\n",
       "      <th>Date</th>\n",
       "      <th></th>\n",
       "      <th></th>\n",
       "      <th></th>\n",
       "      <th></th>\n",
       "      <th></th>\n",
       "      <th></th>\n",
       "      <th></th>\n",
       "      <th></th>\n",
       "      <th></th>\n",
       "      <th></th>\n",
       "      <th></th>\n",
       "      <th></th>\n",
       "      <th></th>\n",
       "      <th></th>\n",
       "      <th></th>\n",
       "      <th></th>\n",
       "      <th></th>\n",
       "      <th></th>\n",
       "      <th></th>\n",
       "    </tr>\n",
       "  </thead>\n",
       "  <tbody>\n",
       "    <tr>\n",
       "      <th>2017-05-15</th>\n",
       "      <td>RAYMOND</td>\n",
       "      <td>EQ</td>\n",
       "      <td>763.45</td>\n",
       "      <td>765.00</td>\n",
       "      <td>779.00</td>\n",
       "      <td>757.05</td>\n",
       "      <td>773.9</td>\n",
       "      <td>772.80</td>\n",
       "      <td>770.09</td>\n",
       "      <td>292498</td>\n",
       "      <td>2.252491e+08</td>\n",
       "      <td>9033</td>\n",
       "      <td>55467</td>\n",
       "      <td>18.96</td>\n",
       "      <td>2017</td>\n",
       "      <td>5</td>\n",
       "      <td>772.800000</td>\n",
       "      <td>0.000000</td>\n",
       "      <td>Slight or No change</td>\n",
       "    </tr>\n",
       "    <tr>\n",
       "      <th>2017-05-16</th>\n",
       "      <td>RAYMOND</td>\n",
       "      <td>EQ</td>\n",
       "      <td>772.80</td>\n",
       "      <td>773.45</td>\n",
       "      <td>801.45</td>\n",
       "      <td>768.10</td>\n",
       "      <td>783.5</td>\n",
       "      <td>785.00</td>\n",
       "      <td>788.89</td>\n",
       "      <td>823956</td>\n",
       "      <td>6.500070e+08</td>\n",
       "      <td>18238</td>\n",
       "      <td>179377</td>\n",
       "      <td>21.77</td>\n",
       "      <td>2017</td>\n",
       "      <td>5</td>\n",
       "      <td>781.803741</td>\n",
       "      <td>1.578675</td>\n",
       "      <td>Positive</td>\n",
       "    </tr>\n",
       "    <tr>\n",
       "      <th>2017-05-17</th>\n",
       "      <td>RAYMOND</td>\n",
       "      <td>EQ</td>\n",
       "      <td>785.00</td>\n",
       "      <td>786.00</td>\n",
       "      <td>804.95</td>\n",
       "      <td>778.40</td>\n",
       "      <td>785.5</td>\n",
       "      <td>783.65</td>\n",
       "      <td>792.72</td>\n",
       "      <td>598094</td>\n",
       "      <td>4.741212e+08</td>\n",
       "      <td>13968</td>\n",
       "      <td>127637</td>\n",
       "      <td>21.34</td>\n",
       "      <td>2017</td>\n",
       "      <td>5</td>\n",
       "      <td>782.447781</td>\n",
       "      <td>-0.171975</td>\n",
       "      <td>Slight or No change</td>\n",
       "    </tr>\n",
       "    <tr>\n",
       "      <th>2017-05-18</th>\n",
       "      <td>RAYMOND</td>\n",
       "      <td>EQ</td>\n",
       "      <td>783.65</td>\n",
       "      <td>779.35</td>\n",
       "      <td>779.95</td>\n",
       "      <td>740.20</td>\n",
       "      <td>744.0</td>\n",
       "      <td>746.95</td>\n",
       "      <td>762.57</td>\n",
       "      <td>319834</td>\n",
       "      <td>2.438956e+08</td>\n",
       "      <td>7713</td>\n",
       "      <td>92200</td>\n",
       "      <td>28.83</td>\n",
       "      <td>2017</td>\n",
       "      <td>5</td>\n",
       "      <td>776.867021</td>\n",
       "      <td>-4.683213</td>\n",
       "      <td>Among top losers</td>\n",
       "    </tr>\n",
       "    <tr>\n",
       "      <th>2017-05-19</th>\n",
       "      <td>RAYMOND</td>\n",
       "      <td>EQ</td>\n",
       "      <td>746.95</td>\n",
       "      <td>748.00</td>\n",
       "      <td>767.50</td>\n",
       "      <td>714.00</td>\n",
       "      <td>722.0</td>\n",
       "      <td>723.10</td>\n",
       "      <td>740.30</td>\n",
       "      <td>561346</td>\n",
       "      <td>4.155619e+08</td>\n",
       "      <td>13328</td>\n",
       "      <td>137648</td>\n",
       "      <td>24.52</td>\n",
       "      <td>2017</td>\n",
       "      <td>5</td>\n",
       "      <td>765.239492</td>\n",
       "      <td>-3.192985</td>\n",
       "      <td>Among top losers</td>\n",
       "    </tr>\n",
       "  </tbody>\n",
       "</table>\n",
       "</div>"
      ],
      "text/plain": [
       "             Symbol Series  Prev Close  Open Price  High Price  Low Price  \\\n",
       "Date                                                                        \n",
       "2017-05-15  RAYMOND     EQ      763.45      765.00      779.00     757.05   \n",
       "2017-05-16  RAYMOND     EQ      772.80      773.45      801.45     768.10   \n",
       "2017-05-17  RAYMOND     EQ      785.00      786.00      804.95     778.40   \n",
       "2017-05-18  RAYMOND     EQ      783.65      779.35      779.95     740.20   \n",
       "2017-05-19  RAYMOND     EQ      746.95      748.00      767.50     714.00   \n",
       "\n",
       "            Last Price  Close Price  Average Price  Total Traded Quantity  \\\n",
       "Date                                                                        \n",
       "2017-05-15       773.9       772.80         770.09                 292498   \n",
       "2017-05-16       783.5       785.00         788.89                 823956   \n",
       "2017-05-17       785.5       783.65         792.72                 598094   \n",
       "2017-05-18       744.0       746.95         762.57                 319834   \n",
       "2017-05-19       722.0       723.10         740.30                 561346   \n",
       "\n",
       "                Turnover  No. of Trades  Deliverable Qty  \\\n",
       "Date                                                       \n",
       "2017-05-15  2.252491e+08           9033            55467   \n",
       "2017-05-16  6.500070e+08          18238           179377   \n",
       "2017-05-17  4.741212e+08          13968           127637   \n",
       "2017-05-18  2.438956e+08           7713            92200   \n",
       "2017-05-19  4.155619e+08          13328           137648   \n",
       "\n",
       "            % Dly Qt to Traded Qty  Year  Month        VWAP  Day_Perc_Change  \\\n",
       "Date                                                                           \n",
       "2017-05-15                   18.96  2017      5  772.800000         0.000000   \n",
       "2017-05-16                   21.77  2017      5  781.803741         1.578675   \n",
       "2017-05-17                   21.34  2017      5  782.447781        -0.171975   \n",
       "2017-05-18                   28.83  2017      5  776.867021        -4.683213   \n",
       "2017-05-19                   24.52  2017      5  765.239492        -3.192985   \n",
       "\n",
       "                          Trend  \n",
       "Date                             \n",
       "2017-05-15  Slight or No change  \n",
       "2017-05-16             Positive  \n",
       "2017-05-17  Slight or No change  \n",
       "2017-05-18     Among top losers  \n",
       "2017-05-19     Among top losers  "
      ]
     },
     "execution_count": 52,
     "metadata": {},
     "output_type": "execute_result"
    }
   ],
   "source": [
    "stock_data = pd.read_csv('./week2.csv', index_col = 0)\n",
    "stock_data.Date = pd.to_datetime(stock_data.Date)\n",
    "stock_data.set_index('Date', inplace = True)\n",
    "stock_data.head()"
   ]
  },
  {
   "cell_type": "markdown",
   "metadata": {},
   "source": [
    "**We already have the Daily Returns(`Day_Perc_Change`) Column in `stock_data` Dataframe.** <br>\n",
    "**But it is in Percentage format**"
   ]
  },
  {
   "cell_type": "code",
   "execution_count": 53,
   "metadata": {},
   "outputs": [
    {
     "data": {
      "text/plain": [
       "Date\n",
       "2017-05-15    0.000000\n",
       "2017-05-16    0.015787\n",
       "2017-05-17   -0.001720\n",
       "2017-05-18   -0.046832\n",
       "2017-05-19   -0.031930\n",
       "Name: Day_Perc_Change, dtype: float64"
      ]
     },
     "execution_count": 53,
     "metadata": {},
     "output_type": "execute_result"
    }
   ],
   "source": [
    "stock_data.Day_Perc_Change = stock_data['Close Price'].pct_change(fill_method='ffill').fillna(0)\n",
    "stock_data.Day_Perc_Change.head()"
   ]
  },
  {
   "cell_type": "code",
   "execution_count": 54,
   "metadata": {},
   "outputs": [
    {
     "data": {
      "text/html": [
       "<div>\n",
       "<style scoped>\n",
       "    .dataframe tbody tr th:only-of-type {\n",
       "        vertical-align: middle;\n",
       "    }\n",
       "\n",
       "    .dataframe tbody tr th {\n",
       "        vertical-align: top;\n",
       "    }\n",
       "\n",
       "    .dataframe thead th {\n",
       "        text-align: right;\n",
       "    }\n",
       "</style>\n",
       "<table border=\"1\" class=\"dataframe\">\n",
       "  <thead>\n",
       "    <tr style=\"text-align: right;\">\n",
       "      <th></th>\n",
       "      <th>Symbol</th>\n",
       "      <th>Series</th>\n",
       "      <th>Prev Close</th>\n",
       "      <th>Open Price</th>\n",
       "      <th>High Price</th>\n",
       "      <th>Low Price</th>\n",
       "      <th>Last Price</th>\n",
       "      <th>Close Price</th>\n",
       "      <th>Average Price</th>\n",
       "      <th>Total Traded Quantity</th>\n",
       "      <th>Turnover</th>\n",
       "      <th>No. of Trades</th>\n",
       "      <th>Deliverable Qty</th>\n",
       "      <th>% Dly Qt to Traded Qty</th>\n",
       "      <th>Year</th>\n",
       "      <th>Month</th>\n",
       "      <th>VWAP</th>\n",
       "      <th>Day_Perc_Change</th>\n",
       "      <th>Trend</th>\n",
       "    </tr>\n",
       "    <tr>\n",
       "      <th>Date</th>\n",
       "      <th></th>\n",
       "      <th></th>\n",
       "      <th></th>\n",
       "      <th></th>\n",
       "      <th></th>\n",
       "      <th></th>\n",
       "      <th></th>\n",
       "      <th></th>\n",
       "      <th></th>\n",
       "      <th></th>\n",
       "      <th></th>\n",
       "      <th></th>\n",
       "      <th></th>\n",
       "      <th></th>\n",
       "      <th></th>\n",
       "      <th></th>\n",
       "      <th></th>\n",
       "      <th></th>\n",
       "      <th></th>\n",
       "    </tr>\n",
       "  </thead>\n",
       "  <tbody>\n",
       "    <tr>\n",
       "      <th>2017-05-15</th>\n",
       "      <td>RAYMOND</td>\n",
       "      <td>EQ</td>\n",
       "      <td>763.45</td>\n",
       "      <td>765.00</td>\n",
       "      <td>779.00</td>\n",
       "      <td>757.05</td>\n",
       "      <td>773.9</td>\n",
       "      <td>772.80</td>\n",
       "      <td>770.09</td>\n",
       "      <td>292498</td>\n",
       "      <td>2.252491e+08</td>\n",
       "      <td>9033</td>\n",
       "      <td>55467</td>\n",
       "      <td>18.96</td>\n",
       "      <td>2017</td>\n",
       "      <td>5</td>\n",
       "      <td>772.800000</td>\n",
       "      <td>0.000000</td>\n",
       "      <td>Slight or No change</td>\n",
       "    </tr>\n",
       "    <tr>\n",
       "      <th>2017-05-16</th>\n",
       "      <td>RAYMOND</td>\n",
       "      <td>EQ</td>\n",
       "      <td>772.80</td>\n",
       "      <td>773.45</td>\n",
       "      <td>801.45</td>\n",
       "      <td>768.10</td>\n",
       "      <td>783.5</td>\n",
       "      <td>785.00</td>\n",
       "      <td>788.89</td>\n",
       "      <td>823956</td>\n",
       "      <td>6.500070e+08</td>\n",
       "      <td>18238</td>\n",
       "      <td>179377</td>\n",
       "      <td>21.77</td>\n",
       "      <td>2017</td>\n",
       "      <td>5</td>\n",
       "      <td>781.803741</td>\n",
       "      <td>0.015787</td>\n",
       "      <td>Positive</td>\n",
       "    </tr>\n",
       "    <tr>\n",
       "      <th>2017-05-17</th>\n",
       "      <td>RAYMOND</td>\n",
       "      <td>EQ</td>\n",
       "      <td>785.00</td>\n",
       "      <td>786.00</td>\n",
       "      <td>804.95</td>\n",
       "      <td>778.40</td>\n",
       "      <td>785.5</td>\n",
       "      <td>783.65</td>\n",
       "      <td>792.72</td>\n",
       "      <td>598094</td>\n",
       "      <td>4.741212e+08</td>\n",
       "      <td>13968</td>\n",
       "      <td>127637</td>\n",
       "      <td>21.34</td>\n",
       "      <td>2017</td>\n",
       "      <td>5</td>\n",
       "      <td>782.447781</td>\n",
       "      <td>-0.001720</td>\n",
       "      <td>Slight or No change</td>\n",
       "    </tr>\n",
       "    <tr>\n",
       "      <th>2017-05-18</th>\n",
       "      <td>RAYMOND</td>\n",
       "      <td>EQ</td>\n",
       "      <td>783.65</td>\n",
       "      <td>779.35</td>\n",
       "      <td>779.95</td>\n",
       "      <td>740.20</td>\n",
       "      <td>744.0</td>\n",
       "      <td>746.95</td>\n",
       "      <td>762.57</td>\n",
       "      <td>319834</td>\n",
       "      <td>2.438956e+08</td>\n",
       "      <td>7713</td>\n",
       "      <td>92200</td>\n",
       "      <td>28.83</td>\n",
       "      <td>2017</td>\n",
       "      <td>5</td>\n",
       "      <td>776.867021</td>\n",
       "      <td>-0.046832</td>\n",
       "      <td>Among top losers</td>\n",
       "    </tr>\n",
       "    <tr>\n",
       "      <th>2017-05-19</th>\n",
       "      <td>RAYMOND</td>\n",
       "      <td>EQ</td>\n",
       "      <td>746.95</td>\n",
       "      <td>748.00</td>\n",
       "      <td>767.50</td>\n",
       "      <td>714.00</td>\n",
       "      <td>722.0</td>\n",
       "      <td>723.10</td>\n",
       "      <td>740.30</td>\n",
       "      <td>561346</td>\n",
       "      <td>4.155619e+08</td>\n",
       "      <td>13328</td>\n",
       "      <td>137648</td>\n",
       "      <td>24.52</td>\n",
       "      <td>2017</td>\n",
       "      <td>5</td>\n",
       "      <td>765.239492</td>\n",
       "      <td>-0.031930</td>\n",
       "      <td>Among top losers</td>\n",
       "    </tr>\n",
       "  </tbody>\n",
       "</table>\n",
       "</div>"
      ],
      "text/plain": [
       "             Symbol Series  Prev Close  Open Price  High Price  Low Price  \\\n",
       "Date                                                                        \n",
       "2017-05-15  RAYMOND     EQ      763.45      765.00      779.00     757.05   \n",
       "2017-05-16  RAYMOND     EQ      772.80      773.45      801.45     768.10   \n",
       "2017-05-17  RAYMOND     EQ      785.00      786.00      804.95     778.40   \n",
       "2017-05-18  RAYMOND     EQ      783.65      779.35      779.95     740.20   \n",
       "2017-05-19  RAYMOND     EQ      746.95      748.00      767.50     714.00   \n",
       "\n",
       "            Last Price  Close Price  Average Price  Total Traded Quantity  \\\n",
       "Date                                                                        \n",
       "2017-05-15       773.9       772.80         770.09                 292498   \n",
       "2017-05-16       783.5       785.00         788.89                 823956   \n",
       "2017-05-17       785.5       783.65         792.72                 598094   \n",
       "2017-05-18       744.0       746.95         762.57                 319834   \n",
       "2017-05-19       722.0       723.10         740.30                 561346   \n",
       "\n",
       "                Turnover  No. of Trades  Deliverable Qty  \\\n",
       "Date                                                       \n",
       "2017-05-15  2.252491e+08           9033            55467   \n",
       "2017-05-16  6.500070e+08          18238           179377   \n",
       "2017-05-17  4.741212e+08          13968           127637   \n",
       "2017-05-18  2.438956e+08           7713            92200   \n",
       "2017-05-19  4.155619e+08          13328           137648   \n",
       "\n",
       "            % Dly Qt to Traded Qty  Year  Month        VWAP  Day_Perc_Change  \\\n",
       "Date                                                                           \n",
       "2017-05-15                   18.96  2017      5  772.800000         0.000000   \n",
       "2017-05-16                   21.77  2017      5  781.803741         0.015787   \n",
       "2017-05-17                   21.34  2017      5  782.447781        -0.001720   \n",
       "2017-05-18                   28.83  2017      5  776.867021        -0.046832   \n",
       "2017-05-19                   24.52  2017      5  765.239492        -0.031930   \n",
       "\n",
       "                          Trend  \n",
       "Date                             \n",
       "2017-05-15  Slight or No change  \n",
       "2017-05-16             Positive  \n",
       "2017-05-17  Slight or No change  \n",
       "2017-05-18     Among top losers  \n",
       "2017-05-19     Among top losers  "
      ]
     },
     "execution_count": 54,
     "metadata": {},
     "output_type": "execute_result"
    }
   ],
   "source": [
    "stock_data.head()"
   ]
  },
  {
   "cell_type": "markdown",
   "metadata": {},
   "source": [
    "#### Mean Daily Return\n",
    "Avoiding first record. Because it's NaN value"
   ]
  },
  {
   "cell_type": "code",
   "execution_count": 55,
   "metadata": {},
   "outputs": [
    {
     "data": {
      "text/plain": [
       "0.000277859"
      ]
     },
     "execution_count": 55,
     "metadata": {},
     "output_type": "execute_result"
    }
   ],
   "source": [
    "daily_mean = stock_data[1:].Day_Perc_Change.mean()\n",
    "round(daily_mean, 9)"
   ]
  },
  {
   "cell_type": "markdown",
   "metadata": {},
   "source": [
    "#### Daily Standard Deviation of Returns"
   ]
  },
  {
   "cell_type": "code",
   "execution_count": 56,
   "metadata": {},
   "outputs": [
    {
     "data": {
      "text/plain": [
       "0.02291942"
      ]
     },
     "execution_count": 56,
     "metadata": {},
     "output_type": "execute_result"
    }
   ],
   "source": [
    "daily_std = stock_data[1:].Day_Perc_Change.std()\n",
    "round(daily_std, 8)"
   ]
  },
  {
   "cell_type": "markdown",
   "metadata": {},
   "source": [
    "#### Annual Mean"
   ]
  },
  {
   "cell_type": "code",
   "execution_count": 57,
   "metadata": {},
   "outputs": [
    {
     "data": {
      "text/plain": [
       "0.07"
      ]
     },
     "execution_count": 57,
     "metadata": {},
     "output_type": "execute_result"
    }
   ],
   "source": [
    "annual_mean = daily_mean*252\n",
    "round(annual_mean, 4)"
   ]
  },
  {
   "cell_type": "markdown",
   "metadata": {},
   "source": [
    "#### Annual Standard Deviation"
   ]
  },
  {
   "cell_type": "code",
   "execution_count": 58,
   "metadata": {},
   "outputs": [
    {
     "data": {
      "text/plain": [
       "0.363834487"
      ]
     },
     "execution_count": 58,
     "metadata": {},
     "output_type": "execute_result"
    }
   ],
   "source": [
    "annual_std = daily_std*pd.np.sqrt(252)\n",
    "round(annual_std, 9)"
   ]
  },
  {
   "cell_type": "markdown",
   "metadata": {},
   "source": [
    "## <a id=\"id2\">Problem Statement 5.2</a>\n",
    "Now, we need to diversify our portfolio. Build your own portfolio by choosing any 5 stocks, preferably of different sectors and different caps. Assume that all 5 have the same weightage, i.e. 20% . Now calculate the annual returns and volatility of the entire portfolio ( Hint : Don't forget to use the covariance ) "
   ]
  },
  {
   "cell_type": "markdown",
   "metadata": {},
   "source": [
    "Importing 5 different Stocks"
   ]
  },
  {
   "cell_type": "code",
   "execution_count": 59,
   "metadata": {},
   "outputs": [],
   "source": [
    "asianpaint_stock = pd.read_csv(\"./ASIANPAINT.csv\")\n",
    "bajfinance_stock = pd.read_csv(\"./BAJFINANCE.csv\")\n",
    "hdfc_stock = pd.read_csv(\"./HDFCBANK.csv\")\n",
    "hindunilvr_stock = pd.read_csv(\"./HINDUNILVR.csv\")\n",
    "titan_stock = pd.read_csv(\"./TITAN.csv\")"
   ]
  },
  {
   "cell_type": "markdown",
   "metadata": {},
   "source": [
    "Deleting Duplicate values in the 5 stocks"
   ]
  },
  {
   "cell_type": "code",
   "execution_count": 60,
   "metadata": {},
   "outputs": [],
   "source": [
    "asianpaint_stock = asianpaint_stock[asianpaint_stock.Series == 'EQ'].reset_index(drop=True)\n",
    "bajfinance_stock = bajfinance_stock[bajfinance_stock.Series == 'EQ'].reset_index(drop=True)\n",
    "hdfc_stock = hdfc_stock[hdfc_stock.Series == 'EQ'].reset_index(drop=True)\n",
    "hindunilvr_stock = hindunilvr_stock[hindunilvr_stock.Series == 'EQ'].reset_index(drop=True)\n",
    "titan_stock = titan_stock[titan_stock.Series == 'EQ'].reset_index(drop=True)"
   ]
  },
  {
   "cell_type": "markdown",
   "metadata": {},
   "source": [
    "Seeing the rows and Coloumns of each stock after deleting duplications"
   ]
  },
  {
   "cell_type": "code",
   "execution_count": 61,
   "metadata": {},
   "outputs": [
    {
     "data": {
      "text/plain": [
       "(494, 15)"
      ]
     },
     "execution_count": 61,
     "metadata": {},
     "output_type": "execute_result"
    }
   ],
   "source": [
    "asianpaint_stock.shape"
   ]
  },
  {
   "cell_type": "code",
   "execution_count": 62,
   "metadata": {},
   "outputs": [
    {
     "data": {
      "text/plain": [
       "(494, 15)"
      ]
     },
     "execution_count": 62,
     "metadata": {},
     "output_type": "execute_result"
    }
   ],
   "source": [
    "bajfinance_stock.shape"
   ]
  },
  {
   "cell_type": "code",
   "execution_count": 63,
   "metadata": {},
   "outputs": [
    {
     "data": {
      "text/plain": [
       "(494, 15)"
      ]
     },
     "execution_count": 63,
     "metadata": {},
     "output_type": "execute_result"
    }
   ],
   "source": [
    "hdfc_stock.shape"
   ]
  },
  {
   "cell_type": "code",
   "execution_count": 64,
   "metadata": {},
   "outputs": [
    {
     "data": {
      "text/plain": [
       "(494, 15)"
      ]
     },
     "execution_count": 64,
     "metadata": {},
     "output_type": "execute_result"
    }
   ],
   "source": [
    "hindunilvr_stock.shape"
   ]
  },
  {
   "cell_type": "markdown",
   "metadata": {},
   "source": [
    "Inserting the Close Price of Each Stock into the one Dataframe"
   ]
  },
  {
   "cell_type": "code",
   "execution_count": 66,
   "metadata": {},
   "outputs": [],
   "source": [
    "close_price_stock = pd.DataFrame({asianpaint_stock.Symbol[0] : asianpaint_stock[\"Close Price\"],\n",
    "                                  bajfinance_stock.Symbol[0] : bajfinance_stock[\"Close Price\"],\n",
    "                                  hdfc_stock.Symbol[0] : hdfc_stock[\"Close Price\"],\n",
    "                                  hindunilvr_stock.Symbol[0] : hindunilvr_stock[\"Close Price\"],\n",
    "                                  titan_stock.Symbol[0] : titan_stock[\"Close Price\"]})"
   ]
  },
  {
   "cell_type": "code",
   "execution_count": 67,
   "metadata": {},
   "outputs": [
    {
     "data": {
      "text/html": [
       "<div>\n",
       "<style scoped>\n",
       "    .dataframe tbody tr th:only-of-type {\n",
       "        vertical-align: middle;\n",
       "    }\n",
       "\n",
       "    .dataframe tbody tr th {\n",
       "        vertical-align: top;\n",
       "    }\n",
       "\n",
       "    .dataframe thead th {\n",
       "        text-align: right;\n",
       "    }\n",
       "</style>\n",
       "<table border=\"1\" class=\"dataframe\">\n",
       "  <thead>\n",
       "    <tr style=\"text-align: right;\">\n",
       "      <th></th>\n",
       "      <th>ASIANPAINT</th>\n",
       "      <th>BAJFINANCE</th>\n",
       "      <th>HDFCBANK</th>\n",
       "      <th>HINDUNILVR</th>\n",
       "      <th>TITAN</th>\n",
       "    </tr>\n",
       "  </thead>\n",
       "  <tbody>\n",
       "    <tr>\n",
       "      <th>0</th>\n",
       "      <td>1148.05</td>\n",
       "      <td>1332.95</td>\n",
       "      <td>1553.40</td>\n",
       "      <td>983.25</td>\n",
       "      <td>483.65</td>\n",
       "    </tr>\n",
       "    <tr>\n",
       "      <th>1</th>\n",
       "      <td>1142.85</td>\n",
       "      <td>1347.75</td>\n",
       "      <td>1559.65</td>\n",
       "      <td>1000.40</td>\n",
       "      <td>488.30</td>\n",
       "    </tr>\n",
       "    <tr>\n",
       "      <th>2</th>\n",
       "      <td>1154.95</td>\n",
       "      <td>1324.80</td>\n",
       "      <td>1557.15</td>\n",
       "      <td>1009.40</td>\n",
       "      <td>481.75</td>\n",
       "    </tr>\n",
       "    <tr>\n",
       "      <th>3</th>\n",
       "      <td>1151.35</td>\n",
       "      <td>1314.55</td>\n",
       "      <td>1557.10</td>\n",
       "      <td>990.25</td>\n",
       "      <td>471.65</td>\n",
       "    </tr>\n",
       "    <tr>\n",
       "      <th>4</th>\n",
       "      <td>1123.15</td>\n",
       "      <td>1289.15</td>\n",
       "      <td>1561.25</td>\n",
       "      <td>1008.00</td>\n",
       "      <td>471.15</td>\n",
       "    </tr>\n",
       "  </tbody>\n",
       "</table>\n",
       "</div>"
      ],
      "text/plain": [
       "   ASIANPAINT  BAJFINANCE  HDFCBANK  HINDUNILVR   TITAN\n",
       "0     1148.05     1332.95   1553.40      983.25  483.65\n",
       "1     1142.85     1347.75   1559.65     1000.40  488.30\n",
       "2     1154.95     1324.80   1557.15     1009.40  481.75\n",
       "3     1151.35     1314.55   1557.10      990.25  471.65\n",
       "4     1123.15     1289.15   1561.25     1008.00  471.15"
      ]
     },
     "execution_count": 67,
     "metadata": {},
     "output_type": "execute_result"
    }
   ],
   "source": [
    "close_price_stock.head()"
   ]
  },
  {
   "cell_type": "code",
   "execution_count": 68,
   "metadata": {},
   "outputs": [
    {
     "data": {
      "text/html": [
       "<div>\n",
       "<style scoped>\n",
       "    .dataframe tbody tr th:only-of-type {\n",
       "        vertical-align: middle;\n",
       "    }\n",
       "\n",
       "    .dataframe tbody tr th {\n",
       "        vertical-align: top;\n",
       "    }\n",
       "\n",
       "    .dataframe thead th {\n",
       "        text-align: right;\n",
       "    }\n",
       "</style>\n",
       "<table border=\"1\" class=\"dataframe\">\n",
       "  <thead>\n",
       "    <tr style=\"text-align: right;\">\n",
       "      <th></th>\n",
       "      <th>ASIANPAINT</th>\n",
       "      <th>BAJFINANCE</th>\n",
       "      <th>HDFCBANK</th>\n",
       "      <th>HINDUNILVR</th>\n",
       "      <th>TITAN</th>\n",
       "    </tr>\n",
       "  </thead>\n",
       "  <tbody>\n",
       "    <tr>\n",
       "      <th>489</th>\n",
       "      <td>1387.80</td>\n",
       "      <td>3017.05</td>\n",
       "      <td>2322.35</td>\n",
       "      <td>1697.50</td>\n",
       "      <td>1086.50</td>\n",
       "    </tr>\n",
       "    <tr>\n",
       "      <th>490</th>\n",
       "      <td>1385.70</td>\n",
       "      <td>2921.30</td>\n",
       "      <td>2307.25</td>\n",
       "      <td>1688.70</td>\n",
       "      <td>1088.70</td>\n",
       "    </tr>\n",
       "    <tr>\n",
       "      <th>491</th>\n",
       "      <td>1354.20</td>\n",
       "      <td>2971.35</td>\n",
       "      <td>2290.90</td>\n",
       "      <td>1703.75</td>\n",
       "      <td>1104.45</td>\n",
       "    </tr>\n",
       "    <tr>\n",
       "      <th>492</th>\n",
       "      <td>1341.05</td>\n",
       "      <td>2922.85</td>\n",
       "      <td>2296.50</td>\n",
       "      <td>1687.45</td>\n",
       "      <td>1132.10</td>\n",
       "    </tr>\n",
       "    <tr>\n",
       "      <th>493</th>\n",
       "      <td>1332.50</td>\n",
       "      <td>2931.85</td>\n",
       "      <td>2287.20</td>\n",
       "      <td>1702.00</td>\n",
       "      <td>1144.70</td>\n",
       "    </tr>\n",
       "  </tbody>\n",
       "</table>\n",
       "</div>"
      ],
      "text/plain": [
       "     ASIANPAINT  BAJFINANCE  HDFCBANK  HINDUNILVR    TITAN\n",
       "489     1387.80     3017.05   2322.35     1697.50  1086.50\n",
       "490     1385.70     2921.30   2307.25     1688.70  1088.70\n",
       "491     1354.20     2971.35   2290.90     1703.75  1104.45\n",
       "492     1341.05     2922.85   2296.50     1687.45  1132.10\n",
       "493     1332.50     2931.85   2287.20     1702.00  1144.70"
      ]
     },
     "execution_count": 68,
     "metadata": {},
     "output_type": "execute_result"
    }
   ],
   "source": [
    "close_price_stock.tail()"
   ]
  },
  {
   "cell_type": "code",
   "execution_count": 69,
   "metadata": {},
   "outputs": [
    {
     "data": {
      "text/plain": [
       "(494, 5)"
      ]
     },
     "execution_count": 69,
     "metadata": {},
     "output_type": "execute_result"
    }
   ],
   "source": [
    "close_price_stock.shape"
   ]
  },
  {
   "cell_type": "markdown",
   "metadata": {},
   "source": [
    "#### Daily Returns"
   ]
  },
  {
   "cell_type": "code",
   "execution_count": 70,
   "metadata": {},
   "outputs": [
    {
     "data": {
      "text/html": [
       "<div>\n",
       "<style scoped>\n",
       "    .dataframe tbody tr th:only-of-type {\n",
       "        vertical-align: middle;\n",
       "    }\n",
       "\n",
       "    .dataframe tbody tr th {\n",
       "        vertical-align: top;\n",
       "    }\n",
       "\n",
       "    .dataframe thead th {\n",
       "        text-align: right;\n",
       "    }\n",
       "</style>\n",
       "<table border=\"1\" class=\"dataframe\">\n",
       "  <thead>\n",
       "    <tr style=\"text-align: right;\">\n",
       "      <th></th>\n",
       "      <th>ASIANPAINT</th>\n",
       "      <th>BAJFINANCE</th>\n",
       "      <th>HDFCBANK</th>\n",
       "      <th>HINDUNILVR</th>\n",
       "      <th>TITAN</th>\n",
       "    </tr>\n",
       "  </thead>\n",
       "  <tbody>\n",
       "    <tr>\n",
       "      <th>1</th>\n",
       "      <td>-0.004529</td>\n",
       "      <td>0.011103</td>\n",
       "      <td>0.004023</td>\n",
       "      <td>0.017442</td>\n",
       "      <td>0.009614</td>\n",
       "    </tr>\n",
       "    <tr>\n",
       "      <th>2</th>\n",
       "      <td>0.010588</td>\n",
       "      <td>-0.017028</td>\n",
       "      <td>-0.001603</td>\n",
       "      <td>0.008996</td>\n",
       "      <td>-0.013414</td>\n",
       "    </tr>\n",
       "    <tr>\n",
       "      <th>3</th>\n",
       "      <td>-0.003117</td>\n",
       "      <td>-0.007737</td>\n",
       "      <td>-0.000032</td>\n",
       "      <td>-0.018972</td>\n",
       "      <td>-0.020965</td>\n",
       "    </tr>\n",
       "    <tr>\n",
       "      <th>4</th>\n",
       "      <td>-0.024493</td>\n",
       "      <td>-0.019322</td>\n",
       "      <td>0.002665</td>\n",
       "      <td>0.017925</td>\n",
       "      <td>-0.001060</td>\n",
       "    </tr>\n",
       "    <tr>\n",
       "      <th>5</th>\n",
       "      <td>-0.009438</td>\n",
       "      <td>-0.036458</td>\n",
       "      <td>0.009448</td>\n",
       "      <td>0.010516</td>\n",
       "      <td>0.021755</td>\n",
       "    </tr>\n",
       "  </tbody>\n",
       "</table>\n",
       "</div>"
      ],
      "text/plain": [
       "   ASIANPAINT  BAJFINANCE  HDFCBANK  HINDUNILVR     TITAN\n",
       "1   -0.004529    0.011103  0.004023    0.017442  0.009614\n",
       "2    0.010588   -0.017028 -0.001603    0.008996 -0.013414\n",
       "3   -0.003117   -0.007737 -0.000032   -0.018972 -0.020965\n",
       "4   -0.024493   -0.019322  0.002665    0.017925 -0.001060\n",
       "5   -0.009438   -0.036458  0.009448    0.010516  0.021755"
      ]
     },
     "execution_count": 70,
     "metadata": {},
     "output_type": "execute_result"
    }
   ],
   "source": [
    "daily_returns = close_price_stock.pct_change(fill_method='ffill').dropna()\n",
    "daily_returns.head()"
   ]
  },
  {
   "cell_type": "markdown",
   "metadata": {},
   "source": [
    "#### Mean Daily Returns"
   ]
  },
  {
   "cell_type": "code",
   "execution_count": 71,
   "metadata": {},
   "outputs": [
    {
     "data": {
      "text/plain": [
       "ASIANPAINT    0.000389\n",
       "BAJFINANCE    0.001803\n",
       "HDFCBANK      0.000830\n",
       "HINDUNILVR    0.001188\n",
       "TITAN         0.001951\n",
       "dtype: float64"
      ]
     },
     "execution_count": 71,
     "metadata": {},
     "output_type": "execute_result"
    }
   ],
   "source": [
    "daily_mean_returns = daily_returns.mean()\n",
    "daily_mean_returns"
   ]
  },
  {
   "cell_type": "markdown",
   "metadata": {},
   "source": [
    "#### 20% Weightage for each Stock"
   ]
  },
  {
   "cell_type": "code",
   "execution_count": 72,
   "metadata": {},
   "outputs": [
    {
     "data": {
      "text/plain": [
       "array([0.2, 0.2, 0.2, 0.2, 0.2])"
      ]
     },
     "execution_count": 72,
     "metadata": {},
     "output_type": "execute_result"
    }
   ],
   "source": [
    "weights = pd.np.array([0.2]*5)\n",
    "weights"
   ]
  },
  {
   "cell_type": "markdown",
   "metadata": {},
   "source": [
    "#### Annual Mean Returns for Portfolio"
   ]
  },
  {
   "cell_type": "code",
   "execution_count": 73,
   "metadata": {},
   "outputs": [
    {
     "data": {
      "text/plain": [
       "0.3105"
      ]
     },
     "execution_count": 73,
     "metadata": {},
     "output_type": "execute_result"
    }
   ],
   "source": [
    "annual_returns = (daily_mean_returns * weights).sum() * 252\n",
    "round(annual_returns,4)"
   ]
  },
  {
   "cell_type": "markdown",
   "metadata": {},
   "source": [
    "#### Covariance Matrix"
   ]
  },
  {
   "cell_type": "code",
   "execution_count": 74,
   "metadata": {},
   "outputs": [
    {
     "data": {
      "text/plain": [
       "0.0018029055588609634"
      ]
     },
     "execution_count": 74,
     "metadata": {},
     "output_type": "execute_result"
    }
   ],
   "source": [
    " daily_returns.BAJFINANCE.mean()"
   ]
  },
  {
   "cell_type": "code",
   "execution_count": 75,
   "metadata": {},
   "outputs": [
    {
     "data": {
      "text/html": [
       "<div>\n",
       "<style scoped>\n",
       "    .dataframe tbody tr th:only-of-type {\n",
       "        vertical-align: middle;\n",
       "    }\n",
       "\n",
       "    .dataframe tbody tr th {\n",
       "        vertical-align: top;\n",
       "    }\n",
       "\n",
       "    .dataframe thead th {\n",
       "        text-align: right;\n",
       "    }\n",
       "</style>\n",
       "<table border=\"1\" class=\"dataframe\">\n",
       "  <thead>\n",
       "    <tr style=\"text-align: right;\">\n",
       "      <th></th>\n",
       "      <th>ASIANPAINT</th>\n",
       "      <th>BAJFINANCE</th>\n",
       "      <th>HDFCBANK</th>\n",
       "      <th>HINDUNILVR</th>\n",
       "      <th>TITAN</th>\n",
       "    </tr>\n",
       "  </thead>\n",
       "  <tbody>\n",
       "    <tr>\n",
       "      <th>ASIANPAINT</th>\n",
       "      <td>0.000174</td>\n",
       "      <td>0.000068</td>\n",
       "      <td>0.000036</td>\n",
       "      <td>0.000048</td>\n",
       "      <td>0.000057</td>\n",
       "    </tr>\n",
       "    <tr>\n",
       "      <th>BAJFINANCE</th>\n",
       "      <td>0.000068</td>\n",
       "      <td>0.000409</td>\n",
       "      <td>0.000055</td>\n",
       "      <td>0.000047</td>\n",
       "      <td>0.000063</td>\n",
       "    </tr>\n",
       "    <tr>\n",
       "      <th>HDFCBANK</th>\n",
       "      <td>0.000036</td>\n",
       "      <td>0.000055</td>\n",
       "      <td>0.000090</td>\n",
       "      <td>0.000028</td>\n",
       "      <td>0.000031</td>\n",
       "    </tr>\n",
       "    <tr>\n",
       "      <th>HINDUNILVR</th>\n",
       "      <td>0.000048</td>\n",
       "      <td>0.000047</td>\n",
       "      <td>0.000028</td>\n",
       "      <td>0.000149</td>\n",
       "      <td>0.000056</td>\n",
       "    </tr>\n",
       "    <tr>\n",
       "      <th>TITAN</th>\n",
       "      <td>0.000057</td>\n",
       "      <td>0.000063</td>\n",
       "      <td>0.000031</td>\n",
       "      <td>0.000056</td>\n",
       "      <td>0.000419</td>\n",
       "    </tr>\n",
       "  </tbody>\n",
       "</table>\n",
       "</div>"
      ],
      "text/plain": [
       "            ASIANPAINT  BAJFINANCE  HDFCBANK  HINDUNILVR     TITAN\n",
       "ASIANPAINT    0.000174    0.000068  0.000036    0.000048  0.000057\n",
       "BAJFINANCE    0.000068    0.000409  0.000055    0.000047  0.000063\n",
       "HDFCBANK      0.000036    0.000055  0.000090    0.000028  0.000031\n",
       "HINDUNILVR    0.000048    0.000047  0.000028    0.000149  0.000056\n",
       "TITAN         0.000057    0.000063  0.000031    0.000056  0.000419"
      ]
     },
     "execution_count": 75,
     "metadata": {},
     "output_type": "execute_result"
    }
   ],
   "source": [
    "covariance = daily_returns.cov()\n",
    "covariance"
   ]
  },
  {
   "cell_type": "markdown",
   "metadata": {},
   "source": [
    "#### Annual Standard Deviation (Volatility)\n",
    "\n",
    "### Procedure To Calculate Annual Standard Deviation\n",
    "- Volatility for entire portfolio can meansure by [Portfolio Standard Deviation](http://financialmanagementpro.com/standard-deviation-of-portfolio/) formula.\n",
    "- It depends on Three Factors\n",
    "    1. Weightage of each asset/stock\n",
    "    2. Standard deviation of each asset\n",
    "    3. Covariance between pair of assets\n",
    "    \n",
    "#### Formula\n",
    "$$σ_{p} = \\sqrt{\\sum_{i=1}^{N}W_{i}^2\\cdotσ^2(k_{i}){+}\\sum_{i=1}^{N}\\sum_{j\\neq i}^{N}W_{i}\\cdot{W_{j}}\\cdot{Cov(k_{i},k_{j})}}$$\n",
    "\n",
    " - **$σ_{p}$** = Portfolio Standard Deviation\n",
    " - **N** = number of assets in a portfolio, \n",
    " - **$W_{i}$** = Weight/proportion of ith asset in a portfolio, \n",
    " - **$W_{j}$** = proportion of jth asset in a portfolio, \n",
    " - **$σ^2(k_{i})$** =  variance of return of ith asset\n",
    " - **$Cov(k_{i},k_{j})$** = covariance of returns of ith asset and jth asset.\n",
    " \n",
    " \n",
    " **Variance of one asset is covariance between same asset.so formula become,**<br><br>\n",
    " $$σ_{p} = \\sqrt{\\sum_{i=1}^{N}W_{i}\\cdot{W_{i}}\\cdot{Cov(k_{i}, k_{i}}){+}\\sum_{i=1}^{N}\\sum_{j\\neq i}^{N}W_{i}\\cdot{W_{j}}\\cdot{Cov(k_{i},k_{j})}}$$\n",
    " <br>**Now, Our weights for all assets are same. 0.2....... Therefore**<br><br>\n",
    " $$σ_{p} = \\sqrt{\\sum_{i=1}^{N}0.2\\cdot{0.2}\\cdot{Cov(k_{i}, k_{i}}){+}\\sum_{i=1}^{N}\\sum_{j\\neq i}^{N}0.2\\cdot{0.2}\\cdot{Cov(k_{i},k_{j})}}$$\n",
    " <br>**So both parts are same, Now**<br><br>\n",
    " $$σ_{p} = \\sqrt{\\sum_{i=1}^{N}\\sum_{j=i}^{N}0.2\\cdot{0.2}\\cdot{Cov(k_{i},k_{j})}}$$"
   ]
  },
  {
   "cell_type": "code",
   "execution_count": 76,
   "metadata": {},
   "outputs": [
    {
     "data": {
      "text/plain": [
       "0.1495"
      ]
     },
     "execution_count": 76,
     "metadata": {},
     "output_type": "execute_result"
    }
   ],
   "source": [
    "annual_std = pd.np.sqrt(pd.np.dot(weights,pd.np.dot(weights, covariance))) * pd.np.sqrt(252)\n",
    "round(annual_std, 4)"
   ]
  },
  {
   "cell_type": "markdown",
   "metadata": {},
   "source": [
    "## <a id=\"id3\">Problem Statement 5.3</a>\n",
    "Prepare a scatter plot for differing weights of the individual stocks in the portfolio , the axes being the returns and volatility. Colour the data points based on the Sharpe Ratio ( Returns/Volatility) of that particular portfolio."
   ]
  },
  {
   "cell_type": "markdown",
   "metadata": {},
   "source": [
    "To get the same random numbers every time for reproducibility."
   ]
  },
  {
   "cell_type": "code",
   "execution_count": 77,
   "metadata": {},
   "outputs": [],
   "source": [
    "pd.np.random.seed(42)"
   ]
  },
  {
   "cell_type": "markdown",
   "metadata": {},
   "source": [
    "Number of Different Portfolios considered"
   ]
  },
  {
   "cell_type": "code",
   "execution_count": 78,
   "metadata": {},
   "outputs": [],
   "source": [
    "portfolio_num = 8000"
   ]
  },
  {
   "cell_type": "markdown",
   "metadata": {},
   "source": [
    "To save all weightage of all portfolios"
   ]
  },
  {
   "cell_type": "code",
   "execution_count": 79,
   "metadata": {},
   "outputs": [],
   "source": [
    "all_weights = pd.np.zeros((portfolio_num, len(covariance)))"
   ]
  },
  {
   "cell_type": "code",
   "execution_count": 80,
   "metadata": {},
   "outputs": [
    {
     "data": {
      "text/plain": [
       "array([0., 0., 0., 0., 0.])"
      ]
     },
     "execution_count": 80,
     "metadata": {},
     "output_type": "execute_result"
    }
   ],
   "source": [
    "all_weights[5]"
   ]
  },
  {
   "cell_type": "code",
   "execution_count": 81,
   "metadata": {},
   "outputs": [],
   "source": [
    "a = len(all_weights)"
   ]
  },
  {
   "cell_type": "code",
   "execution_count": 82,
   "metadata": {},
   "outputs": [
    {
     "data": {
      "text/plain": [
       "8000"
      ]
     },
     "execution_count": 82,
     "metadata": {},
     "output_type": "execute_result"
    }
   ],
   "source": [
    "a"
   ]
  },
  {
   "cell_type": "markdown",
   "metadata": {},
   "source": [
    "Array for storing Returns, Volatility and Sharpe Ratio for specific Portfolio"
   ]
  },
  {
   "cell_type": "code",
   "execution_count": 83,
   "metadata": {},
   "outputs": [],
   "source": [
    "ret_vol_sharpe = pd.np.zeros((portfolio_num, 3))"
   ]
  },
  {
   "cell_type": "code",
   "execution_count": 84,
   "metadata": {},
   "outputs": [
    {
     "data": {
      "text/plain": [
       "8000"
      ]
     },
     "execution_count": 84,
     "metadata": {},
     "output_type": "execute_result"
    }
   ],
   "source": [
    "portfolio_num"
   ]
  },
  {
   "cell_type": "markdown",
   "metadata": {},
   "source": [
    "#### Calculate The Returns, Volatility and Sharpe Ratio for Different Possible Portfolio"
   ]
  },
  {
   "cell_type": "code",
   "execution_count": 85,
   "metadata": {},
   "outputs": [],
   "source": [
    "for i in range(portfolio_num):\n",
    "    # Random Weights for 5 different assets in portfolio\n",
    "    weights = pd.np.random.random(5)\n",
    "    weights /= weights.sum()\n",
    "    # Save weights\n",
    "    all_weights[i,:] = weights\n",
    "    # calculate Portfolio Returns\n",
    "    ret_vol_sharpe[i,0] = (daily_mean_returns * weights).sum() * 252\n",
    "    # calculate Portfolio Volatility\n",
    "    ret_vol_sharpe[i,1] = pd.np.sqrt(pd.np.dot(weights,pd.np.dot(weights, covariance))) * pd.np.sqrt(252)\n",
    "    # calculate Sharpe Ratio\n",
    "    ret_vol_sharpe[i,2] = ret_vol_sharpe[i,0] / ret_vol_sharpe[i,1]"
   ]
  },
  {
   "cell_type": "code",
   "execution_count": 86,
   "metadata": {},
   "outputs": [],
   "source": [
    "ret_vol_sharpe = pd.DataFrame(ret_vol_sharpe, columns=['Returns', 'Volatility', 'Sharpe_Ratio'])"
   ]
  },
  {
   "cell_type": "code",
   "execution_count": 87,
   "metadata": {},
   "outputs": [
    {
     "data": {
      "text/html": [
       "<div>\n",
       "<style scoped>\n",
       "    .dataframe tbody tr th:only-of-type {\n",
       "        vertical-align: middle;\n",
       "    }\n",
       "\n",
       "    .dataframe tbody tr th {\n",
       "        vertical-align: top;\n",
       "    }\n",
       "\n",
       "    .dataframe thead th {\n",
       "        text-align: right;\n",
       "    }\n",
       "</style>\n",
       "<table border=\"1\" class=\"dataframe\">\n",
       "  <thead>\n",
       "    <tr style=\"text-align: right;\">\n",
       "      <th></th>\n",
       "      <th>Returns</th>\n",
       "      <th>Volatility</th>\n",
       "      <th>Sharpe_Ratio</th>\n",
       "    </tr>\n",
       "  </thead>\n",
       "  <tbody>\n",
       "    <tr>\n",
       "      <th>0</th>\n",
       "      <td>0.312104</td>\n",
       "      <td>0.158954</td>\n",
       "      <td>1.963490</td>\n",
       "    </tr>\n",
       "    <tr>\n",
       "      <th>1</th>\n",
       "      <td>0.314225</td>\n",
       "      <td>0.148354</td>\n",
       "      <td>2.118079</td>\n",
       "    </tr>\n",
       "    <tr>\n",
       "      <th>2</th>\n",
       "      <td>0.347157</td>\n",
       "      <td>0.179209</td>\n",
       "      <td>1.937167</td>\n",
       "    </tr>\n",
       "    <tr>\n",
       "      <th>3</th>\n",
       "      <td>0.310213</td>\n",
       "      <td>0.140916</td>\n",
       "      <td>2.201403</td>\n",
       "    </tr>\n",
       "    <tr>\n",
       "      <th>4</th>\n",
       "      <td>0.277769</td>\n",
       "      <td>0.151184</td>\n",
       "      <td>1.837297</td>\n",
       "    </tr>\n",
       "  </tbody>\n",
       "</table>\n",
       "</div>"
      ],
      "text/plain": [
       "    Returns  Volatility  Sharpe_Ratio\n",
       "0  0.312104    0.158954      1.963490\n",
       "1  0.314225    0.148354      2.118079\n",
       "2  0.347157    0.179209      1.937167\n",
       "3  0.310213    0.140916      2.201403\n",
       "4  0.277769    0.151184      1.837297"
      ]
     },
     "execution_count": 87,
     "metadata": {},
     "output_type": "execute_result"
    }
   ],
   "source": [
    "ret_vol_sharpe.head()"
   ]
  },
  {
   "cell_type": "code",
   "execution_count": 88,
   "metadata": {},
   "outputs": [
    {
     "data": {
      "text/html": [
       "<div>\n",
       "<style scoped>\n",
       "    .dataframe tbody tr th:only-of-type {\n",
       "        vertical-align: middle;\n",
       "    }\n",
       "\n",
       "    .dataframe tbody tr th {\n",
       "        vertical-align: top;\n",
       "    }\n",
       "\n",
       "    .dataframe thead th {\n",
       "        text-align: right;\n",
       "    }\n",
       "</style>\n",
       "<table border=\"1\" class=\"dataframe\">\n",
       "  <thead>\n",
       "    <tr style=\"text-align: right;\">\n",
       "      <th></th>\n",
       "      <th>Returns</th>\n",
       "      <th>Volatility</th>\n",
       "      <th>Sharpe_Ratio</th>\n",
       "    </tr>\n",
       "  </thead>\n",
       "  <tbody>\n",
       "    <tr>\n",
       "      <th>7995</th>\n",
       "      <td>0.286249</td>\n",
       "      <td>0.137626</td>\n",
       "      <td>2.079904</td>\n",
       "    </tr>\n",
       "    <tr>\n",
       "      <th>7996</th>\n",
       "      <td>0.185463</td>\n",
       "      <td>0.140577</td>\n",
       "      <td>1.319299</td>\n",
       "    </tr>\n",
       "    <tr>\n",
       "      <th>7997</th>\n",
       "      <td>0.304831</td>\n",
       "      <td>0.162048</td>\n",
       "      <td>1.881111</td>\n",
       "    </tr>\n",
       "    <tr>\n",
       "      <th>7998</th>\n",
       "      <td>0.367710</td>\n",
       "      <td>0.169892</td>\n",
       "      <td>2.164371</td>\n",
       "    </tr>\n",
       "    <tr>\n",
       "      <th>7999</th>\n",
       "      <td>0.312649</td>\n",
       "      <td>0.163326</td>\n",
       "      <td>1.914261</td>\n",
       "    </tr>\n",
       "  </tbody>\n",
       "</table>\n",
       "</div>"
      ],
      "text/plain": [
       "       Returns  Volatility  Sharpe_Ratio\n",
       "7995  0.286249    0.137626      2.079904\n",
       "7996  0.185463    0.140577      1.319299\n",
       "7997  0.304831    0.162048      1.881111\n",
       "7998  0.367710    0.169892      2.164371\n",
       "7999  0.312649    0.163326      1.914261"
      ]
     },
     "execution_count": 88,
     "metadata": {},
     "output_type": "execute_result"
    }
   ],
   "source": [
    "ret_vol_sharpe.tail()"
   ]
  },
  {
   "cell_type": "markdown",
   "metadata": {},
   "source": [
    "#### Scatter Plot"
   ]
  },
  {
   "cell_type": "code",
   "execution_count": 89,
   "metadata": {},
   "outputs": [
    {
     "data": {
      "image/png": "[encoded data removed]",
      "text/plain": [
       "<Figure size 1080x648 with 2 Axes>"
      ]
     },
     "metadata": {
      "needs_background": "light"
     },
     "output_type": "display_data"
    }
   ],
   "source": [
    "plt.figure(figsize=(15,9))\n",
    "plt.scatter(ret_vol_sharpe.Volatility, ret_vol_sharpe.Returns, c=ret_vol_sharpe.Sharpe_Ratio, cmap='RdYlBu')\n",
    "plt.colorbar(label=\"Sharpe Ratio\")\n",
    "plt.xlabel('Volatility')\n",
    "plt.ylabel('Returns')\n",
    "plt.show()"
   ]
  },
  {
   "cell_type": "markdown",
   "metadata": {},
   "source": [
    "## <a id=\"id4\">Problem Statement 5.4</a>\n",
    "Mark the 2 portfolios where -\n",
    "- Portfolio 1 - The Sharpe ratio is the highest\n",
    "- Portfolio 2 - The volatility is the lowest. \n",
    "\n",
    "<img src=\"https://www.aspiration.link/machine-learning/internship/images/15.png\" alt=\"Drawing\" style=\"width: 700px;\" align=\"left\"/>"
   ]
  },
  {
   "cell_type": "markdown",
   "metadata": {},
   "source": [
    "Seeing all Weights for confirmation"
   ]
  },
  {
   "cell_type": "code",
   "execution_count": 90,
   "metadata": {
    "scrolled": true
   },
   "outputs": [
    {
     "data": {
      "text/plain": [
       "array([[0.13319703, 0.33810082, 0.26031769, 0.21289984, 0.05548463],\n",
       "       [0.06528492, 0.02430844, 0.36250145, 0.25157131, 0.29633388],\n",
       "       [0.00928442, 0.43746759, 0.37546445, 0.09577331, 0.08201023],\n",
       "       ...,\n",
       "       [0.25062383, 0.02401306, 0.09845255, 0.3090668 , 0.31784376],\n",
       "       [0.06071122, 0.21098163, 0.2103222 , 0.17016168, 0.34782327],\n",
       "       [0.27825426, 0.2821264 , 0.09947675, 0.16027307, 0.17986952]])"
      ]
     },
     "execution_count": 90,
     "metadata": {},
     "output_type": "execute_result"
    }
   ],
   "source": [
    "all_weights"
   ]
  },
  {
   "cell_type": "markdown",
   "metadata": {},
   "source": [
    "#### Portfolio 1 - The Sharpe ratio is the highest\n",
    "Calculating the Returns for which having an maximum Sharpe Ratio"
   ]
  },
  {
   "cell_type": "code",
   "execution_count": 91,
   "metadata": {},
   "outputs": [],
   "source": [
    "high_sharpe_ratio_returns = ret_vol_sharpe.Returns[ret_vol_sharpe.Sharpe_Ratio.idxmax()]"
   ]
  },
  {
   "cell_type": "code",
   "execution_count": 92,
   "metadata": {},
   "outputs": [
    {
     "data": {
      "text/plain": [
       "0.33797986804336855"
      ]
     },
     "execution_count": 92,
     "metadata": {},
     "output_type": "execute_result"
    }
   ],
   "source": [
    "high_sharpe_ratio_returns"
   ]
  },
  {
   "cell_type": "markdown",
   "metadata": {},
   "source": [
    "Calculating the Volatility for which having maximum Sharpe Ratio"
   ]
  },
  {
   "cell_type": "code",
   "execution_count": 93,
   "metadata": {},
   "outputs": [],
   "source": [
    "high_sharpe_ratio_volatility = ret_vol_sharpe.Volatility[ret_vol_sharpe.Sharpe_Ratio.idxmax()]"
   ]
  },
  {
   "cell_type": "code",
   "execution_count": 94,
   "metadata": {},
   "outputs": [
    {
     "data": {
      "text/plain": [
       "0.1468312467324686"
      ]
     },
     "execution_count": 94,
     "metadata": {},
     "output_type": "execute_result"
    }
   ],
   "source": [
    "high_sharpe_ratio_volatility"
   ]
  },
  {
   "cell_type": "markdown",
   "metadata": {},
   "source": [
    "Max Sharpe Ratio"
   ]
  },
  {
   "cell_type": "code",
   "execution_count": 95,
   "metadata": {},
   "outputs": [
    {
     "data": {
      "text/plain": [
       "2.301825228380571"
      ]
     },
     "execution_count": 95,
     "metadata": {},
     "output_type": "execute_result"
    }
   ],
   "source": [
    "ret_vol_sharpe.Sharpe_Ratio.max()"
   ]
  },
  {
   "cell_type": "markdown",
   "metadata": {},
   "source": [
    "It's Location"
   ]
  },
  {
   "cell_type": "code",
   "execution_count": 97,
   "metadata": {},
   "outputs": [
    {
     "data": {
      "text/plain": [
       "831"
      ]
     },
     "execution_count": 97,
     "metadata": {},
     "output_type": "execute_result"
    }
   ],
   "source": [
    "ret_vol_sharpe.Sharpe_Ratio.idxmax()"
   ]
  },
  {
   "cell_type": "markdown",
   "metadata": {},
   "source": [
    "Weights for Best Portfolio"
   ]
  },
  {
   "cell_type": "code",
   "execution_count": 99,
   "metadata": {},
   "outputs": [
    {
     "data": {
      "text/plain": [
       "array([0.00440529, 0.18454587, 0.29072094, 0.3270908 , 0.19323711])"
      ]
     },
     "execution_count": 99,
     "metadata": {},
     "output_type": "execute_result"
    }
   ],
   "source": [
    "all_weights[ret_vol_sharpe.Sharpe_Ratio.idxmax(),:]"
   ]
  },
  {
   "cell_type": "code",
   "execution_count": 100,
   "metadata": {},
   "outputs": [
    {
     "data": {
      "text/plain": [
       "array([0.00440529, 0.18454587, 0.29072094, 0.3270908 , 0.19323711])"
      ]
     },
     "execution_count": 100,
     "metadata": {},
     "output_type": "execute_result"
    }
   ],
   "source": [
    "all_weights[831]"
   ]
  },
  {
   "cell_type": "markdown",
   "metadata": {},
   "source": [
    "Low Volatility"
   ]
  },
  {
   "cell_type": "code",
   "execution_count": 101,
   "metadata": {},
   "outputs": [],
   "source": [
    "low_volatility = ret_vol_sharpe.Volatility.min()"
   ]
  },
  {
   "cell_type": "code",
   "execution_count": 102,
   "metadata": {},
   "outputs": [
    {
     "data": {
      "text/plain": [
       "0.12583883177418315"
      ]
     },
     "execution_count": 102,
     "metadata": {},
     "output_type": "execute_result"
    }
   ],
   "source": [
    "low_volatility"
   ]
  },
  {
   "cell_type": "markdown",
   "metadata": {},
   "source": [
    "Calculating Returns for which having an minmum volatility"
   ]
  },
  {
   "cell_type": "code",
   "execution_count": 103,
   "metadata": {},
   "outputs": [],
   "source": [
    "low_volatility_idx = ret_vol_sharpe.Volatility.idxmin()\n",
    "low_volatility_returns = ret_vol_sharpe.Returns[low_volatility_idx]"
   ]
  },
  {
   "cell_type": "code",
   "execution_count": 104,
   "metadata": {},
   "outputs": [
    {
     "data": {
      "text/plain": [
       "0.24133010156598148"
      ]
     },
     "execution_count": 104,
     "metadata": {},
     "output_type": "execute_result"
    }
   ],
   "source": [
    "low_volatility_returns"
   ]
  },
  {
   "cell_type": "markdown",
   "metadata": {},
   "source": [
    "It's Located"
   ]
  },
  {
   "cell_type": "code",
   "execution_count": 105,
   "metadata": {},
   "outputs": [
    {
     "data": {
      "text/plain": [
       "6583"
      ]
     },
     "execution_count": 105,
     "metadata": {},
     "output_type": "execute_result"
    }
   ],
   "source": [
    "low_volatility_idx"
   ]
  },
  {
   "cell_type": "markdown",
   "metadata": {},
   "source": [
    "Weights for Low Volatility"
   ]
  },
  {
   "cell_type": "code",
   "execution_count": 106,
   "metadata": {},
   "outputs": [
    {
     "data": {
      "text/plain": [
       "array([0.16604141, 0.04267851, 0.48017087, 0.24798249, 0.06312672])"
      ]
     },
     "execution_count": 106,
     "metadata": {},
     "output_type": "execute_result"
    }
   ],
   "source": [
    "all_weights[low_volatility_idx,:]"
   ]
  },
  {
   "cell_type": "markdown",
   "metadata": {},
   "source": [
    "Pointing the High Sharpe Ratio with Red Star and Low Volatility with Green Star"
   ]
  },
  {
   "cell_type": "code",
   "execution_count": 107,
   "metadata": {},
   "outputs": [
    {
     "data": {
      "image/png": "[encoded data removed]",
      "text/plain": [
       "<Figure size 1080x648 with 2 Axes>"
      ]
     },
     "metadata": {
      "needs_background": "light"
     },
     "output_type": "display_data"
    }
   ],
   "source": [
    "plt.figure(figsize=(15,9))\n",
    "plt.scatter(ret_vol_sharpe.Volatility, ret_vol_sharpe.Returns, c=ret_vol_sharpe.Sharpe_Ratio, cmap='RdYlBu')\n",
    "plt.colorbar(label=\"Sharpe Ratio\")\n",
    "plt.xlabel('Volatility')\n",
    "plt.ylabel('Returns')\n",
    "# Best Portfolio\n",
    "plt.scatter(high_sharpe_ratio_volatility, high_sharpe_ratio_returns, c='r', s=100, marker='*')\n",
    "# Low Volatility : Low risk\n",
    "plt.scatter(low_volatility, low_volatility_returns, c='g', s=100, marker='*')\n",
    "plt.show()"
   ]
  },
  {
   "cell_type": "markdown",
   "metadata": {},
   "source": [
    "### CAPM Model use for Systematic risk\n",
    "### While MPT theory used for both Systematic and Unsystematic Risk"
   ]
  },
  {
   "cell_type": "code",
   "execution_count": null,
   "metadata": {},
   "outputs": [],
   "source": []
  }
 ],
 "metadata": {
  "kernelspec": {
   "display_name": "Python 3",
   "language": "python",
   "name": "python3"
  },
  "language_info": {
   "codemirror_mode": {
    "name": "ipython",
    "version": 3
   },
   "file_extension": ".py",
   "mimetype": "text/x-python",
   "name": "python",
   "nbconvert_exporter": "python",
   "pygments_lexer": "ipython3",
   "version": "3.7.6"
  }
 },
 "nbformat": 4,
 "nbformat_minor": 4
}
