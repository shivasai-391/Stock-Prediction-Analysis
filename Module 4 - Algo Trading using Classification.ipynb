{
 "cells": [
  {
   "cell_type": "markdown",
   "metadata": {},
   "source": [
    "# <a id=\"id1\"><center>MODULE 4 - ALGO TRADING USING CLASSIFICATION</center></a>"
   ]
  },
  {
   "cell_type": "markdown",
   "metadata": {},
   "source": [
    "## <a id=\"id1\" style=\"color:#FF0000;\">Trade Call Prediction using Classification</a>\n",
    "In this module, we'd be covering the concept of classification and utilize our skills to solve the following queries – (Stock Price = Close Price)"
   ]
  },
  {
   "cell_type": "markdown",
   "metadata": {},
   "source": [
    "## <a id=\"id1\">PROBLEM STATEMENT 4.1</a>\n",
    "Import the csv file of the stock which contained the Bollinger columns as well.\n",
    "\n",
    "> Create a new column 'Call' , whose entries are - \n",
    "- 'Buy' if the stock price is below the lower Bollinger band \n",
    "- 'Hold Buy/ Liquidate Short' if the stock price is between the lower and middle Bollinger band \n",
    "- 'Hold Short/ Liquidate Buy' if the stock price is between the middle and upper Bollinger band \n",
    "- 'Short' if the stock price is above the upper Bollinger band \n",
    "\n",
    "> Now train a classification model with the 3 bollinger columns and the stock price as inputs and 'Calls' as output. Check the accuracy on a test set. (There are many classifier models to choose from, try each one out and compare the accuracy for each)\n",
    "\n",
    "> Import another stock data and create the bollinger columns. Using the already defined model, predict the daily calls for this new stock."
   ]
  },
  {
   "cell_type": "markdown",
   "metadata": {},
   "source": [
    "Importing the libraries we are going to use"
   ]
  },
  {
   "cell_type": "code",
   "execution_count": 1,
   "metadata": {},
   "outputs": [],
   "source": [
    "import pandas as pd"
   ]
  },
  {
   "cell_type": "markdown",
   "metadata": {},
   "source": [
    "### Problem Statement 4.1a Create new column \"Call\"\n",
    "Import the csv file of the stock which contained the Bollinger columns as well.\n",
    "\n",
    "Create a new column 'Call' , whose entries are - \n",
    "- 'Buy' if the stock price is below the lower Bollinger band \n",
    "- 'Hold Buy/ Liquidate Short' if the stock price is between the lower and middle Bollinger band \n",
    "- 'Hold Short/ Liquidate Buy' if the stock price is between the middle and upper Bollinger band \n",
    "- 'Short' if the stock price is above the upper Bollinger band "
   ]
  },
  {
   "cell_type": "code",
   "execution_count": 2,
   "metadata": {},
   "outputs": [],
   "source": [
    "stock_data = pd.read_csv(\"./week2.csv\",index_col=0)"
   ]
  },
  {
   "cell_type": "markdown",
   "metadata": {},
   "source": [
    "#### We are setting the Date as Index"
   ]
  },
  {
   "cell_type": "code",
   "execution_count": 3,
   "metadata": {},
   "outputs": [],
   "source": [
    "stock_data.Date = pd.to_datetime(stock_data.Date)\n",
    "stock_data = stock_data.set_index('Date')"
   ]
  },
  {
   "cell_type": "code",
   "execution_count": 5,
   "metadata": {
    "scrolled": true
   },
   "outputs": [
    {
     "data": {
      "text/html": [
       "<div>\n",
       "<style scoped>\n",
       "    .dataframe tbody tr th:only-of-type {\n",
       "        vertical-align: middle;\n",
       "    }\n",
       "\n",
       "    .dataframe tbody tr th {\n",
       "        vertical-align: top;\n",
       "    }\n",
       "\n",
       "    .dataframe thead th {\n",
       "        text-align: right;\n",
       "    }\n",
       "</style>\n",
       "<table border=\"1\" class=\"dataframe\">\n",
       "  <thead>\n",
       "    <tr style=\"text-align: right;\">\n",
       "      <th></th>\n",
       "      <th>Symbol</th>\n",
       "      <th>Series</th>\n",
       "      <th>Prev Close</th>\n",
       "      <th>Open Price</th>\n",
       "      <th>High Price</th>\n",
       "      <th>Low Price</th>\n",
       "      <th>Last Price</th>\n",
       "      <th>Close Price</th>\n",
       "      <th>Average Price</th>\n",
       "      <th>Total Traded Quantity</th>\n",
       "      <th>Turnover</th>\n",
       "      <th>No. of Trades</th>\n",
       "      <th>Deliverable Qty</th>\n",
       "      <th>% Dly Qt to Traded Qty</th>\n",
       "      <th>Year</th>\n",
       "      <th>Month</th>\n",
       "      <th>VWAP</th>\n",
       "      <th>Day_Perc_Change</th>\n",
       "      <th>Trend</th>\n",
       "    </tr>\n",
       "    <tr>\n",
       "      <th>Date</th>\n",
       "      <th></th>\n",
       "      <th></th>\n",
       "      <th></th>\n",
       "      <th></th>\n",
       "      <th></th>\n",
       "      <th></th>\n",
       "      <th></th>\n",
       "      <th></th>\n",
       "      <th></th>\n",
       "      <th></th>\n",
       "      <th></th>\n",
       "      <th></th>\n",
       "      <th></th>\n",
       "      <th></th>\n",
       "      <th></th>\n",
       "      <th></th>\n",
       "      <th></th>\n",
       "      <th></th>\n",
       "      <th></th>\n",
       "    </tr>\n",
       "  </thead>\n",
       "  <tbody>\n",
       "    <tr>\n",
       "      <th>2017-05-15</th>\n",
       "      <td>RAYMOND</td>\n",
       "      <td>EQ</td>\n",
       "      <td>763.45</td>\n",
       "      <td>765.00</td>\n",
       "      <td>779.00</td>\n",
       "      <td>757.05</td>\n",
       "      <td>773.9</td>\n",
       "      <td>772.80</td>\n",
       "      <td>770.09</td>\n",
       "      <td>292498</td>\n",
       "      <td>2.252491e+08</td>\n",
       "      <td>9033</td>\n",
       "      <td>55467</td>\n",
       "      <td>18.96</td>\n",
       "      <td>2017</td>\n",
       "      <td>5</td>\n",
       "      <td>772.800000</td>\n",
       "      <td>0.000000</td>\n",
       "      <td>Slight or No change</td>\n",
       "    </tr>\n",
       "    <tr>\n",
       "      <th>2017-05-16</th>\n",
       "      <td>RAYMOND</td>\n",
       "      <td>EQ</td>\n",
       "      <td>772.80</td>\n",
       "      <td>773.45</td>\n",
       "      <td>801.45</td>\n",
       "      <td>768.10</td>\n",
       "      <td>783.5</td>\n",
       "      <td>785.00</td>\n",
       "      <td>788.89</td>\n",
       "      <td>823956</td>\n",
       "      <td>6.500070e+08</td>\n",
       "      <td>18238</td>\n",
       "      <td>179377</td>\n",
       "      <td>21.77</td>\n",
       "      <td>2017</td>\n",
       "      <td>5</td>\n",
       "      <td>781.803741</td>\n",
       "      <td>1.578675</td>\n",
       "      <td>Positive</td>\n",
       "    </tr>\n",
       "    <tr>\n",
       "      <th>2017-05-17</th>\n",
       "      <td>RAYMOND</td>\n",
       "      <td>EQ</td>\n",
       "      <td>785.00</td>\n",
       "      <td>786.00</td>\n",
       "      <td>804.95</td>\n",
       "      <td>778.40</td>\n",
       "      <td>785.5</td>\n",
       "      <td>783.65</td>\n",
       "      <td>792.72</td>\n",
       "      <td>598094</td>\n",
       "      <td>4.741212e+08</td>\n",
       "      <td>13968</td>\n",
       "      <td>127637</td>\n",
       "      <td>21.34</td>\n",
       "      <td>2017</td>\n",
       "      <td>5</td>\n",
       "      <td>782.447781</td>\n",
       "      <td>-0.171975</td>\n",
       "      <td>Slight or No change</td>\n",
       "    </tr>\n",
       "    <tr>\n",
       "      <th>2017-05-18</th>\n",
       "      <td>RAYMOND</td>\n",
       "      <td>EQ</td>\n",
       "      <td>783.65</td>\n",
       "      <td>779.35</td>\n",
       "      <td>779.95</td>\n",
       "      <td>740.20</td>\n",
       "      <td>744.0</td>\n",
       "      <td>746.95</td>\n",
       "      <td>762.57</td>\n",
       "      <td>319834</td>\n",
       "      <td>2.438956e+08</td>\n",
       "      <td>7713</td>\n",
       "      <td>92200</td>\n",
       "      <td>28.83</td>\n",
       "      <td>2017</td>\n",
       "      <td>5</td>\n",
       "      <td>776.867021</td>\n",
       "      <td>-4.683213</td>\n",
       "      <td>Among top losers</td>\n",
       "    </tr>\n",
       "    <tr>\n",
       "      <th>2017-05-19</th>\n",
       "      <td>RAYMOND</td>\n",
       "      <td>EQ</td>\n",
       "      <td>746.95</td>\n",
       "      <td>748.00</td>\n",
       "      <td>767.50</td>\n",
       "      <td>714.00</td>\n",
       "      <td>722.0</td>\n",
       "      <td>723.10</td>\n",
       "      <td>740.30</td>\n",
       "      <td>561346</td>\n",
       "      <td>4.155619e+08</td>\n",
       "      <td>13328</td>\n",
       "      <td>137648</td>\n",
       "      <td>24.52</td>\n",
       "      <td>2017</td>\n",
       "      <td>5</td>\n",
       "      <td>765.239492</td>\n",
       "      <td>-3.192985</td>\n",
       "      <td>Among top losers</td>\n",
       "    </tr>\n",
       "  </tbody>\n",
       "</table>\n",
       "</div>"
      ],
      "text/plain": [
       "             Symbol Series  Prev Close  Open Price  High Price  Low Price  \\\n",
       "Date                                                                        \n",
       "2017-05-15  RAYMOND     EQ      763.45      765.00      779.00     757.05   \n",
       "2017-05-16  RAYMOND     EQ      772.80      773.45      801.45     768.10   \n",
       "2017-05-17  RAYMOND     EQ      785.00      786.00      804.95     778.40   \n",
       "2017-05-18  RAYMOND     EQ      783.65      779.35      779.95     740.20   \n",
       "2017-05-19  RAYMOND     EQ      746.95      748.00      767.50     714.00   \n",
       "\n",
       "            Last Price  Close Price  Average Price  Total Traded Quantity  \\\n",
       "Date                                                                        \n",
       "2017-05-15       773.9       772.80         770.09                 292498   \n",
       "2017-05-16       783.5       785.00         788.89                 823956   \n",
       "2017-05-17       785.5       783.65         792.72                 598094   \n",
       "2017-05-18       744.0       746.95         762.57                 319834   \n",
       "2017-05-19       722.0       723.10         740.30                 561346   \n",
       "\n",
       "                Turnover  No. of Trades  Deliverable Qty  \\\n",
       "Date                                                       \n",
       "2017-05-15  2.252491e+08           9033            55467   \n",
       "2017-05-16  6.500070e+08          18238           179377   \n",
       "2017-05-17  4.741212e+08          13968           127637   \n",
       "2017-05-18  2.438956e+08           7713            92200   \n",
       "2017-05-19  4.155619e+08          13328           137648   \n",
       "\n",
       "            % Dly Qt to Traded Qty  Year  Month        VWAP  Day_Perc_Change  \\\n",
       "Date                                                                           \n",
       "2017-05-15                   18.96  2017      5  772.800000         0.000000   \n",
       "2017-05-16                   21.77  2017      5  781.803741         1.578675   \n",
       "2017-05-17                   21.34  2017      5  782.447781        -0.171975   \n",
       "2017-05-18                   28.83  2017      5  776.867021        -4.683213   \n",
       "2017-05-19                   24.52  2017      5  765.239492        -3.192985   \n",
       "\n",
       "                          Trend  \n",
       "Date                             \n",
       "2017-05-15  Slight or No change  \n",
       "2017-05-16             Positive  \n",
       "2017-05-17  Slight or No change  \n",
       "2017-05-18     Among top losers  \n",
       "2017-05-19     Among top losers  "
      ]
     },
     "execution_count": 5,
     "metadata": {},
     "output_type": "execute_result"
    }
   ],
   "source": [
    "stock_data.head()"
   ]
  },
  {
   "cell_type": "markdown",
   "metadata": {},
   "source": [
    "####  Adding Bollinger Bands Columns\n",
    "First,We are finding the Mean and std for the rolling 14 days"
   ]
  },
  {
   "cell_type": "code",
   "execution_count": 6,
   "metadata": {},
   "outputs": [],
   "source": [
    "rol_avg = stock_data['Close Price'].rolling(window=14).mean()\n",
    "rol_std = stock_data['Close Price'].rolling(window=14).std()"
   ]
  },
  {
   "cell_type": "code",
   "execution_count": 8,
   "metadata": {},
   "outputs": [
    {
     "data": {
      "text/plain": [
       "Date\n",
       "2017-05-15           NaN\n",
       "2017-05-16           NaN\n",
       "2017-05-17           NaN\n",
       "2017-05-18           NaN\n",
       "2017-05-19           NaN\n",
       "                 ...    \n",
       "2019-05-07    773.471429\n",
       "2019-05-08    775.110714\n",
       "2019-05-09    775.725000\n",
       "2019-05-10    776.385714\n",
       "2019-05-13    776.250000\n",
       "Name: Close Price, Length: 494, dtype: float64"
      ]
     },
     "execution_count": 8,
     "metadata": {},
     "output_type": "execute_result"
    }
   ],
   "source": [
    "rol_avg"
   ]
  },
  {
   "cell_type": "code",
   "execution_count": 9,
   "metadata": {},
   "outputs": [
    {
     "data": {
      "text/plain": [
       "Date\n",
       "2017-05-15          NaN\n",
       "2017-05-16          NaN\n",
       "2017-05-17          NaN\n",
       "2017-05-18          NaN\n",
       "2017-05-19          NaN\n",
       "                ...    \n",
       "2019-05-07    21.746306\n",
       "2019-05-08    23.414248\n",
       "2019-05-09    24.126213\n",
       "2019-05-10    24.815902\n",
       "2019-05-13    24.792438\n",
       "Name: Close Price, Length: 494, dtype: float64"
      ]
     },
     "execution_count": 9,
     "metadata": {},
     "output_type": "execute_result"
    }
   ],
   "source": [
    "rol_std"
   ]
  },
  {
   "cell_type": "markdown",
   "metadata": {},
   "source": [
    "###### Now we are creating the 3 different columns named lower,upper and average(middle) and assigning the values to each row"
   ]
  },
  {
   "cell_type": "code",
   "execution_count": 11,
   "metadata": {},
   "outputs": [],
   "source": [
    "stock_data['lower'] = rol_avg-2*rol_std\n",
    "stock_data['avg'] = rol_avg\n",
    "stock_data['upper'] = rol_avg+2*rol_std"
   ]
  },
  {
   "cell_type": "code",
   "execution_count": 12,
   "metadata": {},
   "outputs": [
    {
     "data": {
      "text/html": [
       "<div>\n",
       "<style scoped>\n",
       "    .dataframe tbody tr th:only-of-type {\n",
       "        vertical-align: middle;\n",
       "    }\n",
       "\n",
       "    .dataframe tbody tr th {\n",
       "        vertical-align: top;\n",
       "    }\n",
       "\n",
       "    .dataframe thead th {\n",
       "        text-align: right;\n",
       "    }\n",
       "</style>\n",
       "<table border=\"1\" class=\"dataframe\">\n",
       "  <thead>\n",
       "    <tr style=\"text-align: right;\">\n",
       "      <th></th>\n",
       "      <th>Symbol</th>\n",
       "      <th>Series</th>\n",
       "      <th>Prev Close</th>\n",
       "      <th>Open Price</th>\n",
       "      <th>High Price</th>\n",
       "      <th>Low Price</th>\n",
       "      <th>Last Price</th>\n",
       "      <th>Close Price</th>\n",
       "      <th>Average Price</th>\n",
       "      <th>Total Traded Quantity</th>\n",
       "      <th>...</th>\n",
       "      <th>Deliverable Qty</th>\n",
       "      <th>% Dly Qt to Traded Qty</th>\n",
       "      <th>Year</th>\n",
       "      <th>Month</th>\n",
       "      <th>VWAP</th>\n",
       "      <th>Day_Perc_Change</th>\n",
       "      <th>Trend</th>\n",
       "      <th>lower</th>\n",
       "      <th>avg</th>\n",
       "      <th>upper</th>\n",
       "    </tr>\n",
       "    <tr>\n",
       "      <th>Date</th>\n",
       "      <th></th>\n",
       "      <th></th>\n",
       "      <th></th>\n",
       "      <th></th>\n",
       "      <th></th>\n",
       "      <th></th>\n",
       "      <th></th>\n",
       "      <th></th>\n",
       "      <th></th>\n",
       "      <th></th>\n",
       "      <th></th>\n",
       "      <th></th>\n",
       "      <th></th>\n",
       "      <th></th>\n",
       "      <th></th>\n",
       "      <th></th>\n",
       "      <th></th>\n",
       "      <th></th>\n",
       "      <th></th>\n",
       "      <th></th>\n",
       "      <th></th>\n",
       "    </tr>\n",
       "  </thead>\n",
       "  <tbody>\n",
       "    <tr>\n",
       "      <th>2017-05-15</th>\n",
       "      <td>RAYMOND</td>\n",
       "      <td>EQ</td>\n",
       "      <td>763.45</td>\n",
       "      <td>765.00</td>\n",
       "      <td>779.00</td>\n",
       "      <td>757.05</td>\n",
       "      <td>773.9</td>\n",
       "      <td>772.80</td>\n",
       "      <td>770.09</td>\n",
       "      <td>292498</td>\n",
       "      <td>...</td>\n",
       "      <td>55467</td>\n",
       "      <td>18.96</td>\n",
       "      <td>2017</td>\n",
       "      <td>5</td>\n",
       "      <td>772.800000</td>\n",
       "      <td>0.000000</td>\n",
       "      <td>Slight or No change</td>\n",
       "      <td>NaN</td>\n",
       "      <td>NaN</td>\n",
       "      <td>NaN</td>\n",
       "    </tr>\n",
       "    <tr>\n",
       "      <th>2017-05-16</th>\n",
       "      <td>RAYMOND</td>\n",
       "      <td>EQ</td>\n",
       "      <td>772.80</td>\n",
       "      <td>773.45</td>\n",
       "      <td>801.45</td>\n",
       "      <td>768.10</td>\n",
       "      <td>783.5</td>\n",
       "      <td>785.00</td>\n",
       "      <td>788.89</td>\n",
       "      <td>823956</td>\n",
       "      <td>...</td>\n",
       "      <td>179377</td>\n",
       "      <td>21.77</td>\n",
       "      <td>2017</td>\n",
       "      <td>5</td>\n",
       "      <td>781.803741</td>\n",
       "      <td>1.578675</td>\n",
       "      <td>Positive</td>\n",
       "      <td>NaN</td>\n",
       "      <td>NaN</td>\n",
       "      <td>NaN</td>\n",
       "    </tr>\n",
       "    <tr>\n",
       "      <th>2017-05-17</th>\n",
       "      <td>RAYMOND</td>\n",
       "      <td>EQ</td>\n",
       "      <td>785.00</td>\n",
       "      <td>786.00</td>\n",
       "      <td>804.95</td>\n",
       "      <td>778.40</td>\n",
       "      <td>785.5</td>\n",
       "      <td>783.65</td>\n",
       "      <td>792.72</td>\n",
       "      <td>598094</td>\n",
       "      <td>...</td>\n",
       "      <td>127637</td>\n",
       "      <td>21.34</td>\n",
       "      <td>2017</td>\n",
       "      <td>5</td>\n",
       "      <td>782.447781</td>\n",
       "      <td>-0.171975</td>\n",
       "      <td>Slight or No change</td>\n",
       "      <td>NaN</td>\n",
       "      <td>NaN</td>\n",
       "      <td>NaN</td>\n",
       "    </tr>\n",
       "    <tr>\n",
       "      <th>2017-05-18</th>\n",
       "      <td>RAYMOND</td>\n",
       "      <td>EQ</td>\n",
       "      <td>783.65</td>\n",
       "      <td>779.35</td>\n",
       "      <td>779.95</td>\n",
       "      <td>740.20</td>\n",
       "      <td>744.0</td>\n",
       "      <td>746.95</td>\n",
       "      <td>762.57</td>\n",
       "      <td>319834</td>\n",
       "      <td>...</td>\n",
       "      <td>92200</td>\n",
       "      <td>28.83</td>\n",
       "      <td>2017</td>\n",
       "      <td>5</td>\n",
       "      <td>776.867021</td>\n",
       "      <td>-4.683213</td>\n",
       "      <td>Among top losers</td>\n",
       "      <td>NaN</td>\n",
       "      <td>NaN</td>\n",
       "      <td>NaN</td>\n",
       "    </tr>\n",
       "    <tr>\n",
       "      <th>2017-05-19</th>\n",
       "      <td>RAYMOND</td>\n",
       "      <td>EQ</td>\n",
       "      <td>746.95</td>\n",
       "      <td>748.00</td>\n",
       "      <td>767.50</td>\n",
       "      <td>714.00</td>\n",
       "      <td>722.0</td>\n",
       "      <td>723.10</td>\n",
       "      <td>740.30</td>\n",
       "      <td>561346</td>\n",
       "      <td>...</td>\n",
       "      <td>137648</td>\n",
       "      <td>24.52</td>\n",
       "      <td>2017</td>\n",
       "      <td>5</td>\n",
       "      <td>765.239492</td>\n",
       "      <td>-3.192985</td>\n",
       "      <td>Among top losers</td>\n",
       "      <td>NaN</td>\n",
       "      <td>NaN</td>\n",
       "      <td>NaN</td>\n",
       "    </tr>\n",
       "  </tbody>\n",
       "</table>\n",
       "<p>5 rows × 22 columns</p>\n",
       "</div>"
      ],
      "text/plain": [
       "             Symbol Series  Prev Close  Open Price  High Price  Low Price  \\\n",
       "Date                                                                        \n",
       "2017-05-15  RAYMOND     EQ      763.45      765.00      779.00     757.05   \n",
       "2017-05-16  RAYMOND     EQ      772.80      773.45      801.45     768.10   \n",
       "2017-05-17  RAYMOND     EQ      785.00      786.00      804.95     778.40   \n",
       "2017-05-18  RAYMOND     EQ      783.65      779.35      779.95     740.20   \n",
       "2017-05-19  RAYMOND     EQ      746.95      748.00      767.50     714.00   \n",
       "\n",
       "            Last Price  Close Price  Average Price  Total Traded Quantity  \\\n",
       "Date                                                                        \n",
       "2017-05-15       773.9       772.80         770.09                 292498   \n",
       "2017-05-16       783.5       785.00         788.89                 823956   \n",
       "2017-05-17       785.5       783.65         792.72                 598094   \n",
       "2017-05-18       744.0       746.95         762.57                 319834   \n",
       "2017-05-19       722.0       723.10         740.30                 561346   \n",
       "\n",
       "            ...  Deliverable Qty  % Dly Qt to Traded Qty  Year  Month  \\\n",
       "Date        ...                                                         \n",
       "2017-05-15  ...            55467                   18.96  2017      5   \n",
       "2017-05-16  ...           179377                   21.77  2017      5   \n",
       "2017-05-17  ...           127637                   21.34  2017      5   \n",
       "2017-05-18  ...            92200                   28.83  2017      5   \n",
       "2017-05-19  ...           137648                   24.52  2017      5   \n",
       "\n",
       "                  VWAP  Day_Perc_Change                Trend  lower avg  upper  \n",
       "Date                                                                            \n",
       "2017-05-15  772.800000         0.000000  Slight or No change    NaN NaN    NaN  \n",
       "2017-05-16  781.803741         1.578675             Positive    NaN NaN    NaN  \n",
       "2017-05-17  782.447781        -0.171975  Slight or No change    NaN NaN    NaN  \n",
       "2017-05-18  776.867021        -4.683213     Among top losers    NaN NaN    NaN  \n",
       "2017-05-19  765.239492        -3.192985     Among top losers    NaN NaN    NaN  \n",
       "\n",
       "[5 rows x 22 columns]"
      ]
     },
     "execution_count": 12,
     "metadata": {},
     "output_type": "execute_result"
    }
   ],
   "source": [
    "stock_data.head()"
   ]
  },
  {
   "cell_type": "markdown",
   "metadata": {},
   "source": [
    "##### We are having NaN values in the starting 14 rows for lower,upper and avg(middle) bands so we have to do either filling or droping the values of the first 14 rows"
   ]
  },
  {
   "cell_type": "code",
   "execution_count": 13,
   "metadata": {},
   "outputs": [],
   "source": [
    "stock_data.dropna(inplace=True)"
   ]
  },
  {
   "cell_type": "markdown",
   "metadata": {},
   "source": [
    "###### So here we are droping the values of first 14 rows of a columns name called lower,upper and avg(middle)"
   ]
  },
  {
   "cell_type": "code",
   "execution_count": 14,
   "metadata": {},
   "outputs": [
    {
     "data": {
      "text/html": [
       "<div>\n",
       "<style scoped>\n",
       "    .dataframe tbody tr th:only-of-type {\n",
       "        vertical-align: middle;\n",
       "    }\n",
       "\n",
       "    .dataframe tbody tr th {\n",
       "        vertical-align: top;\n",
       "    }\n",
       "\n",
       "    .dataframe thead th {\n",
       "        text-align: right;\n",
       "    }\n",
       "</style>\n",
       "<table border=\"1\" class=\"dataframe\">\n",
       "  <thead>\n",
       "    <tr style=\"text-align: right;\">\n",
       "      <th></th>\n",
       "      <th>Symbol</th>\n",
       "      <th>Series</th>\n",
       "      <th>Prev Close</th>\n",
       "      <th>Open Price</th>\n",
       "      <th>High Price</th>\n",
       "      <th>Low Price</th>\n",
       "      <th>Last Price</th>\n",
       "      <th>Close Price</th>\n",
       "      <th>Average Price</th>\n",
       "      <th>Total Traded Quantity</th>\n",
       "      <th>...</th>\n",
       "      <th>Deliverable Qty</th>\n",
       "      <th>% Dly Qt to Traded Qty</th>\n",
       "      <th>Year</th>\n",
       "      <th>Month</th>\n",
       "      <th>VWAP</th>\n",
       "      <th>Day_Perc_Change</th>\n",
       "      <th>Trend</th>\n",
       "      <th>lower</th>\n",
       "      <th>avg</th>\n",
       "      <th>upper</th>\n",
       "    </tr>\n",
       "    <tr>\n",
       "      <th>Date</th>\n",
       "      <th></th>\n",
       "      <th></th>\n",
       "      <th></th>\n",
       "      <th></th>\n",
       "      <th></th>\n",
       "      <th></th>\n",
       "      <th></th>\n",
       "      <th></th>\n",
       "      <th></th>\n",
       "      <th></th>\n",
       "      <th></th>\n",
       "      <th></th>\n",
       "      <th></th>\n",
       "      <th></th>\n",
       "      <th></th>\n",
       "      <th></th>\n",
       "      <th></th>\n",
       "      <th></th>\n",
       "      <th></th>\n",
       "      <th></th>\n",
       "      <th></th>\n",
       "    </tr>\n",
       "  </thead>\n",
       "  <tbody>\n",
       "    <tr>\n",
       "      <th>2017-06-01</th>\n",
       "      <td>RAYMOND</td>\n",
       "      <td>EQ</td>\n",
       "      <td>694.20</td>\n",
       "      <td>696.0</td>\n",
       "      <td>708.8</td>\n",
       "      <td>674.1</td>\n",
       "      <td>693.50</td>\n",
       "      <td>693.90</td>\n",
       "      <td>697.14</td>\n",
       "      <td>378903</td>\n",
       "      <td>...</td>\n",
       "      <td>51076</td>\n",
       "      <td>13.48</td>\n",
       "      <td>2017</td>\n",
       "      <td>6</td>\n",
       "      <td>711.343029</td>\n",
       "      <td>-0.043215</td>\n",
       "      <td>Slight or No change</td>\n",
       "      <td>640.975166</td>\n",
       "      <td>719.125000</td>\n",
       "      <td>797.274834</td>\n",
       "    </tr>\n",
       "    <tr>\n",
       "      <th>2017-06-02</th>\n",
       "      <td>RAYMOND</td>\n",
       "      <td>EQ</td>\n",
       "      <td>693.90</td>\n",
       "      <td>707.8</td>\n",
       "      <td>714.5</td>\n",
       "      <td>697.4</td>\n",
       "      <td>702.10</td>\n",
       "      <td>702.65</td>\n",
       "      <td>706.31</td>\n",
       "      <td>426635</td>\n",
       "      <td>...</td>\n",
       "      <td>64055</td>\n",
       "      <td>15.01</td>\n",
       "      <td>2017</td>\n",
       "      <td>6</td>\n",
       "      <td>710.987062</td>\n",
       "      <td>1.260989</td>\n",
       "      <td>Positive</td>\n",
       "      <td>642.028958</td>\n",
       "      <td>714.114286</td>\n",
       "      <td>786.199614</td>\n",
       "    </tr>\n",
       "    <tr>\n",
       "      <th>2017-06-05</th>\n",
       "      <td>RAYMOND</td>\n",
       "      <td>EQ</td>\n",
       "      <td>702.65</td>\n",
       "      <td>705.1</td>\n",
       "      <td>757.0</td>\n",
       "      <td>705.0</td>\n",
       "      <td>749.45</td>\n",
       "      <td>751.25</td>\n",
       "      <td>739.27</td>\n",
       "      <td>1863074</td>\n",
       "      <td>...</td>\n",
       "      <td>201205</td>\n",
       "      <td>10.80</td>\n",
       "      <td>2017</td>\n",
       "      <td>6</td>\n",
       "      <td>717.094656</td>\n",
       "      <td>6.916673</td>\n",
       "      <td>Among top gainers</td>\n",
       "      <td>648.067896</td>\n",
       "      <td>711.703571</td>\n",
       "      <td>775.339247</td>\n",
       "    </tr>\n",
       "    <tr>\n",
       "      <th>2017-06-06</th>\n",
       "      <td>RAYMOND</td>\n",
       "      <td>EQ</td>\n",
       "      <td>751.25</td>\n",
       "      <td>756.0</td>\n",
       "      <td>759.5</td>\n",
       "      <td>721.3</td>\n",
       "      <td>729.15</td>\n",
       "      <td>728.45</td>\n",
       "      <td>741.59</td>\n",
       "      <td>1165454</td>\n",
       "      <td>...</td>\n",
       "      <td>171125</td>\n",
       "      <td>14.68</td>\n",
       "      <td>2017</td>\n",
       "      <td>6</td>\n",
       "      <td>718.078800</td>\n",
       "      <td>-3.034942</td>\n",
       "      <td>Among top losers</td>\n",
       "      <td>658.000115</td>\n",
       "      <td>707.760714</td>\n",
       "      <td>757.521313</td>\n",
       "    </tr>\n",
       "    <tr>\n",
       "      <th>2017-06-07</th>\n",
       "      <td>RAYMOND</td>\n",
       "      <td>EQ</td>\n",
       "      <td>728.45</td>\n",
       "      <td>730.0</td>\n",
       "      <td>741.8</td>\n",
       "      <td>721.0</td>\n",
       "      <td>725.00</td>\n",
       "      <td>729.05</td>\n",
       "      <td>731.45</td>\n",
       "      <td>530090</td>\n",
       "      <td>...</td>\n",
       "      <td>202308</td>\n",
       "      <td>38.16</td>\n",
       "      <td>2017</td>\n",
       "      <td>6</td>\n",
       "      <td>718.494879</td>\n",
       "      <td>0.082367</td>\n",
       "      <td>Slight or No change</td>\n",
       "      <td>660.265502</td>\n",
       "      <td>706.482143</td>\n",
       "      <td>752.698783</td>\n",
       "    </tr>\n",
       "  </tbody>\n",
       "</table>\n",
       "<p>5 rows × 22 columns</p>\n",
       "</div>"
      ],
      "text/plain": [
       "             Symbol Series  Prev Close  Open Price  High Price  Low Price  \\\n",
       "Date                                                                        \n",
       "2017-06-01  RAYMOND     EQ      694.20       696.0       708.8      674.1   \n",
       "2017-06-02  RAYMOND     EQ      693.90       707.8       714.5      697.4   \n",
       "2017-06-05  RAYMOND     EQ      702.65       705.1       757.0      705.0   \n",
       "2017-06-06  RAYMOND     EQ      751.25       756.0       759.5      721.3   \n",
       "2017-06-07  RAYMOND     EQ      728.45       730.0       741.8      721.0   \n",
       "\n",
       "            Last Price  Close Price  Average Price  Total Traded Quantity  \\\n",
       "Date                                                                        \n",
       "2017-06-01      693.50       693.90         697.14                 378903   \n",
       "2017-06-02      702.10       702.65         706.31                 426635   \n",
       "2017-06-05      749.45       751.25         739.27                1863074   \n",
       "2017-06-06      729.15       728.45         741.59                1165454   \n",
       "2017-06-07      725.00       729.05         731.45                 530090   \n",
       "\n",
       "            ...  Deliverable Qty  % Dly Qt to Traded Qty  Year  Month  \\\n",
       "Date        ...                                                         \n",
       "2017-06-01  ...            51076                   13.48  2017      6   \n",
       "2017-06-02  ...            64055                   15.01  2017      6   \n",
       "2017-06-05  ...           201205                   10.80  2017      6   \n",
       "2017-06-06  ...           171125                   14.68  2017      6   \n",
       "2017-06-07  ...           202308                   38.16  2017      6   \n",
       "\n",
       "                  VWAP  Day_Perc_Change                Trend       lower  \\\n",
       "Date                                                                       \n",
       "2017-06-01  711.343029        -0.043215  Slight or No change  640.975166   \n",
       "2017-06-02  710.987062         1.260989             Positive  642.028958   \n",
       "2017-06-05  717.094656         6.916673    Among top gainers  648.067896   \n",
       "2017-06-06  718.078800        -3.034942     Among top losers  658.000115   \n",
       "2017-06-07  718.494879         0.082367  Slight or No change  660.265502   \n",
       "\n",
       "                   avg       upper  \n",
       "Date                                \n",
       "2017-06-01  719.125000  797.274834  \n",
       "2017-06-02  714.114286  786.199614  \n",
       "2017-06-05  711.703571  775.339247  \n",
       "2017-06-06  707.760714  757.521313  \n",
       "2017-06-07  706.482143  752.698783  \n",
       "\n",
       "[5 rows x 22 columns]"
      ]
     },
     "execution_count": 14,
     "metadata": {},
     "output_type": "execute_result"
    }
   ],
   "source": [
    "stock_data.head()"
   ]
  },
  {
   "cell_type": "markdown",
   "metadata": {},
   "source": [
    "#### Create a new column `Call`\n",
    "\n",
    "whose entries are - \n",
    "\n",
    ">'Buy' if the stock price is below the lower Bollinger band \n",
    "\n",
    ">'Hold Buy/ Liquidate Short' if the stock price is between the lower and middle Bollinger band \n",
    "\n",
    ">'Hold Short/ Liquidate Buy' if the stock price is between the middle and upper Bollinger band \n",
    "\n",
    ">'Short' if the stock price is above the upper Bollinger band"
   ]
  },
  {
   "cell_type": "code",
   "execution_count": 16,
   "metadata": {},
   "outputs": [],
   "source": [
    "def classifying_call(close_price,lower_band,avg_band,upper_band):\n",
    "    if close_price <= lower_band:\n",
    "        return 'Buy'\n",
    "    if (close_price > lower_band) and (close_price <= avg_band):\n",
    "        return 'Hold Buy/Liquidate Short'\n",
    "    elif (close_price > avg_band) and (close_price <= upper_band):\n",
    "        return 'Hold Short/Liquidate Buy'\n",
    "    elif close_price > upper_band:\n",
    "        return 'Short'"
   ]
  },
  {
   "cell_type": "code",
   "execution_count": 17,
   "metadata": {},
   "outputs": [],
   "source": [
    "stock_data[\"Call\"] = stock_data.apply(lambda record : classifying_call(record['Close Price'], record['lower'], record['avg'], record['upper']), axis = 1)"
   ]
  },
  {
   "cell_type": "code",
   "execution_count": 18,
   "metadata": {
    "scrolled": true
   },
   "outputs": [
    {
     "data": {
      "text/html": [
       "<div>\n",
       "<style scoped>\n",
       "    .dataframe tbody tr th:only-of-type {\n",
       "        vertical-align: middle;\n",
       "    }\n",
       "\n",
       "    .dataframe tbody tr th {\n",
       "        vertical-align: top;\n",
       "    }\n",
       "\n",
       "    .dataframe thead th {\n",
       "        text-align: right;\n",
       "    }\n",
       "</style>\n",
       "<table border=\"1\" class=\"dataframe\">\n",
       "  <thead>\n",
       "    <tr style=\"text-align: right;\">\n",
       "      <th></th>\n",
       "      <th>Symbol</th>\n",
       "      <th>Series</th>\n",
       "      <th>Prev Close</th>\n",
       "      <th>Open Price</th>\n",
       "      <th>High Price</th>\n",
       "      <th>Low Price</th>\n",
       "      <th>Last Price</th>\n",
       "      <th>Close Price</th>\n",
       "      <th>Average Price</th>\n",
       "      <th>Total Traded Quantity</th>\n",
       "      <th>...</th>\n",
       "      <th>% Dly Qt to Traded Qty</th>\n",
       "      <th>Year</th>\n",
       "      <th>Month</th>\n",
       "      <th>VWAP</th>\n",
       "      <th>Day_Perc_Change</th>\n",
       "      <th>Trend</th>\n",
       "      <th>lower</th>\n",
       "      <th>avg</th>\n",
       "      <th>upper</th>\n",
       "      <th>Call</th>\n",
       "    </tr>\n",
       "    <tr>\n",
       "      <th>Date</th>\n",
       "      <th></th>\n",
       "      <th></th>\n",
       "      <th></th>\n",
       "      <th></th>\n",
       "      <th></th>\n",
       "      <th></th>\n",
       "      <th></th>\n",
       "      <th></th>\n",
       "      <th></th>\n",
       "      <th></th>\n",
       "      <th></th>\n",
       "      <th></th>\n",
       "      <th></th>\n",
       "      <th></th>\n",
       "      <th></th>\n",
       "      <th></th>\n",
       "      <th></th>\n",
       "      <th></th>\n",
       "      <th></th>\n",
       "      <th></th>\n",
       "      <th></th>\n",
       "    </tr>\n",
       "  </thead>\n",
       "  <tbody>\n",
       "    <tr>\n",
       "      <th>2017-06-01</th>\n",
       "      <td>RAYMOND</td>\n",
       "      <td>EQ</td>\n",
       "      <td>694.20</td>\n",
       "      <td>696.0</td>\n",
       "      <td>708.8</td>\n",
       "      <td>674.1</td>\n",
       "      <td>693.50</td>\n",
       "      <td>693.90</td>\n",
       "      <td>697.14</td>\n",
       "      <td>378903</td>\n",
       "      <td>...</td>\n",
       "      <td>13.48</td>\n",
       "      <td>2017</td>\n",
       "      <td>6</td>\n",
       "      <td>711.343029</td>\n",
       "      <td>-0.043215</td>\n",
       "      <td>Slight or No change</td>\n",
       "      <td>640.975166</td>\n",
       "      <td>719.125000</td>\n",
       "      <td>797.274834</td>\n",
       "      <td>Hold Buy/Liquidate Short</td>\n",
       "    </tr>\n",
       "    <tr>\n",
       "      <th>2017-06-02</th>\n",
       "      <td>RAYMOND</td>\n",
       "      <td>EQ</td>\n",
       "      <td>693.90</td>\n",
       "      <td>707.8</td>\n",
       "      <td>714.5</td>\n",
       "      <td>697.4</td>\n",
       "      <td>702.10</td>\n",
       "      <td>702.65</td>\n",
       "      <td>706.31</td>\n",
       "      <td>426635</td>\n",
       "      <td>...</td>\n",
       "      <td>15.01</td>\n",
       "      <td>2017</td>\n",
       "      <td>6</td>\n",
       "      <td>710.987062</td>\n",
       "      <td>1.260989</td>\n",
       "      <td>Positive</td>\n",
       "      <td>642.028958</td>\n",
       "      <td>714.114286</td>\n",
       "      <td>786.199614</td>\n",
       "      <td>Hold Buy/Liquidate Short</td>\n",
       "    </tr>\n",
       "    <tr>\n",
       "      <th>2017-06-05</th>\n",
       "      <td>RAYMOND</td>\n",
       "      <td>EQ</td>\n",
       "      <td>702.65</td>\n",
       "      <td>705.1</td>\n",
       "      <td>757.0</td>\n",
       "      <td>705.0</td>\n",
       "      <td>749.45</td>\n",
       "      <td>751.25</td>\n",
       "      <td>739.27</td>\n",
       "      <td>1863074</td>\n",
       "      <td>...</td>\n",
       "      <td>10.80</td>\n",
       "      <td>2017</td>\n",
       "      <td>6</td>\n",
       "      <td>717.094656</td>\n",
       "      <td>6.916673</td>\n",
       "      <td>Among top gainers</td>\n",
       "      <td>648.067896</td>\n",
       "      <td>711.703571</td>\n",
       "      <td>775.339247</td>\n",
       "      <td>Hold Short/Liquidate Buy</td>\n",
       "    </tr>\n",
       "    <tr>\n",
       "      <th>2017-06-06</th>\n",
       "      <td>RAYMOND</td>\n",
       "      <td>EQ</td>\n",
       "      <td>751.25</td>\n",
       "      <td>756.0</td>\n",
       "      <td>759.5</td>\n",
       "      <td>721.3</td>\n",
       "      <td>729.15</td>\n",
       "      <td>728.45</td>\n",
       "      <td>741.59</td>\n",
       "      <td>1165454</td>\n",
       "      <td>...</td>\n",
       "      <td>14.68</td>\n",
       "      <td>2017</td>\n",
       "      <td>6</td>\n",
       "      <td>718.078800</td>\n",
       "      <td>-3.034942</td>\n",
       "      <td>Among top losers</td>\n",
       "      <td>658.000115</td>\n",
       "      <td>707.760714</td>\n",
       "      <td>757.521313</td>\n",
       "      <td>Hold Short/Liquidate Buy</td>\n",
       "    </tr>\n",
       "    <tr>\n",
       "      <th>2017-06-07</th>\n",
       "      <td>RAYMOND</td>\n",
       "      <td>EQ</td>\n",
       "      <td>728.45</td>\n",
       "      <td>730.0</td>\n",
       "      <td>741.8</td>\n",
       "      <td>721.0</td>\n",
       "      <td>725.00</td>\n",
       "      <td>729.05</td>\n",
       "      <td>731.45</td>\n",
       "      <td>530090</td>\n",
       "      <td>...</td>\n",
       "      <td>38.16</td>\n",
       "      <td>2017</td>\n",
       "      <td>6</td>\n",
       "      <td>718.494879</td>\n",
       "      <td>0.082367</td>\n",
       "      <td>Slight or No change</td>\n",
       "      <td>660.265502</td>\n",
       "      <td>706.482143</td>\n",
       "      <td>752.698783</td>\n",
       "      <td>Hold Short/Liquidate Buy</td>\n",
       "    </tr>\n",
       "  </tbody>\n",
       "</table>\n",
       "<p>5 rows × 23 columns</p>\n",
       "</div>"
      ],
      "text/plain": [
       "             Symbol Series  Prev Close  Open Price  High Price  Low Price  \\\n",
       "Date                                                                        \n",
       "2017-06-01  RAYMOND     EQ      694.20       696.0       708.8      674.1   \n",
       "2017-06-02  RAYMOND     EQ      693.90       707.8       714.5      697.4   \n",
       "2017-06-05  RAYMOND     EQ      702.65       705.1       757.0      705.0   \n",
       "2017-06-06  RAYMOND     EQ      751.25       756.0       759.5      721.3   \n",
       "2017-06-07  RAYMOND     EQ      728.45       730.0       741.8      721.0   \n",
       "\n",
       "            Last Price  Close Price  Average Price  Total Traded Quantity  \\\n",
       "Date                                                                        \n",
       "2017-06-01      693.50       693.90         697.14                 378903   \n",
       "2017-06-02      702.10       702.65         706.31                 426635   \n",
       "2017-06-05      749.45       751.25         739.27                1863074   \n",
       "2017-06-06      729.15       728.45         741.59                1165454   \n",
       "2017-06-07      725.00       729.05         731.45                 530090   \n",
       "\n",
       "            ...  % Dly Qt to Traded Qty  Year  Month        VWAP  \\\n",
       "Date        ...                                                    \n",
       "2017-06-01  ...                   13.48  2017      6  711.343029   \n",
       "2017-06-02  ...                   15.01  2017      6  710.987062   \n",
       "2017-06-05  ...                   10.80  2017      6  717.094656   \n",
       "2017-06-06  ...                   14.68  2017      6  718.078800   \n",
       "2017-06-07  ...                   38.16  2017      6  718.494879   \n",
       "\n",
       "            Day_Perc_Change                Trend       lower         avg  \\\n",
       "Date                                                                       \n",
       "2017-06-01        -0.043215  Slight or No change  640.975166  719.125000   \n",
       "2017-06-02         1.260989             Positive  642.028958  714.114286   \n",
       "2017-06-05         6.916673    Among top gainers  648.067896  711.703571   \n",
       "2017-06-06        -3.034942     Among top losers  658.000115  707.760714   \n",
       "2017-06-07         0.082367  Slight or No change  660.265502  706.482143   \n",
       "\n",
       "                 upper                      Call  \n",
       "Date                                              \n",
       "2017-06-01  797.274834  Hold Buy/Liquidate Short  \n",
       "2017-06-02  786.199614  Hold Buy/Liquidate Short  \n",
       "2017-06-05  775.339247  Hold Short/Liquidate Buy  \n",
       "2017-06-06  757.521313  Hold Short/Liquidate Buy  \n",
       "2017-06-07  752.698783  Hold Short/Liquidate Buy  \n",
       "\n",
       "[5 rows x 23 columns]"
      ]
     },
     "execution_count": 18,
     "metadata": {},
     "output_type": "execute_result"
    }
   ],
   "source": [
    "stock_data.head()"
   ]
  },
  {
   "cell_type": "markdown",
   "metadata": {},
   "source": [
    "Checking the labels which are present in the `Call` Column"
   ]
  },
  {
   "cell_type": "code",
   "execution_count": 19,
   "metadata": {},
   "outputs": [
    {
     "data": {
      "text/plain": [
       "array(['Hold Buy/Liquidate Short', 'Hold Short/Liquidate Buy', 'Buy',\n",
       "       'Short'], dtype=object)"
      ]
     },
     "execution_count": 19,
     "metadata": {},
     "output_type": "execute_result"
    }
   ],
   "source": [
    "stock_data.Call.unique()"
   ]
  },
  {
   "cell_type": "markdown",
   "metadata": {},
   "source": [
    "Checking the counts of the each label in a `Call` Column."
   ]
  },
  {
   "cell_type": "code",
   "execution_count": 20,
   "metadata": {},
   "outputs": [
    {
     "data": {
      "text/plain": [
       "Hold Buy/Liquidate Short    216\n",
       "Hold Short/Liquidate Buy    211\n",
       "Buy                          30\n",
       "Short                        24\n",
       "Name: Call, dtype: int64"
      ]
     },
     "execution_count": 20,
     "metadata": {},
     "output_type": "execute_result"
    }
   ],
   "source": [
    "stock_data.Call.value_counts()"
   ]
  },
  {
   "cell_type": "markdown",
   "metadata": {},
   "source": [
    "Saving the CSV file for the further usage"
   ]
  },
  {
   "cell_type": "code",
   "execution_count": 21,
   "metadata": {},
   "outputs": [],
   "source": [
    "stock_data.to_csv('./week4.csv')"
   ]
  },
  {
   "cell_type": "markdown",
   "metadata": {},
   "source": [
    "### Problem Statement 4.1b Training Different Classification models\n",
    "\n",
    "Now train a classification model with the 3 bollinger columns and the stock price as inputs and 'Calls' as output. Check the accuracy on a test set. (There are many classifier models to choose from, try each one out and compare the accuracy for each)"
   ]
  },
  {
   "cell_type": "markdown",
   "metadata": {},
   "source": [
    "#### Training Testing Split"
   ]
  },
  {
   "cell_type": "code",
   "execution_count": 22,
   "metadata": {},
   "outputs": [
    {
     "data": {
      "text/html": [
       "<div>\n",
       "<style scoped>\n",
       "    .dataframe tbody tr th:only-of-type {\n",
       "        vertical-align: middle;\n",
       "    }\n",
       "\n",
       "    .dataframe tbody tr th {\n",
       "        vertical-align: top;\n",
       "    }\n",
       "\n",
       "    .dataframe thead th {\n",
       "        text-align: right;\n",
       "    }\n",
       "</style>\n",
       "<table border=\"1\" class=\"dataframe\">\n",
       "  <thead>\n",
       "    <tr style=\"text-align: right;\">\n",
       "      <th></th>\n",
       "      <th>lower</th>\n",
       "      <th>avg</th>\n",
       "      <th>upper</th>\n",
       "      <th>Close Price</th>\n",
       "    </tr>\n",
       "    <tr>\n",
       "      <th>Date</th>\n",
       "      <th></th>\n",
       "      <th></th>\n",
       "      <th></th>\n",
       "      <th></th>\n",
       "    </tr>\n",
       "  </thead>\n",
       "  <tbody>\n",
       "    <tr>\n",
       "      <th>2017-06-01</th>\n",
       "      <td>640.975166</td>\n",
       "      <td>719.125000</td>\n",
       "      <td>797.274834</td>\n",
       "      <td>693.90</td>\n",
       "    </tr>\n",
       "    <tr>\n",
       "      <th>2017-06-02</th>\n",
       "      <td>642.028958</td>\n",
       "      <td>714.114286</td>\n",
       "      <td>786.199614</td>\n",
       "      <td>702.65</td>\n",
       "    </tr>\n",
       "    <tr>\n",
       "      <th>2017-06-05</th>\n",
       "      <td>648.067896</td>\n",
       "      <td>711.703571</td>\n",
       "      <td>775.339247</td>\n",
       "      <td>751.25</td>\n",
       "    </tr>\n",
       "    <tr>\n",
       "      <th>2017-06-06</th>\n",
       "      <td>658.000115</td>\n",
       "      <td>707.760714</td>\n",
       "      <td>757.521313</td>\n",
       "      <td>728.45</td>\n",
       "    </tr>\n",
       "    <tr>\n",
       "      <th>2017-06-07</th>\n",
       "      <td>660.265502</td>\n",
       "      <td>706.482143</td>\n",
       "      <td>752.698783</td>\n",
       "      <td>729.05</td>\n",
       "    </tr>\n",
       "  </tbody>\n",
       "</table>\n",
       "</div>"
      ],
      "text/plain": [
       "                 lower         avg       upper  Close Price\n",
       "Date                                                       \n",
       "2017-06-01  640.975166  719.125000  797.274834       693.90\n",
       "2017-06-02  642.028958  714.114286  786.199614       702.65\n",
       "2017-06-05  648.067896  711.703571  775.339247       751.25\n",
       "2017-06-06  658.000115  707.760714  757.521313       728.45\n",
       "2017-06-07  660.265502  706.482143  752.698783       729.05"
      ]
     },
     "execution_count": 22,
     "metadata": {},
     "output_type": "execute_result"
    }
   ],
   "source": [
    "Input = stock_data[['lower','avg','upper','Close Price']]\n",
    "Input.head()"
   ]
  },
  {
   "cell_type": "markdown",
   "metadata": {},
   "source": [
    "Here,We are changing the labels into the numbered_label of `Call` Column for better understanding of the model"
   ]
  },
  {
   "cell_type": "code",
   "execution_count": 23,
   "metadata": {},
   "outputs": [
    {
     "data": {
      "text/html": [
       "<div>\n",
       "<style scoped>\n",
       "    .dataframe tbody tr th:only-of-type {\n",
       "        vertical-align: middle;\n",
       "    }\n",
       "\n",
       "    .dataframe tbody tr th {\n",
       "        vertical-align: top;\n",
       "    }\n",
       "\n",
       "    .dataframe thead th {\n",
       "        text-align: right;\n",
       "    }\n",
       "</style>\n",
       "<table border=\"1\" class=\"dataframe\">\n",
       "  <thead>\n",
       "    <tr style=\"text-align: right;\">\n",
       "      <th></th>\n",
       "      <th>0</th>\n",
       "    </tr>\n",
       "  </thead>\n",
       "  <tbody>\n",
       "    <tr>\n",
       "      <th>0</th>\n",
       "      <td>1</td>\n",
       "    </tr>\n",
       "    <tr>\n",
       "      <th>1</th>\n",
       "      <td>1</td>\n",
       "    </tr>\n",
       "    <tr>\n",
       "      <th>2</th>\n",
       "      <td>2</td>\n",
       "    </tr>\n",
       "    <tr>\n",
       "      <th>3</th>\n",
       "      <td>2</td>\n",
       "    </tr>\n",
       "    <tr>\n",
       "      <th>4</th>\n",
       "      <td>2</td>\n",
       "    </tr>\n",
       "  </tbody>\n",
       "</table>\n",
       "</div>"
      ],
      "text/plain": [
       "   0\n",
       "0  1\n",
       "1  1\n",
       "2  2\n",
       "3  2\n",
       "4  2"
      ]
     },
     "execution_count": 23,
     "metadata": {},
     "output_type": "execute_result"
    }
   ],
   "source": [
    "from sklearn import preprocessing\n",
    "label_encoder = preprocessing.LabelEncoder()\n",
    "numbered_label = label_encoder.fit_transform(stock_data.Call.ravel())\n",
    "Output = pd.DataFrame(numbered_label)\n",
    "Output.head()"
   ]
  },
  {
   "cell_type": "markdown",
   "metadata": {},
   "source": [
    "We are spliting the training dataset as 80% and testing datset as 20%"
   ]
  },
  {
   "cell_type": "code",
   "execution_count": 24,
   "metadata": {},
   "outputs": [],
   "source": [
    "from sklearn.model_selection import train_test_split\n",
    "X_train, X_test,y_train, y_test = train_test_split(Input, Output, test_size=0.2)"
   ]
  },
  {
   "cell_type": "code",
   "execution_count": 25,
   "metadata": {},
   "outputs": [],
   "source": [
    "y_train = y_train.values.reshape(len(y_train))\n",
    "y_test = y_test.values.reshape(len(y_test))"
   ]
  },
  {
   "cell_type": "markdown",
   "metadata": {},
   "source": [
    "Checking whether the `Call` column values(Strings)  in Numbered_Label"
   ]
  },
  {
   "cell_type": "code",
   "execution_count": 26,
   "metadata": {},
   "outputs": [
    {
     "data": {
      "text/plain": [
       "array([1, 2, 1, 2, 2, 2, 2, 2, 1, 1, 1, 2, 2, 2, 1, 1, 0, 1, 1, 1, 2, 1,\n",
       "       3, 3, 2, 1, 2, 2, 2, 1, 1, 1, 1, 2, 1, 1, 1, 2, 2, 1, 2, 2, 1, 1,\n",
       "       2, 2, 1, 1, 1, 1, 1, 2, 1, 1, 1, 2, 3, 3, 1, 1, 1, 2, 1, 2, 1, 1,\n",
       "       1, 2, 0, 2, 2, 2, 2, 2, 0, 1, 1, 2, 2, 1, 1, 1, 2, 0, 1, 2, 1, 1,\n",
       "       1, 1, 2, 2, 1, 1, 1, 1, 1, 0, 2, 1, 2, 1, 1, 2, 2, 2, 3, 1, 1, 2,\n",
       "       2, 1, 1, 2, 2, 1, 1, 2, 2, 1, 2, 1, 0, 1, 1, 2, 1, 3, 1, 3, 2, 0,\n",
       "       1, 1, 2, 2, 2, 2, 1, 1, 1, 1, 2, 1, 1, 2, 1, 1, 3, 1, 2, 2, 2, 1,\n",
       "       3, 1, 2, 1, 2, 3, 2, 1, 2, 1, 0, 2, 1, 1, 1, 2, 1, 1, 1, 2, 2, 2,\n",
       "       1, 2, 0, 2, 2, 2, 3, 2, 1, 2, 2, 0, 3, 1, 1, 2, 3, 1, 2, 1, 1, 2,\n",
       "       1, 3, 2, 0, 2, 0, 2, 2, 2, 1, 2, 2, 2, 2, 3, 1, 2, 1, 1, 1, 2, 1,\n",
       "       1, 1, 1, 2, 2, 2, 2, 1, 1, 3, 2, 1, 2, 2, 2, 2, 2, 2, 2, 1, 1, 2,\n",
       "       1, 2, 1, 1, 1, 2, 1, 2, 2, 1, 2, 2, 3, 1, 1, 2, 1, 0, 1, 1, 0, 1,\n",
       "       0, 2, 1, 0, 2, 2, 3, 1, 1, 1, 2, 1, 2, 1, 1, 2, 1, 2, 2, 1, 1, 2,\n",
       "       1, 2, 2, 2, 2, 2, 2, 1, 2, 1, 2, 2, 1, 1, 2, 2, 2, 1, 3, 1, 1, 1,\n",
       "       2, 1, 2, 2, 1, 2, 1, 2, 1, 1, 1, 0, 2, 2, 0, 2, 2, 2, 1, 2, 0, 1,\n",
       "       0, 1, 2, 2, 0, 1, 1, 2, 3, 1, 1, 2, 1, 2, 1, 2, 1, 3, 2, 1, 2, 0,\n",
       "       1, 1, 2, 2, 1, 2, 1, 1, 2, 1, 1, 2, 0, 2, 1, 1, 2, 2, 1, 2, 2, 1,\n",
       "       2, 1, 1, 1, 2, 2, 2, 3, 2, 2])"
      ]
     },
     "execution_count": 26,
     "metadata": {},
     "output_type": "execute_result"
    }
   ],
   "source": [
    "y_train"
   ]
  },
  {
   "cell_type": "code",
   "execution_count": 27,
   "metadata": {},
   "outputs": [
    {
     "data": {
      "text/plain": [
       "array([0, 2, 1, 2, 2, 2, 0, 1, 1, 2, 1, 1, 1, 1, 2, 1, 1, 1, 1, 1, 2, 2,\n",
       "       1, 1, 2, 2, 1, 2, 3, 0, 2, 1, 1, 2, 0, 2, 2, 2, 2, 1, 2, 2, 2, 2,\n",
       "       1, 1, 2, 1, 1, 2, 1, 2, 2, 2, 1, 1, 1, 0, 2, 3, 2, 1, 2, 2, 2, 2,\n",
       "       2, 2, 2, 0, 1, 1, 1, 1, 1, 2, 1, 2, 2, 1, 2, 2, 2, 1, 1, 1, 1, 1,\n",
       "       0, 1, 1, 2, 2, 1, 2, 2, 1])"
      ]
     },
     "execution_count": 27,
     "metadata": {},
     "output_type": "execute_result"
    }
   ],
   "source": [
    "y_test"
   ]
  },
  {
   "cell_type": "code",
   "execution_count": 29,
   "metadata": {},
   "outputs": [
    {
     "data": {
      "text/html": [
       "<div>\n",
       "<style scoped>\n",
       "    .dataframe tbody tr th:only-of-type {\n",
       "        vertical-align: middle;\n",
       "    }\n",
       "\n",
       "    .dataframe tbody tr th {\n",
       "        vertical-align: top;\n",
       "    }\n",
       "\n",
       "    .dataframe thead th {\n",
       "        text-align: right;\n",
       "    }\n",
       "</style>\n",
       "<table border=\"1\" class=\"dataframe\">\n",
       "  <thead>\n",
       "    <tr style=\"text-align: right;\">\n",
       "      <th></th>\n",
       "      <th>lower</th>\n",
       "      <th>avg</th>\n",
       "      <th>upper</th>\n",
       "      <th>Close Price</th>\n",
       "    </tr>\n",
       "    <tr>\n",
       "      <th>Date</th>\n",
       "      <th></th>\n",
       "      <th></th>\n",
       "      <th></th>\n",
       "      <th></th>\n",
       "    </tr>\n",
       "  </thead>\n",
       "  <tbody>\n",
       "    <tr>\n",
       "      <th>2018-10-08</th>\n",
       "      <td>602.478395</td>\n",
       "      <td>709.846429</td>\n",
       "      <td>817.214462</td>\n",
       "      <td>632.90</td>\n",
       "    </tr>\n",
       "    <tr>\n",
       "      <th>2019-03-06</th>\n",
       "      <td>645.443898</td>\n",
       "      <td>736.871429</td>\n",
       "      <td>828.298959</td>\n",
       "      <td>817.45</td>\n",
       "    </tr>\n",
       "    <tr>\n",
       "      <th>2019-01-21</th>\n",
       "      <td>802.857889</td>\n",
       "      <td>812.735714</td>\n",
       "      <td>822.613539</td>\n",
       "      <td>805.95</td>\n",
       "    </tr>\n",
       "    <tr>\n",
       "      <th>2018-01-10</th>\n",
       "      <td>1002.734268</td>\n",
       "      <td>1067.875000</td>\n",
       "      <td>1133.015732</td>\n",
       "      <td>1114.00</td>\n",
       "    </tr>\n",
       "    <tr>\n",
       "      <th>2018-11-09</th>\n",
       "      <td>593.636018</td>\n",
       "      <td>713.996429</td>\n",
       "      <td>834.356839</td>\n",
       "      <td>766.05</td>\n",
       "    </tr>\n",
       "  </tbody>\n",
       "</table>\n",
       "</div>"
      ],
      "text/plain": [
       "                  lower          avg        upper  Close Price\n",
       "Date                                                          \n",
       "2018-10-08   602.478395   709.846429   817.214462       632.90\n",
       "2019-03-06   645.443898   736.871429   828.298959       817.45\n",
       "2019-01-21   802.857889   812.735714   822.613539       805.95\n",
       "2018-01-10  1002.734268  1067.875000  1133.015732      1114.00\n",
       "2018-11-09   593.636018   713.996429   834.356839       766.05"
      ]
     },
     "execution_count": 29,
     "metadata": {},
     "output_type": "execute_result"
    }
   ],
   "source": [
    "X_train.head()"
   ]
  },
  {
   "cell_type": "code",
   "execution_count": 30,
   "metadata": {},
   "outputs": [
    {
     "data": {
      "text/html": [
       "<div>\n",
       "<style scoped>\n",
       "    .dataframe tbody tr th:only-of-type {\n",
       "        vertical-align: middle;\n",
       "    }\n",
       "\n",
       "    .dataframe tbody tr th {\n",
       "        vertical-align: top;\n",
       "    }\n",
       "\n",
       "    .dataframe thead th {\n",
       "        text-align: right;\n",
       "    }\n",
       "</style>\n",
       "<table border=\"1\" class=\"dataframe\">\n",
       "  <thead>\n",
       "    <tr style=\"text-align: right;\">\n",
       "      <th></th>\n",
       "      <th>lower</th>\n",
       "      <th>avg</th>\n",
       "      <th>upper</th>\n",
       "      <th>Close Price</th>\n",
       "    </tr>\n",
       "    <tr>\n",
       "      <th>Date</th>\n",
       "      <th></th>\n",
       "      <th></th>\n",
       "      <th></th>\n",
       "      <th></th>\n",
       "    </tr>\n",
       "  </thead>\n",
       "  <tbody>\n",
       "    <tr>\n",
       "      <th>2019-04-22</th>\n",
       "      <td>756.330589</td>\n",
       "      <td>793.278571</td>\n",
       "      <td>830.226554</td>\n",
       "      <td>755.40</td>\n",
       "    </tr>\n",
       "    <tr>\n",
       "      <th>2018-04-30</th>\n",
       "      <td>1009.764441</td>\n",
       "      <td>1070.825000</td>\n",
       "      <td>1131.885559</td>\n",
       "      <td>1112.05</td>\n",
       "    </tr>\n",
       "    <tr>\n",
       "      <th>2018-08-06</th>\n",
       "      <td>782.976178</td>\n",
       "      <td>823.267857</td>\n",
       "      <td>863.559536</td>\n",
       "      <td>812.50</td>\n",
       "    </tr>\n",
       "    <tr>\n",
       "      <th>2018-04-19</th>\n",
       "      <td>906.962754</td>\n",
       "      <td>1013.864286</td>\n",
       "      <td>1120.765818</td>\n",
       "      <td>1053.35</td>\n",
       "    </tr>\n",
       "    <tr>\n",
       "      <th>2018-10-26</th>\n",
       "      <td>592.890503</td>\n",
       "      <td>643.228571</td>\n",
       "      <td>693.566640</td>\n",
       "      <td>692.20</td>\n",
       "    </tr>\n",
       "  </tbody>\n",
       "</table>\n",
       "</div>"
      ],
      "text/plain": [
       "                  lower          avg        upper  Close Price\n",
       "Date                                                          \n",
       "2019-04-22   756.330589   793.278571   830.226554       755.40\n",
       "2018-04-30  1009.764441  1070.825000  1131.885559      1112.05\n",
       "2018-08-06   782.976178   823.267857   863.559536       812.50\n",
       "2018-04-19   906.962754  1013.864286  1120.765818      1053.35\n",
       "2018-10-26   592.890503   643.228571   693.566640       692.20"
      ]
     },
     "execution_count": 30,
     "metadata": {},
     "output_type": "execute_result"
    }
   ],
   "source": [
    "X_test.head()"
   ]
  },
  {
   "cell_type": "markdown",
   "metadata": {},
   "source": [
    "#### Training Different models\n",
    "#### Different Classification Algorithm\n",
    "1. Naive bayes (Linear Classifier)\n",
    "2. Logistic Regression (Linear Classifier)\n",
    "3. Support Vector Machine\n",
    "4. K-NEAREST NEIGHBOUR (KNN)\n",
    "5. Random Forest"
   ]
  },
  {
   "cell_type": "markdown",
   "metadata": {},
   "source": [
    "We are creating an new dataframe to store the training and testing accuracy of the different classifiers"
   ]
  },
  {
   "cell_type": "code",
   "execution_count": 31,
   "metadata": {},
   "outputs": [],
   "source": [
    "classifers_train_test = pd.DataFrame(columns=[\"Classifier\",\"Train_AUC\", \"Test_AUC\"])"
   ]
  },
  {
   "cell_type": "code",
   "execution_count": 32,
   "metadata": {},
   "outputs": [
    {
     "data": {
      "text/html": [
       "<div>\n",
       "<style scoped>\n",
       "    .dataframe tbody tr th:only-of-type {\n",
       "        vertical-align: middle;\n",
       "    }\n",
       "\n",
       "    .dataframe tbody tr th {\n",
       "        vertical-align: top;\n",
       "    }\n",
       "\n",
       "    .dataframe thead th {\n",
       "        text-align: right;\n",
       "    }\n",
       "</style>\n",
       "<table border=\"1\" class=\"dataframe\">\n",
       "  <thead>\n",
       "    <tr style=\"text-align: right;\">\n",
       "      <th></th>\n",
       "      <th>Classifier</th>\n",
       "      <th>Train_AUC</th>\n",
       "      <th>Test_AUC</th>\n",
       "    </tr>\n",
       "  </thead>\n",
       "  <tbody>\n",
       "  </tbody>\n",
       "</table>\n",
       "</div>"
      ],
      "text/plain": [
       "Empty DataFrame\n",
       "Columns: [Classifier, Train_AUC, Test_AUC]\n",
       "Index: []"
      ]
     },
     "execution_count": 32,
     "metadata": {},
     "output_type": "execute_result"
    }
   ],
   "source": [
    "classifers_train_test"
   ]
  },
  {
   "cell_type": "markdown",
   "metadata": {},
   "source": [
    "### <i>Naive bayes</i>"
   ]
  },
  {
   "cell_type": "code",
   "execution_count": 33,
   "metadata": {},
   "outputs": [
    {
     "data": {
      "text/plain": [
       "GaussianNB(priors=None, var_smoothing=1e-09)"
      ]
     },
     "execution_count": 33,
     "metadata": {},
     "output_type": "execute_result"
    }
   ],
   "source": [
    "from sklearn.naive_bayes import GaussianNB\n",
    "gaussian_classifier = GaussianNB()\n",
    "gaussian_classifier.fit(X_train, y_train)"
   ]
  },
  {
   "cell_type": "code",
   "execution_count": 34,
   "metadata": {},
   "outputs": [
    {
     "data": {
      "text/plain": [
       "0.49"
      ]
     },
     "execution_count": 34,
     "metadata": {},
     "output_type": "execute_result"
    }
   ],
   "source": [
    "training_accuracy = gaussian_classifier.score(X_train, y_train).round(2)\n",
    "training_accuracy"
   ]
  },
  {
   "cell_type": "code",
   "execution_count": 36,
   "metadata": {},
   "outputs": [
    {
     "data": {
      "text/plain": [
       "0.48"
      ]
     },
     "execution_count": 36,
     "metadata": {},
     "output_type": "execute_result"
    }
   ],
   "source": [
    "testing_accuracy = gaussian_classifier.score(X_test, y_test).round(2)\n",
    "testing_accuracy"
   ]
  },
  {
   "cell_type": "code",
   "execution_count": 37,
   "metadata": {},
   "outputs": [],
   "source": [
    "classifers_train_test.loc[0] = [\"Naive Bayes\", training_accuracy, testing_accuracy]"
   ]
  },
  {
   "cell_type": "code",
   "execution_count": 38,
   "metadata": {},
   "outputs": [
    {
     "data": {
      "text/html": [
       "<div>\n",
       "<style scoped>\n",
       "    .dataframe tbody tr th:only-of-type {\n",
       "        vertical-align: middle;\n",
       "    }\n",
       "\n",
       "    .dataframe tbody tr th {\n",
       "        vertical-align: top;\n",
       "    }\n",
       "\n",
       "    .dataframe thead th {\n",
       "        text-align: right;\n",
       "    }\n",
       "</style>\n",
       "<table border=\"1\" class=\"dataframe\">\n",
       "  <thead>\n",
       "    <tr style=\"text-align: right;\">\n",
       "      <th></th>\n",
       "      <th>Classifier</th>\n",
       "      <th>Train_AUC</th>\n",
       "      <th>Test_AUC</th>\n",
       "    </tr>\n",
       "  </thead>\n",
       "  <tbody>\n",
       "    <tr>\n",
       "      <th>0</th>\n",
       "      <td>Naive Bayes</td>\n",
       "      <td>0.49</td>\n",
       "      <td>0.48</td>\n",
       "    </tr>\n",
       "  </tbody>\n",
       "</table>\n",
       "</div>"
      ],
      "text/plain": [
       "    Classifier  Train_AUC  Test_AUC\n",
       "0  Naive Bayes       0.49      0.48"
      ]
     },
     "execution_count": 38,
     "metadata": {},
     "output_type": "execute_result"
    }
   ],
   "source": [
    "classifers_train_test"
   ]
  },
  {
   "cell_type": "markdown",
   "metadata": {},
   "source": [
    "### <i>Logistic Regression(Linear Classifier)</i>"
   ]
  },
  {
   "cell_type": "code",
   "execution_count": 39,
   "metadata": {},
   "outputs": [
    {
     "data": {
      "text/plain": [
       "LogisticRegression(C=1.0, class_weight='balanced', dual=False,\n",
       "                   fit_intercept=True, intercept_scaling=1, l1_ratio=None,\n",
       "                   max_iter=10000, multi_class='ovr', n_jobs=None, penalty='l2',\n",
       "                   random_state=None, solver='liblinear', tol=0.0001, verbose=0,\n",
       "                   warm_start=False)"
      ]
     },
     "execution_count": 39,
     "metadata": {},
     "output_type": "execute_result"
    }
   ],
   "source": [
    "from sklearn.linear_model import LogisticRegression\n",
    "lr = LogisticRegression(max_iter=10000,class_weight='balanced', multi_class=\"ovr\", solver='liblinear')\n",
    "lr.fit(X_train, y_train)"
   ]
  },
  {
   "cell_type": "code",
   "execution_count": 40,
   "metadata": {},
   "outputs": [
    {
     "data": {
      "text/plain": [
       "0.97"
      ]
     },
     "execution_count": 40,
     "metadata": {},
     "output_type": "execute_result"
    }
   ],
   "source": [
    "training_accuracy = lr.score(X_train, y_train).round(2)\n",
    "training_accuracy"
   ]
  },
  {
   "cell_type": "code",
   "execution_count": 41,
   "metadata": {},
   "outputs": [
    {
     "data": {
      "text/plain": [
       "0.98"
      ]
     },
     "execution_count": 41,
     "metadata": {},
     "output_type": "execute_result"
    }
   ],
   "source": [
    "testing_accuracy = lr.score(X_test, y_test).round(2)\n",
    "testing_accuracy"
   ]
  },
  {
   "cell_type": "code",
   "execution_count": 42,
   "metadata": {},
   "outputs": [],
   "source": [
    "classifers_train_test.loc[1] = [\"Logistic Regression\", training_accuracy, testing_accuracy]"
   ]
  },
  {
   "cell_type": "code",
   "execution_count": 43,
   "metadata": {},
   "outputs": [
    {
     "data": {
      "text/html": [
       "<div>\n",
       "<style scoped>\n",
       "    .dataframe tbody tr th:only-of-type {\n",
       "        vertical-align: middle;\n",
       "    }\n",
       "\n",
       "    .dataframe tbody tr th {\n",
       "        vertical-align: top;\n",
       "    }\n",
       "\n",
       "    .dataframe thead th {\n",
       "        text-align: right;\n",
       "    }\n",
       "</style>\n",
       "<table border=\"1\" class=\"dataframe\">\n",
       "  <thead>\n",
       "    <tr style=\"text-align: right;\">\n",
       "      <th></th>\n",
       "      <th>Classifier</th>\n",
       "      <th>Train_AUC</th>\n",
       "      <th>Test_AUC</th>\n",
       "    </tr>\n",
       "  </thead>\n",
       "  <tbody>\n",
       "    <tr>\n",
       "      <th>0</th>\n",
       "      <td>Naive Bayes</td>\n",
       "      <td>0.49</td>\n",
       "      <td>0.48</td>\n",
       "    </tr>\n",
       "    <tr>\n",
       "      <th>1</th>\n",
       "      <td>Logistic Regression</td>\n",
       "      <td>0.97</td>\n",
       "      <td>0.98</td>\n",
       "    </tr>\n",
       "  </tbody>\n",
       "</table>\n",
       "</div>"
      ],
      "text/plain": [
       "            Classifier  Train_AUC  Test_AUC\n",
       "0          Naive Bayes       0.49      0.48\n",
       "1  Logistic Regression       0.97      0.98"
      ]
     },
     "execution_count": 43,
     "metadata": {},
     "output_type": "execute_result"
    }
   ],
   "source": [
    "classifers_train_test"
   ]
  },
  {
   "cell_type": "markdown",
   "metadata": {},
   "source": [
    "### <i>Support Vector Machine<i>"
   ]
  },
  {
   "cell_type": "code",
   "execution_count": 44,
   "metadata": {},
   "outputs": [
    {
     "name": "stdout",
     "output_type": "stream",
     "text": [
      "[LibSVM]"
     ]
    },
    {
     "data": {
      "text/plain": [
       "SVC(C=1.0, break_ties=False, cache_size=200, class_weight='balanced', coef0=0.0,\n",
       "    decision_function_shape='ovr', degree=3, gamma='scale', kernel='rbf',\n",
       "    max_iter=-1, probability=False, random_state=None, shrinking=True,\n",
       "    tol=0.001, verbose=True)"
      ]
     },
     "execution_count": 44,
     "metadata": {},
     "output_type": "execute_result"
    }
   ],
   "source": [
    "from sklearn.svm import SVC\n",
    "svm_classifier = SVC(verbose=True, gamma='scale',class_weight='balanced')\n",
    "svm_classifier.fit(X_train, y_train)"
   ]
  },
  {
   "cell_type": "code",
   "execution_count": 45,
   "metadata": {},
   "outputs": [
    {
     "data": {
      "text/plain": [
       "0.63"
      ]
     },
     "execution_count": 45,
     "metadata": {},
     "output_type": "execute_result"
    }
   ],
   "source": [
    "training_accuracy = svm_classifier.score(X_train, y_train).round(2)\n",
    "training_accuracy"
   ]
  },
  {
   "cell_type": "code",
   "execution_count": 46,
   "metadata": {},
   "outputs": [
    {
     "data": {
      "text/plain": [
       "0.59"
      ]
     },
     "execution_count": 46,
     "metadata": {},
     "output_type": "execute_result"
    }
   ],
   "source": [
    "testing_accuracy = svm_classifier.score(X_test, y_test).round(2)\n",
    "testing_accuracy"
   ]
  },
  {
   "cell_type": "code",
   "execution_count": 47,
   "metadata": {},
   "outputs": [],
   "source": [
    "classifers_train_test.loc[2] = [\"SVM\", training_accuracy, testing_accuracy]"
   ]
  },
  {
   "cell_type": "code",
   "execution_count": 48,
   "metadata": {},
   "outputs": [
    {
     "data": {
      "text/html": [
       "<div>\n",
       "<style scoped>\n",
       "    .dataframe tbody tr th:only-of-type {\n",
       "        vertical-align: middle;\n",
       "    }\n",
       "\n",
       "    .dataframe tbody tr th {\n",
       "        vertical-align: top;\n",
       "    }\n",
       "\n",
       "    .dataframe thead th {\n",
       "        text-align: right;\n",
       "    }\n",
       "</style>\n",
       "<table border=\"1\" class=\"dataframe\">\n",
       "  <thead>\n",
       "    <tr style=\"text-align: right;\">\n",
       "      <th></th>\n",
       "      <th>Classifier</th>\n",
       "      <th>Train_AUC</th>\n",
       "      <th>Test_AUC</th>\n",
       "    </tr>\n",
       "  </thead>\n",
       "  <tbody>\n",
       "    <tr>\n",
       "      <th>0</th>\n",
       "      <td>Naive Bayes</td>\n",
       "      <td>0.49</td>\n",
       "      <td>0.48</td>\n",
       "    </tr>\n",
       "    <tr>\n",
       "      <th>1</th>\n",
       "      <td>Logistic Regression</td>\n",
       "      <td>0.97</td>\n",
       "      <td>0.98</td>\n",
       "    </tr>\n",
       "    <tr>\n",
       "      <th>2</th>\n",
       "      <td>SVM</td>\n",
       "      <td>0.63</td>\n",
       "      <td>0.59</td>\n",
       "    </tr>\n",
       "  </tbody>\n",
       "</table>\n",
       "</div>"
      ],
      "text/plain": [
       "            Classifier  Train_AUC  Test_AUC\n",
       "0          Naive Bayes       0.49      0.48\n",
       "1  Logistic Regression       0.97      0.98\n",
       "2                  SVM       0.63      0.59"
      ]
     },
     "execution_count": 48,
     "metadata": {},
     "output_type": "execute_result"
    }
   ],
   "source": [
    "classifers_train_test"
   ]
  },
  {
   "cell_type": "code",
   "execution_count": 49,
   "metadata": {},
   "outputs": [
    {
     "data": {
      "text/html": [
       "<div>\n",
       "<style scoped>\n",
       "    .dataframe tbody tr th:only-of-type {\n",
       "        vertical-align: middle;\n",
       "    }\n",
       "\n",
       "    .dataframe tbody tr th {\n",
       "        vertical-align: top;\n",
       "    }\n",
       "\n",
       "    .dataframe thead th {\n",
       "        text-align: right;\n",
       "    }\n",
       "</style>\n",
       "<table border=\"1\" class=\"dataframe\">\n",
       "  <thead>\n",
       "    <tr style=\"text-align: right;\">\n",
       "      <th></th>\n",
       "      <th>Classifier</th>\n",
       "      <th>Train_AUC</th>\n",
       "      <th>Test_AUC</th>\n",
       "    </tr>\n",
       "  </thead>\n",
       "  <tbody>\n",
       "    <tr>\n",
       "      <th>0</th>\n",
       "      <td>Naive Bayes</td>\n",
       "      <td>0.49</td>\n",
       "      <td>0.48</td>\n",
       "    </tr>\n",
       "    <tr>\n",
       "      <th>1</th>\n",
       "      <td>Logistic Regression</td>\n",
       "      <td>0.97</td>\n",
       "      <td>0.98</td>\n",
       "    </tr>\n",
       "    <tr>\n",
       "      <th>2</th>\n",
       "      <td>SVM</td>\n",
       "      <td>0.63</td>\n",
       "      <td>0.59</td>\n",
       "    </tr>\n",
       "  </tbody>\n",
       "</table>\n",
       "</div>"
      ],
      "text/plain": [
       "            Classifier  Train_AUC  Test_AUC\n",
       "0          Naive Bayes       0.49      0.48\n",
       "1  Logistic Regression       0.97      0.98\n",
       "2                  SVM       0.63      0.59"
      ]
     },
     "execution_count": 49,
     "metadata": {},
     "output_type": "execute_result"
    }
   ],
   "source": [
    "classifers_train_test"
   ]
  },
  {
   "cell_type": "markdown",
   "metadata": {},
   "source": [
    "### <i>K-Nearest Neighbour (KNN)</i>"
   ]
  },
  {
   "cell_type": "code",
   "execution_count": 50,
   "metadata": {},
   "outputs": [
    {
     "data": {
      "text/plain": [
       "KNeighborsClassifier(algorithm='auto', leaf_size=30, metric='minkowski',\n",
       "                     metric_params=None, n_jobs=None, n_neighbors=3, p=2,\n",
       "                     weights='uniform')"
      ]
     },
     "execution_count": 50,
     "metadata": {},
     "output_type": "execute_result"
    }
   ],
   "source": [
    "from sklearn.neighbors import KNeighborsClassifier\n",
    "knn_classifier = KNeighborsClassifier(n_neighbors=3)\n",
    "knn_classifier.fit(X_train, y_train)"
   ]
  },
  {
   "cell_type": "code",
   "execution_count": 51,
   "metadata": {},
   "outputs": [
    {
     "data": {
      "text/plain": [
       "0.9"
      ]
     },
     "execution_count": 51,
     "metadata": {},
     "output_type": "execute_result"
    }
   ],
   "source": [
    "training_accuracy = knn_classifier.score(X_train, y_train).round(2)\n",
    "training_accuracy"
   ]
  },
  {
   "cell_type": "code",
   "execution_count": 52,
   "metadata": {},
   "outputs": [
    {
     "data": {
      "text/plain": [
       "0.78"
      ]
     },
     "execution_count": 52,
     "metadata": {},
     "output_type": "execute_result"
    }
   ],
   "source": [
    "testing_accuracy = knn_classifier.score(X_test, y_test).round(2)\n",
    "testing_accuracy"
   ]
  },
  {
   "cell_type": "code",
   "execution_count": 53,
   "metadata": {},
   "outputs": [],
   "source": [
    "classifers_train_test.loc[3] = [\"KNN\", training_accuracy, testing_accuracy]"
   ]
  },
  {
   "cell_type": "code",
   "execution_count": 54,
   "metadata": {
    "scrolled": true
   },
   "outputs": [
    {
     "data": {
      "text/html": [
       "<div>\n",
       "<style scoped>\n",
       "    .dataframe tbody tr th:only-of-type {\n",
       "        vertical-align: middle;\n",
       "    }\n",
       "\n",
       "    .dataframe tbody tr th {\n",
       "        vertical-align: top;\n",
       "    }\n",
       "\n",
       "    .dataframe thead th {\n",
       "        text-align: right;\n",
       "    }\n",
       "</style>\n",
       "<table border=\"1\" class=\"dataframe\">\n",
       "  <thead>\n",
       "    <tr style=\"text-align: right;\">\n",
       "      <th></th>\n",
       "      <th>Classifier</th>\n",
       "      <th>Train_AUC</th>\n",
       "      <th>Test_AUC</th>\n",
       "    </tr>\n",
       "  </thead>\n",
       "  <tbody>\n",
       "    <tr>\n",
       "      <th>0</th>\n",
       "      <td>Naive Bayes</td>\n",
       "      <td>0.49</td>\n",
       "      <td>0.48</td>\n",
       "    </tr>\n",
       "    <tr>\n",
       "      <th>1</th>\n",
       "      <td>Logistic Regression</td>\n",
       "      <td>0.97</td>\n",
       "      <td>0.98</td>\n",
       "    </tr>\n",
       "    <tr>\n",
       "      <th>2</th>\n",
       "      <td>SVM</td>\n",
       "      <td>0.63</td>\n",
       "      <td>0.59</td>\n",
       "    </tr>\n",
       "    <tr>\n",
       "      <th>3</th>\n",
       "      <td>KNN</td>\n",
       "      <td>0.90</td>\n",
       "      <td>0.78</td>\n",
       "    </tr>\n",
       "  </tbody>\n",
       "</table>\n",
       "</div>"
      ],
      "text/plain": [
       "            Classifier  Train_AUC  Test_AUC\n",
       "0          Naive Bayes       0.49      0.48\n",
       "1  Logistic Regression       0.97      0.98\n",
       "2                  SVM       0.63      0.59\n",
       "3                  KNN       0.90      0.78"
      ]
     },
     "execution_count": 54,
     "metadata": {},
     "output_type": "execute_result"
    }
   ],
   "source": [
    "classifers_train_test"
   ]
  },
  {
   "cell_type": "markdown",
   "metadata": {},
   "source": [
    "### <i>Random Forest Classifier</i>"
   ]
  },
  {
   "cell_type": "code",
   "execution_count": 55,
   "metadata": {},
   "outputs": [
    {
     "data": {
      "text/plain": [
       "RandomForestClassifier(bootstrap=True, ccp_alpha=0.0, class_weight='balanced',\n",
       "                       criterion='gini', max_depth=3, max_features='auto',\n",
       "                       max_leaf_nodes=None, max_samples=None,\n",
       "                       min_impurity_decrease=0.0, min_impurity_split=None,\n",
       "                       min_samples_leaf=1, min_samples_split=2,\n",
       "                       min_weight_fraction_leaf=0.0, n_estimators=10,\n",
       "                       n_jobs=None, oob_score=False, random_state=None,\n",
       "                       verbose=0, warm_start=False)"
      ]
     },
     "execution_count": 55,
     "metadata": {},
     "output_type": "execute_result"
    }
   ],
   "source": [
    "from sklearn.ensemble import RandomForestClassifier\n",
    "rf_classifier = RandomForestClassifier(max_depth =3, n_estimators = 10,class_weight='balanced')\n",
    "rf_classifier.fit(X_train, y_train)"
   ]
  },
  {
   "cell_type": "code",
   "execution_count": 56,
   "metadata": {},
   "outputs": [
    {
     "data": {
      "text/plain": [
       "0.67"
      ]
     },
     "execution_count": 56,
     "metadata": {},
     "output_type": "execute_result"
    }
   ],
   "source": [
    "training_accuracy = rf_classifier.score(X_train, y_train).round(2)\n",
    "training_accuracy"
   ]
  },
  {
   "cell_type": "code",
   "execution_count": 57,
   "metadata": {},
   "outputs": [
    {
     "data": {
      "text/plain": [
       "0.53"
      ]
     },
     "execution_count": 57,
     "metadata": {},
     "output_type": "execute_result"
    }
   ],
   "source": [
    "testing_accuracy = rf_classifier.score(X_test, y_test).round(2)\n",
    "testing_accuracy"
   ]
  },
  {
   "cell_type": "code",
   "execution_count": 58,
   "metadata": {},
   "outputs": [],
   "source": [
    "classifers_train_test.loc[4] = [\"Random Forest\", training_accuracy, testing_accuracy]"
   ]
  },
  {
   "cell_type": "markdown",
   "metadata": {},
   "source": [
    "#### Accuracy of all models"
   ]
  },
  {
   "cell_type": "code",
   "execution_count": 59,
   "metadata": {},
   "outputs": [
    {
     "data": {
      "text/html": [
       "<div>\n",
       "<style scoped>\n",
       "    .dataframe tbody tr th:only-of-type {\n",
       "        vertical-align: middle;\n",
       "    }\n",
       "\n",
       "    .dataframe tbody tr th {\n",
       "        vertical-align: top;\n",
       "    }\n",
       "\n",
       "    .dataframe thead th {\n",
       "        text-align: right;\n",
       "    }\n",
       "</style>\n",
       "<table border=\"1\" class=\"dataframe\">\n",
       "  <thead>\n",
       "    <tr style=\"text-align: right;\">\n",
       "      <th></th>\n",
       "      <th>Classifier</th>\n",
       "      <th>Train_AUC</th>\n",
       "      <th>Test_AUC</th>\n",
       "    </tr>\n",
       "  </thead>\n",
       "  <tbody>\n",
       "    <tr>\n",
       "      <th>0</th>\n",
       "      <td>Naive Bayes</td>\n",
       "      <td>0.49</td>\n",
       "      <td>0.48</td>\n",
       "    </tr>\n",
       "    <tr>\n",
       "      <th>1</th>\n",
       "      <td>Logistic Regression</td>\n",
       "      <td>0.97</td>\n",
       "      <td>0.98</td>\n",
       "    </tr>\n",
       "    <tr>\n",
       "      <th>2</th>\n",
       "      <td>SVM</td>\n",
       "      <td>0.63</td>\n",
       "      <td>0.59</td>\n",
       "    </tr>\n",
       "    <tr>\n",
       "      <th>3</th>\n",
       "      <td>KNN</td>\n",
       "      <td>0.90</td>\n",
       "      <td>0.78</td>\n",
       "    </tr>\n",
       "    <tr>\n",
       "      <th>4</th>\n",
       "      <td>Random Forest</td>\n",
       "      <td>0.67</td>\n",
       "      <td>0.53</td>\n",
       "    </tr>\n",
       "  </tbody>\n",
       "</table>\n",
       "</div>"
      ],
      "text/plain": [
       "            Classifier  Train_AUC  Test_AUC\n",
       "0          Naive Bayes       0.49      0.48\n",
       "1  Logistic Regression       0.97      0.98\n",
       "2                  SVM       0.63      0.59\n",
       "3                  KNN       0.90      0.78\n",
       "4        Random Forest       0.67      0.53"
      ]
     },
     "execution_count": 59,
     "metadata": {},
     "output_type": "execute_result"
    }
   ],
   "source": [
    "classifers_train_test"
   ]
  },
  {
   "cell_type": "markdown",
   "metadata": {},
   "source": [
    "#### Logistic Regression gives the best accuracy and performance among all five models.\n",
    "#### Naive Bayes Classifier gives worst accuracy and performance."
   ]
  },
  {
   "cell_type": "markdown",
   "metadata": {},
   "source": [
    "### Problem Statement 4.1c Predicting Calls on another stock data\n",
    "Import another stock data and create the bollinger columns. Using the already defined model, predict the daily calls for this new stock."
   ]
  },
  {
   "cell_type": "code",
   "execution_count": 60,
   "metadata": {},
   "outputs": [
    {
     "data": {
      "text/html": [
       "<div>\n",
       "<style scoped>\n",
       "    .dataframe tbody tr th:only-of-type {\n",
       "        vertical-align: middle;\n",
       "    }\n",
       "\n",
       "    .dataframe tbody tr th {\n",
       "        vertical-align: top;\n",
       "    }\n",
       "\n",
       "    .dataframe thead th {\n",
       "        text-align: right;\n",
       "    }\n",
       "</style>\n",
       "<table border=\"1\" class=\"dataframe\">\n",
       "  <thead>\n",
       "    <tr style=\"text-align: right;\">\n",
       "      <th></th>\n",
       "      <th>Symbol</th>\n",
       "      <th>Series</th>\n",
       "      <th>Prev Close</th>\n",
       "      <th>Open Price</th>\n",
       "      <th>High Price</th>\n",
       "      <th>Low Price</th>\n",
       "      <th>Last Price</th>\n",
       "      <th>Close Price</th>\n",
       "      <th>Average Price</th>\n",
       "      <th>Total Traded Quantity</th>\n",
       "      <th>Turnover</th>\n",
       "      <th>No. of Trades</th>\n",
       "      <th>Deliverable Qty</th>\n",
       "      <th>% Dly Qt to Traded Qty</th>\n",
       "    </tr>\n",
       "    <tr>\n",
       "      <th>Date</th>\n",
       "      <th></th>\n",
       "      <th></th>\n",
       "      <th></th>\n",
       "      <th></th>\n",
       "      <th></th>\n",
       "      <th></th>\n",
       "      <th></th>\n",
       "      <th></th>\n",
       "      <th></th>\n",
       "      <th></th>\n",
       "      <th></th>\n",
       "      <th></th>\n",
       "      <th></th>\n",
       "      <th></th>\n",
       "    </tr>\n",
       "  </thead>\n",
       "  <tbody>\n",
       "    <tr>\n",
       "      <th>2017-05-15</th>\n",
       "      <td>LT</td>\n",
       "      <td>EQ</td>\n",
       "      <td>1740.60</td>\n",
       "      <td>1748.60</td>\n",
       "      <td>1751.55</td>\n",
       "      <td>1736.50</td>\n",
       "      <td>1742.00</td>\n",
       "      <td>1742.40</td>\n",
       "      <td>1743.15</td>\n",
       "      <td>797134</td>\n",
       "      <td>1.389521e+09</td>\n",
       "      <td>52614</td>\n",
       "      <td>529359</td>\n",
       "      <td>66.41</td>\n",
       "    </tr>\n",
       "    <tr>\n",
       "      <th>2017-05-16</th>\n",
       "      <td>LT</td>\n",
       "      <td>EQ</td>\n",
       "      <td>1742.40</td>\n",
       "      <td>1747.00</td>\n",
       "      <td>1748.25</td>\n",
       "      <td>1727.55</td>\n",
       "      <td>1740.60</td>\n",
       "      <td>1740.70</td>\n",
       "      <td>1736.62</td>\n",
       "      <td>1102926</td>\n",
       "      <td>1.915365e+09</td>\n",
       "      <td>48756</td>\n",
       "      <td>674148</td>\n",
       "      <td>61.12</td>\n",
       "    </tr>\n",
       "    <tr>\n",
       "      <th>2017-05-17</th>\n",
       "      <td>LT</td>\n",
       "      <td>EQ</td>\n",
       "      <td>1740.70</td>\n",
       "      <td>1743.90</td>\n",
       "      <td>1764.00</td>\n",
       "      <td>1730.50</td>\n",
       "      <td>1754.30</td>\n",
       "      <td>1755.45</td>\n",
       "      <td>1749.36</td>\n",
       "      <td>1668586</td>\n",
       "      <td>2.918955e+09</td>\n",
       "      <td>77513</td>\n",
       "      <td>830692</td>\n",
       "      <td>49.78</td>\n",
       "    </tr>\n",
       "    <tr>\n",
       "      <th>2017-05-18</th>\n",
       "      <td>LT</td>\n",
       "      <td>EQ</td>\n",
       "      <td>1755.45</td>\n",
       "      <td>1739.65</td>\n",
       "      <td>1750.10</td>\n",
       "      <td>1716.40</td>\n",
       "      <td>1722.10</td>\n",
       "      <td>1722.60</td>\n",
       "      <td>1725.53</td>\n",
       "      <td>1437220</td>\n",
       "      <td>2.479968e+09</td>\n",
       "      <td>47602</td>\n",
       "      <td>915874</td>\n",
       "      <td>63.73</td>\n",
       "    </tr>\n",
       "    <tr>\n",
       "      <th>2017-05-19</th>\n",
       "      <td>LT</td>\n",
       "      <td>EQ</td>\n",
       "      <td>1722.60</td>\n",
       "      <td>1729.00</td>\n",
       "      <td>1734.00</td>\n",
       "      <td>1697.55</td>\n",
       "      <td>1720.05</td>\n",
       "      <td>1724.55</td>\n",
       "      <td>1718.73</td>\n",
       "      <td>1512094</td>\n",
       "      <td>2.598885e+09</td>\n",
       "      <td>59280</td>\n",
       "      <td>838396</td>\n",
       "      <td>55.45</td>\n",
       "    </tr>\n",
       "  </tbody>\n",
       "</table>\n",
       "</div>"
      ],
      "text/plain": [
       "           Symbol Series  Prev Close  Open Price  High Price  Low Price  \\\n",
       "Date                                                                      \n",
       "2017-05-15     LT     EQ     1740.60     1748.60     1751.55    1736.50   \n",
       "2017-05-16     LT     EQ     1742.40     1747.00     1748.25    1727.55   \n",
       "2017-05-17     LT     EQ     1740.70     1743.90     1764.00    1730.50   \n",
       "2017-05-18     LT     EQ     1755.45     1739.65     1750.10    1716.40   \n",
       "2017-05-19     LT     EQ     1722.60     1729.00     1734.00    1697.55   \n",
       "\n",
       "            Last Price  Close Price  Average Price  Total Traded Quantity  \\\n",
       "Date                                                                        \n",
       "2017-05-15     1742.00      1742.40        1743.15                 797134   \n",
       "2017-05-16     1740.60      1740.70        1736.62                1102926   \n",
       "2017-05-17     1754.30      1755.45        1749.36                1668586   \n",
       "2017-05-18     1722.10      1722.60        1725.53                1437220   \n",
       "2017-05-19     1720.05      1724.55        1718.73                1512094   \n",
       "\n",
       "                Turnover  No. of Trades  Deliverable Qty  \\\n",
       "Date                                                       \n",
       "2017-05-15  1.389521e+09          52614           529359   \n",
       "2017-05-16  1.915365e+09          48756           674148   \n",
       "2017-05-17  2.918955e+09          77513           830692   \n",
       "2017-05-18  2.479968e+09          47602           915874   \n",
       "2017-05-19  2.598885e+09          59280           838396   \n",
       "\n",
       "            % Dly Qt to Traded Qty  \n",
       "Date                                \n",
       "2017-05-15                   66.41  \n",
       "2017-05-16                   61.12  \n",
       "2017-05-17                   49.78  \n",
       "2017-05-18                   63.73  \n",
       "2017-05-19                   55.45  "
      ]
     },
     "execution_count": 60,
     "metadata": {},
     "output_type": "execute_result"
    }
   ],
   "source": [
    "another_data = pd.read_csv(\"./LT.csv\")\n",
    "another_data.Date = pd.to_datetime(another_data.Date)\n",
    "another_data.set_index(\"Date\", inplace=True)\n",
    "another_data.head()"
   ]
  },
  {
   "cell_type": "markdown",
   "metadata": {},
   "source": [
    "####  Adding Bollinger Bands Columns\n",
    "First,We are finding the Mean and std for the rolling 14 days"
   ]
  },
  {
   "cell_type": "code",
   "execution_count": 61,
   "metadata": {},
   "outputs": [],
   "source": [
    "rolavg = another_data['Close Price'].rolling(window=14).mean()\n",
    "rolstd = another_data['Close Price'].rolling(window=14).std()"
   ]
  },
  {
   "cell_type": "markdown",
   "metadata": {},
   "source": [
    "###### Now we are creating the 3 different columns named lower,upper and average(middle) and assigning the values to each row"
   ]
  },
  {
   "cell_type": "code",
   "execution_count": 62,
   "metadata": {},
   "outputs": [],
   "source": [
    "another_data['lower'] = rolavg-2*rolstd\n",
    "another_data['avg'] = rolavg\n",
    "another_data['upper'] = rolavg+2*rolstd"
   ]
  },
  {
   "cell_type": "code",
   "execution_count": 63,
   "metadata": {},
   "outputs": [
    {
     "data": {
      "text/html": [
       "<div>\n",
       "<style scoped>\n",
       "    .dataframe tbody tr th:only-of-type {\n",
       "        vertical-align: middle;\n",
       "    }\n",
       "\n",
       "    .dataframe tbody tr th {\n",
       "        vertical-align: top;\n",
       "    }\n",
       "\n",
       "    .dataframe thead th {\n",
       "        text-align: right;\n",
       "    }\n",
       "</style>\n",
       "<table border=\"1\" class=\"dataframe\">\n",
       "  <thead>\n",
       "    <tr style=\"text-align: right;\">\n",
       "      <th></th>\n",
       "      <th>Symbol</th>\n",
       "      <th>Series</th>\n",
       "      <th>Prev Close</th>\n",
       "      <th>Open Price</th>\n",
       "      <th>High Price</th>\n",
       "      <th>Low Price</th>\n",
       "      <th>Last Price</th>\n",
       "      <th>Close Price</th>\n",
       "      <th>Average Price</th>\n",
       "      <th>Total Traded Quantity</th>\n",
       "      <th>Turnover</th>\n",
       "      <th>No. of Trades</th>\n",
       "      <th>Deliverable Qty</th>\n",
       "      <th>% Dly Qt to Traded Qty</th>\n",
       "      <th>lower</th>\n",
       "      <th>avg</th>\n",
       "      <th>upper</th>\n",
       "    </tr>\n",
       "    <tr>\n",
       "      <th>Date</th>\n",
       "      <th></th>\n",
       "      <th></th>\n",
       "      <th></th>\n",
       "      <th></th>\n",
       "      <th></th>\n",
       "      <th></th>\n",
       "      <th></th>\n",
       "      <th></th>\n",
       "      <th></th>\n",
       "      <th></th>\n",
       "      <th></th>\n",
       "      <th></th>\n",
       "      <th></th>\n",
       "      <th></th>\n",
       "      <th></th>\n",
       "      <th></th>\n",
       "      <th></th>\n",
       "    </tr>\n",
       "  </thead>\n",
       "  <tbody>\n",
       "    <tr>\n",
       "      <th>2017-05-15</th>\n",
       "      <td>LT</td>\n",
       "      <td>EQ</td>\n",
       "      <td>1740.60</td>\n",
       "      <td>1748.60</td>\n",
       "      <td>1751.55</td>\n",
       "      <td>1736.50</td>\n",
       "      <td>1742.00</td>\n",
       "      <td>1742.40</td>\n",
       "      <td>1743.15</td>\n",
       "      <td>797134</td>\n",
       "      <td>1.389521e+09</td>\n",
       "      <td>52614</td>\n",
       "      <td>529359</td>\n",
       "      <td>66.41</td>\n",
       "      <td>NaN</td>\n",
       "      <td>NaN</td>\n",
       "      <td>NaN</td>\n",
       "    </tr>\n",
       "    <tr>\n",
       "      <th>2017-05-16</th>\n",
       "      <td>LT</td>\n",
       "      <td>EQ</td>\n",
       "      <td>1742.40</td>\n",
       "      <td>1747.00</td>\n",
       "      <td>1748.25</td>\n",
       "      <td>1727.55</td>\n",
       "      <td>1740.60</td>\n",
       "      <td>1740.70</td>\n",
       "      <td>1736.62</td>\n",
       "      <td>1102926</td>\n",
       "      <td>1.915365e+09</td>\n",
       "      <td>48756</td>\n",
       "      <td>674148</td>\n",
       "      <td>61.12</td>\n",
       "      <td>NaN</td>\n",
       "      <td>NaN</td>\n",
       "      <td>NaN</td>\n",
       "    </tr>\n",
       "    <tr>\n",
       "      <th>2017-05-17</th>\n",
       "      <td>LT</td>\n",
       "      <td>EQ</td>\n",
       "      <td>1740.70</td>\n",
       "      <td>1743.90</td>\n",
       "      <td>1764.00</td>\n",
       "      <td>1730.50</td>\n",
       "      <td>1754.30</td>\n",
       "      <td>1755.45</td>\n",
       "      <td>1749.36</td>\n",
       "      <td>1668586</td>\n",
       "      <td>2.918955e+09</td>\n",
       "      <td>77513</td>\n",
       "      <td>830692</td>\n",
       "      <td>49.78</td>\n",
       "      <td>NaN</td>\n",
       "      <td>NaN</td>\n",
       "      <td>NaN</td>\n",
       "    </tr>\n",
       "    <tr>\n",
       "      <th>2017-05-18</th>\n",
       "      <td>LT</td>\n",
       "      <td>EQ</td>\n",
       "      <td>1755.45</td>\n",
       "      <td>1739.65</td>\n",
       "      <td>1750.10</td>\n",
       "      <td>1716.40</td>\n",
       "      <td>1722.10</td>\n",
       "      <td>1722.60</td>\n",
       "      <td>1725.53</td>\n",
       "      <td>1437220</td>\n",
       "      <td>2.479968e+09</td>\n",
       "      <td>47602</td>\n",
       "      <td>915874</td>\n",
       "      <td>63.73</td>\n",
       "      <td>NaN</td>\n",
       "      <td>NaN</td>\n",
       "      <td>NaN</td>\n",
       "    </tr>\n",
       "    <tr>\n",
       "      <th>2017-05-19</th>\n",
       "      <td>LT</td>\n",
       "      <td>EQ</td>\n",
       "      <td>1722.60</td>\n",
       "      <td>1729.00</td>\n",
       "      <td>1734.00</td>\n",
       "      <td>1697.55</td>\n",
       "      <td>1720.05</td>\n",
       "      <td>1724.55</td>\n",
       "      <td>1718.73</td>\n",
       "      <td>1512094</td>\n",
       "      <td>2.598885e+09</td>\n",
       "      <td>59280</td>\n",
       "      <td>838396</td>\n",
       "      <td>55.45</td>\n",
       "      <td>NaN</td>\n",
       "      <td>NaN</td>\n",
       "      <td>NaN</td>\n",
       "    </tr>\n",
       "  </tbody>\n",
       "</table>\n",
       "</div>"
      ],
      "text/plain": [
       "           Symbol Series  Prev Close  Open Price  High Price  Low Price  \\\n",
       "Date                                                                      \n",
       "2017-05-15     LT     EQ     1740.60     1748.60     1751.55    1736.50   \n",
       "2017-05-16     LT     EQ     1742.40     1747.00     1748.25    1727.55   \n",
       "2017-05-17     LT     EQ     1740.70     1743.90     1764.00    1730.50   \n",
       "2017-05-18     LT     EQ     1755.45     1739.65     1750.10    1716.40   \n",
       "2017-05-19     LT     EQ     1722.60     1729.00     1734.00    1697.55   \n",
       "\n",
       "            Last Price  Close Price  Average Price  Total Traded Quantity  \\\n",
       "Date                                                                        \n",
       "2017-05-15     1742.00      1742.40        1743.15                 797134   \n",
       "2017-05-16     1740.60      1740.70        1736.62                1102926   \n",
       "2017-05-17     1754.30      1755.45        1749.36                1668586   \n",
       "2017-05-18     1722.10      1722.60        1725.53                1437220   \n",
       "2017-05-19     1720.05      1724.55        1718.73                1512094   \n",
       "\n",
       "                Turnover  No. of Trades  Deliverable Qty  \\\n",
       "Date                                                       \n",
       "2017-05-15  1.389521e+09          52614           529359   \n",
       "2017-05-16  1.915365e+09          48756           674148   \n",
       "2017-05-17  2.918955e+09          77513           830692   \n",
       "2017-05-18  2.479968e+09          47602           915874   \n",
       "2017-05-19  2.598885e+09          59280           838396   \n",
       "\n",
       "            % Dly Qt to Traded Qty  lower  avg  upper  \n",
       "Date                                                   \n",
       "2017-05-15                   66.41    NaN  NaN    NaN  \n",
       "2017-05-16                   61.12    NaN  NaN    NaN  \n",
       "2017-05-17                   49.78    NaN  NaN    NaN  \n",
       "2017-05-18                   63.73    NaN  NaN    NaN  \n",
       "2017-05-19                   55.45    NaN  NaN    NaN  "
      ]
     },
     "execution_count": 63,
     "metadata": {},
     "output_type": "execute_result"
    }
   ],
   "source": [
    "another_data.head()"
   ]
  },
  {
   "cell_type": "markdown",
   "metadata": {},
   "source": [
    "##### We are having NaN values in the starting 14 rows for lower,upper and avg(middle) bands so we have to do either filling or droping the values of the first 14 rows"
   ]
  },
  {
   "cell_type": "code",
   "execution_count": 64,
   "metadata": {},
   "outputs": [
    {
     "data": {
      "text/html": [
       "<div>\n",
       "<style scoped>\n",
       "    .dataframe tbody tr th:only-of-type {\n",
       "        vertical-align: middle;\n",
       "    }\n",
       "\n",
       "    .dataframe tbody tr th {\n",
       "        vertical-align: top;\n",
       "    }\n",
       "\n",
       "    .dataframe thead th {\n",
       "        text-align: right;\n",
       "    }\n",
       "</style>\n",
       "<table border=\"1\" class=\"dataframe\">\n",
       "  <thead>\n",
       "    <tr style=\"text-align: right;\">\n",
       "      <th></th>\n",
       "      <th>Symbol</th>\n",
       "      <th>Series</th>\n",
       "      <th>Prev Close</th>\n",
       "      <th>Open Price</th>\n",
       "      <th>High Price</th>\n",
       "      <th>Low Price</th>\n",
       "      <th>Last Price</th>\n",
       "      <th>Close Price</th>\n",
       "      <th>Average Price</th>\n",
       "      <th>Total Traded Quantity</th>\n",
       "      <th>Turnover</th>\n",
       "      <th>No. of Trades</th>\n",
       "      <th>Deliverable Qty</th>\n",
       "      <th>% Dly Qt to Traded Qty</th>\n",
       "      <th>lower</th>\n",
       "      <th>avg</th>\n",
       "      <th>upper</th>\n",
       "    </tr>\n",
       "    <tr>\n",
       "      <th>Date</th>\n",
       "      <th></th>\n",
       "      <th></th>\n",
       "      <th></th>\n",
       "      <th></th>\n",
       "      <th></th>\n",
       "      <th></th>\n",
       "      <th></th>\n",
       "      <th></th>\n",
       "      <th></th>\n",
       "      <th></th>\n",
       "      <th></th>\n",
       "      <th></th>\n",
       "      <th></th>\n",
       "      <th></th>\n",
       "      <th></th>\n",
       "      <th></th>\n",
       "      <th></th>\n",
       "    </tr>\n",
       "  </thead>\n",
       "  <tbody>\n",
       "    <tr>\n",
       "      <th>2017-06-01</th>\n",
       "      <td>LT</td>\n",
       "      <td>EQ</td>\n",
       "      <td>1760.70</td>\n",
       "      <td>1760.0</td>\n",
       "      <td>1798.00</td>\n",
       "      <td>1748.00</td>\n",
       "      <td>1792.10</td>\n",
       "      <td>1792.80</td>\n",
       "      <td>1772.42</td>\n",
       "      <td>1932123</td>\n",
       "      <td>3.424526e+09</td>\n",
       "      <td>72013</td>\n",
       "      <td>957738</td>\n",
       "      <td>49.57</td>\n",
       "      <td>1693.461335</td>\n",
       "      <td>1751.625000</td>\n",
       "      <td>1809.788665</td>\n",
       "    </tr>\n",
       "    <tr>\n",
       "      <th>2017-06-02</th>\n",
       "      <td>LT</td>\n",
       "      <td>EQ</td>\n",
       "      <td>1792.80</td>\n",
       "      <td>1800.0</td>\n",
       "      <td>1805.00</td>\n",
       "      <td>1778.10</td>\n",
       "      <td>1784.85</td>\n",
       "      <td>1784.00</td>\n",
       "      <td>1787.39</td>\n",
       "      <td>950214</td>\n",
       "      <td>1.698405e+09</td>\n",
       "      <td>45529</td>\n",
       "      <td>436632</td>\n",
       "      <td>45.95</td>\n",
       "      <td>1694.253263</td>\n",
       "      <td>1754.596429</td>\n",
       "      <td>1814.939594</td>\n",
       "    </tr>\n",
       "    <tr>\n",
       "      <th>2017-06-05</th>\n",
       "      <td>LT</td>\n",
       "      <td>EQ</td>\n",
       "      <td>1784.00</td>\n",
       "      <td>1795.0</td>\n",
       "      <td>1809.40</td>\n",
       "      <td>1783.50</td>\n",
       "      <td>1804.35</td>\n",
       "      <td>1804.90</td>\n",
       "      <td>1802.25</td>\n",
       "      <td>1270946</td>\n",
       "      <td>2.290566e+09</td>\n",
       "      <td>62246</td>\n",
       "      <td>690909</td>\n",
       "      <td>54.36</td>\n",
       "      <td>1693.837723</td>\n",
       "      <td>1759.182143</td>\n",
       "      <td>1824.526563</td>\n",
       "    </tr>\n",
       "    <tr>\n",
       "      <th>2017-06-06</th>\n",
       "      <td>LT</td>\n",
       "      <td>EQ</td>\n",
       "      <td>1804.90</td>\n",
       "      <td>1807.7</td>\n",
       "      <td>1808.05</td>\n",
       "      <td>1772.15</td>\n",
       "      <td>1773.00</td>\n",
       "      <td>1775.15</td>\n",
       "      <td>1783.32</td>\n",
       "      <td>954046</td>\n",
       "      <td>1.701372e+09</td>\n",
       "      <td>50045</td>\n",
       "      <td>494546</td>\n",
       "      <td>51.84</td>\n",
       "      <td>1694.744536</td>\n",
       "      <td>1760.589286</td>\n",
       "      <td>1826.434035</td>\n",
       "    </tr>\n",
       "    <tr>\n",
       "      <th>2017-06-07</th>\n",
       "      <td>LT</td>\n",
       "      <td>EQ</td>\n",
       "      <td>1775.15</td>\n",
       "      <td>1774.0</td>\n",
       "      <td>1794.50</td>\n",
       "      <td>1773.00</td>\n",
       "      <td>1786.30</td>\n",
       "      <td>1788.60</td>\n",
       "      <td>1784.63</td>\n",
       "      <td>885027</td>\n",
       "      <td>1.579445e+09</td>\n",
       "      <td>53026</td>\n",
       "      <td>466130</td>\n",
       "      <td>52.67</td>\n",
       "      <td>1701.764977</td>\n",
       "      <td>1765.303571</td>\n",
       "      <td>1828.842166</td>\n",
       "    </tr>\n",
       "  </tbody>\n",
       "</table>\n",
       "</div>"
      ],
      "text/plain": [
       "           Symbol Series  Prev Close  Open Price  High Price  Low Price  \\\n",
       "Date                                                                      \n",
       "2017-06-01     LT     EQ     1760.70      1760.0     1798.00    1748.00   \n",
       "2017-06-02     LT     EQ     1792.80      1800.0     1805.00    1778.10   \n",
       "2017-06-05     LT     EQ     1784.00      1795.0     1809.40    1783.50   \n",
       "2017-06-06     LT     EQ     1804.90      1807.7     1808.05    1772.15   \n",
       "2017-06-07     LT     EQ     1775.15      1774.0     1794.50    1773.00   \n",
       "\n",
       "            Last Price  Close Price  Average Price  Total Traded Quantity  \\\n",
       "Date                                                                        \n",
       "2017-06-01     1792.10      1792.80        1772.42                1932123   \n",
       "2017-06-02     1784.85      1784.00        1787.39                 950214   \n",
       "2017-06-05     1804.35      1804.90        1802.25                1270946   \n",
       "2017-06-06     1773.00      1775.15        1783.32                 954046   \n",
       "2017-06-07     1786.30      1788.60        1784.63                 885027   \n",
       "\n",
       "                Turnover  No. of Trades  Deliverable Qty  \\\n",
       "Date                                                       \n",
       "2017-06-01  3.424526e+09          72013           957738   \n",
       "2017-06-02  1.698405e+09          45529           436632   \n",
       "2017-06-05  2.290566e+09          62246           690909   \n",
       "2017-06-06  1.701372e+09          50045           494546   \n",
       "2017-06-07  1.579445e+09          53026           466130   \n",
       "\n",
       "            % Dly Qt to Traded Qty        lower          avg        upper  \n",
       "Date                                                                       \n",
       "2017-06-01                   49.57  1693.461335  1751.625000  1809.788665  \n",
       "2017-06-02                   45.95  1694.253263  1754.596429  1814.939594  \n",
       "2017-06-05                   54.36  1693.837723  1759.182143  1824.526563  \n",
       "2017-06-06                   51.84  1694.744536  1760.589286  1826.434035  \n",
       "2017-06-07                   52.67  1701.764977  1765.303571  1828.842166  "
      ]
     },
     "execution_count": 64,
     "metadata": {},
     "output_type": "execute_result"
    }
   ],
   "source": [
    "another_data.dropna(inplace=True)\n",
    "another_data.head()"
   ]
  },
  {
   "cell_type": "markdown",
   "metadata": {},
   "source": [
    "#### Adding Column \"Call\""
   ]
  },
  {
   "cell_type": "code",
   "execution_count": 65,
   "metadata": {},
   "outputs": [],
   "source": [
    "another_data[\"Call\"] = another_data.apply(lambda record : classifying_call(record['Close Price'], record['lower'], record['avg'], record['upper']), axis = 1) "
   ]
  },
  {
   "cell_type": "markdown",
   "metadata": {},
   "source": [
    "Checking the labels which are present in the `Call` Column"
   ]
  },
  {
   "cell_type": "code",
   "execution_count": 66,
   "metadata": {
    "scrolled": true
   },
   "outputs": [
    {
     "data": {
      "text/plain": [
       "array(['Hold Short/Liquidate Buy', 'Hold Buy/Liquidate Short', 'Buy',\n",
       "       'Short'], dtype=object)"
      ]
     },
     "execution_count": 66,
     "metadata": {},
     "output_type": "execute_result"
    }
   ],
   "source": [
    "another_data.Call.unique()"
   ]
  },
  {
   "cell_type": "markdown",
   "metadata": {},
   "source": [
    "Checking the counts of the each label in a `Call` Column."
   ]
  },
  {
   "cell_type": "code",
   "execution_count": 67,
   "metadata": {},
   "outputs": [
    {
     "data": {
      "text/plain": [
       "Hold Buy/Liquidate Short    225\n",
       "Hold Short/Liquidate Buy    206\n",
       "Buy                          26\n",
       "Short                        24\n",
       "Name: Call, dtype: int64"
      ]
     },
     "execution_count": 67,
     "metadata": {},
     "output_type": "execute_result"
    }
   ],
   "source": [
    "another_data.Call.value_counts()"
   ]
  },
  {
   "cell_type": "markdown",
   "metadata": {},
   "source": [
    "#### Predicting Calls"
   ]
  },
  {
   "cell_type": "code",
   "execution_count": 68,
   "metadata": {},
   "outputs": [
    {
     "data": {
      "text/html": [
       "<div>\n",
       "<style scoped>\n",
       "    .dataframe tbody tr th:only-of-type {\n",
       "        vertical-align: middle;\n",
       "    }\n",
       "\n",
       "    .dataframe tbody tr th {\n",
       "        vertical-align: top;\n",
       "    }\n",
       "\n",
       "    .dataframe thead th {\n",
       "        text-align: right;\n",
       "    }\n",
       "</style>\n",
       "<table border=\"1\" class=\"dataframe\">\n",
       "  <thead>\n",
       "    <tr style=\"text-align: right;\">\n",
       "      <th></th>\n",
       "      <th>lower</th>\n",
       "      <th>avg</th>\n",
       "      <th>upper</th>\n",
       "      <th>Close Price</th>\n",
       "    </tr>\n",
       "    <tr>\n",
       "      <th>Date</th>\n",
       "      <th></th>\n",
       "      <th></th>\n",
       "      <th></th>\n",
       "      <th></th>\n",
       "    </tr>\n",
       "  </thead>\n",
       "  <tbody>\n",
       "    <tr>\n",
       "      <th>2019-05-07</th>\n",
       "      <td>1343.064459</td>\n",
       "      <td>1359.460714</td>\n",
       "      <td>1375.856970</td>\n",
       "      <td>1366.60</td>\n",
       "    </tr>\n",
       "    <tr>\n",
       "      <th>2019-05-08</th>\n",
       "      <td>1343.037397</td>\n",
       "      <td>1359.421429</td>\n",
       "      <td>1375.805460</td>\n",
       "      <td>1360.35</td>\n",
       "    </tr>\n",
       "    <tr>\n",
       "      <th>2019-05-09</th>\n",
       "      <td>1342.982196</td>\n",
       "      <td>1359.389286</td>\n",
       "      <td>1375.796375</td>\n",
       "      <td>1356.45</td>\n",
       "    </tr>\n",
       "    <tr>\n",
       "      <th>2019-05-10</th>\n",
       "      <td>1347.049497</td>\n",
       "      <td>1357.539286</td>\n",
       "      <td>1368.029074</td>\n",
       "      <td>1355.50</td>\n",
       "    </tr>\n",
       "    <tr>\n",
       "      <th>2019-05-13</th>\n",
       "      <td>1330.888535</td>\n",
       "      <td>1354.464286</td>\n",
       "      <td>1378.040037</td>\n",
       "      <td>1317.65</td>\n",
       "    </tr>\n",
       "  </tbody>\n",
       "</table>\n",
       "</div>"
      ],
      "text/plain": [
       "                  lower          avg        upper  Close Price\n",
       "Date                                                          \n",
       "2019-05-07  1343.064459  1359.460714  1375.856970      1366.60\n",
       "2019-05-08  1343.037397  1359.421429  1375.805460      1360.35\n",
       "2019-05-09  1342.982196  1359.389286  1375.796375      1356.45\n",
       "2019-05-10  1347.049497  1357.539286  1368.029074      1355.50\n",
       "2019-05-13  1330.888535  1354.464286  1378.040037      1317.65"
      ]
     },
     "execution_count": 68,
     "metadata": {},
     "output_type": "execute_result"
    }
   ],
   "source": [
    "Input = another_data[['lower','avg','upper','Close Price']]\n",
    "Input.tail()"
   ]
  },
  {
   "cell_type": "markdown",
   "metadata": {},
   "source": [
    "Here,We are changing the labels into the numbered_label of `Call` Column for better understanding of the model"
   ]
  },
  {
   "cell_type": "code",
   "execution_count": 69,
   "metadata": {},
   "outputs": [
    {
     "data": {
      "text/html": [
       "<div>\n",
       "<style scoped>\n",
       "    .dataframe tbody tr th:only-of-type {\n",
       "        vertical-align: middle;\n",
       "    }\n",
       "\n",
       "    .dataframe tbody tr th {\n",
       "        vertical-align: top;\n",
       "    }\n",
       "\n",
       "    .dataframe thead th {\n",
       "        text-align: right;\n",
       "    }\n",
       "</style>\n",
       "<table border=\"1\" class=\"dataframe\">\n",
       "  <thead>\n",
       "    <tr style=\"text-align: right;\">\n",
       "      <th></th>\n",
       "      <th>0</th>\n",
       "    </tr>\n",
       "  </thead>\n",
       "  <tbody>\n",
       "    <tr>\n",
       "      <th>476</th>\n",
       "      <td>2</td>\n",
       "    </tr>\n",
       "    <tr>\n",
       "      <th>477</th>\n",
       "      <td>2</td>\n",
       "    </tr>\n",
       "    <tr>\n",
       "      <th>478</th>\n",
       "      <td>1</td>\n",
       "    </tr>\n",
       "    <tr>\n",
       "      <th>479</th>\n",
       "      <td>1</td>\n",
       "    </tr>\n",
       "    <tr>\n",
       "      <th>480</th>\n",
       "      <td>0</td>\n",
       "    </tr>\n",
       "  </tbody>\n",
       "</table>\n",
       "</div>"
      ],
      "text/plain": [
       "     0\n",
       "476  2\n",
       "477  2\n",
       "478  1\n",
       "479  1\n",
       "480  0"
      ]
     },
     "execution_count": 69,
     "metadata": {},
     "output_type": "execute_result"
    }
   ],
   "source": [
    "label_encoder = preprocessing.LabelEncoder()\n",
    "numbered_label = label_encoder.fit_transform(another_data.Call.ravel())\n",
    "Output = pd.DataFrame(numbered_label)\n",
    "Output.tail()"
   ]
  },
  {
   "cell_type": "markdown",
   "metadata": {},
   "source": [
    "#### Predicted Calls using already defined Logistic Regression model"
   ]
  },
  {
   "cell_type": "code",
   "execution_count": 70,
   "metadata": {},
   "outputs": [],
   "source": [
    "output_pred = lr.predict(Input)"
   ]
  },
  {
   "cell_type": "markdown",
   "metadata": {},
   "source": [
    "#### Accuracy of LR model"
   ]
  },
  {
   "cell_type": "code",
   "execution_count": 71,
   "metadata": {},
   "outputs": [
    {
     "data": {
      "text/plain": [
       "0.9272349272349273"
      ]
     },
     "execution_count": 71,
     "metadata": {},
     "output_type": "execute_result"
    }
   ],
   "source": [
    "lr.score(Input, Output)"
   ]
  },
  {
   "cell_type": "markdown",
   "metadata": {},
   "source": [
    "#### Adding Predicted Call in another_data"
   ]
  },
  {
   "cell_type": "code",
   "execution_count": 72,
   "metadata": {},
   "outputs": [
    {
     "data": {
      "text/html": [
       "<div>\n",
       "<style scoped>\n",
       "    .dataframe tbody tr th:only-of-type {\n",
       "        vertical-align: middle;\n",
       "    }\n",
       "\n",
       "    .dataframe tbody tr th {\n",
       "        vertical-align: top;\n",
       "    }\n",
       "\n",
       "    .dataframe thead th {\n",
       "        text-align: right;\n",
       "    }\n",
       "</style>\n",
       "<table border=\"1\" class=\"dataframe\">\n",
       "  <thead>\n",
       "    <tr style=\"text-align: right;\">\n",
       "      <th></th>\n",
       "      <th>Symbol</th>\n",
       "      <th>Series</th>\n",
       "      <th>Prev Close</th>\n",
       "      <th>Open Price</th>\n",
       "      <th>High Price</th>\n",
       "      <th>Low Price</th>\n",
       "      <th>Last Price</th>\n",
       "      <th>Close Price</th>\n",
       "      <th>Average Price</th>\n",
       "      <th>Total Traded Quantity</th>\n",
       "      <th>Turnover</th>\n",
       "      <th>No. of Trades</th>\n",
       "      <th>Deliverable Qty</th>\n",
       "      <th>% Dly Qt to Traded Qty</th>\n",
       "      <th>lower</th>\n",
       "      <th>avg</th>\n",
       "      <th>upper</th>\n",
       "      <th>Call</th>\n",
       "      <th>Predicted Call</th>\n",
       "    </tr>\n",
       "    <tr>\n",
       "      <th>Date</th>\n",
       "      <th></th>\n",
       "      <th></th>\n",
       "      <th></th>\n",
       "      <th></th>\n",
       "      <th></th>\n",
       "      <th></th>\n",
       "      <th></th>\n",
       "      <th></th>\n",
       "      <th></th>\n",
       "      <th></th>\n",
       "      <th></th>\n",
       "      <th></th>\n",
       "      <th></th>\n",
       "      <th></th>\n",
       "      <th></th>\n",
       "      <th></th>\n",
       "      <th></th>\n",
       "      <th></th>\n",
       "      <th></th>\n",
       "    </tr>\n",
       "  </thead>\n",
       "  <tbody>\n",
       "    <tr>\n",
       "      <th>2019-05-07</th>\n",
       "      <td>LT</td>\n",
       "      <td>EQ</td>\n",
       "      <td>1352.70</td>\n",
       "      <td>1357.40</td>\n",
       "      <td>1374.35</td>\n",
       "      <td>1350.0</td>\n",
       "      <td>1368.50</td>\n",
       "      <td>1366.60</td>\n",
       "      <td>1366.49</td>\n",
       "      <td>2596385</td>\n",
       "      <td>3.547930e+09</td>\n",
       "      <td>80814</td>\n",
       "      <td>1727865</td>\n",
       "      <td>66.55</td>\n",
       "      <td>1343.064459</td>\n",
       "      <td>1359.460714</td>\n",
       "      <td>1375.856970</td>\n",
       "      <td>Hold Short/Liquidate Buy</td>\n",
       "      <td>Hold Buy/Liquidate Short</td>\n",
       "    </tr>\n",
       "    <tr>\n",
       "      <th>2019-05-08</th>\n",
       "      <td>LT</td>\n",
       "      <td>EQ</td>\n",
       "      <td>1366.60</td>\n",
       "      <td>1363.90</td>\n",
       "      <td>1371.00</td>\n",
       "      <td>1355.0</td>\n",
       "      <td>1362.00</td>\n",
       "      <td>1360.35</td>\n",
       "      <td>1364.13</td>\n",
       "      <td>1601700</td>\n",
       "      <td>2.184919e+09</td>\n",
       "      <td>77662</td>\n",
       "      <td>910828</td>\n",
       "      <td>56.87</td>\n",
       "      <td>1343.037397</td>\n",
       "      <td>1359.421429</td>\n",
       "      <td>1375.805460</td>\n",
       "      <td>Hold Short/Liquidate Buy</td>\n",
       "      <td>Hold Buy/Liquidate Short</td>\n",
       "    </tr>\n",
       "    <tr>\n",
       "      <th>2019-05-09</th>\n",
       "      <td>LT</td>\n",
       "      <td>EQ</td>\n",
       "      <td>1360.35</td>\n",
       "      <td>1357.00</td>\n",
       "      <td>1368.80</td>\n",
       "      <td>1337.6</td>\n",
       "      <td>1356.00</td>\n",
       "      <td>1356.45</td>\n",
       "      <td>1356.59</td>\n",
       "      <td>2464425</td>\n",
       "      <td>3.343208e+09</td>\n",
       "      <td>97052</td>\n",
       "      <td>1560086</td>\n",
       "      <td>63.30</td>\n",
       "      <td>1342.982196</td>\n",
       "      <td>1359.389286</td>\n",
       "      <td>1375.796375</td>\n",
       "      <td>Hold Buy/Liquidate Short</td>\n",
       "      <td>Hold Buy/Liquidate Short</td>\n",
       "    </tr>\n",
       "    <tr>\n",
       "      <th>2019-05-10</th>\n",
       "      <td>LT</td>\n",
       "      <td>EQ</td>\n",
       "      <td>1356.45</td>\n",
       "      <td>1359.65</td>\n",
       "      <td>1362.50</td>\n",
       "      <td>1345.1</td>\n",
       "      <td>1356.65</td>\n",
       "      <td>1355.50</td>\n",
       "      <td>1354.49</td>\n",
       "      <td>1466154</td>\n",
       "      <td>1.985897e+09</td>\n",
       "      <td>69058</td>\n",
       "      <td>716794</td>\n",
       "      <td>48.89</td>\n",
       "      <td>1347.049497</td>\n",
       "      <td>1357.539286</td>\n",
       "      <td>1368.029074</td>\n",
       "      <td>Hold Buy/Liquidate Short</td>\n",
       "      <td>Hold Buy/Liquidate Short</td>\n",
       "    </tr>\n",
       "    <tr>\n",
       "      <th>2019-05-13</th>\n",
       "      <td>LT</td>\n",
       "      <td>EQ</td>\n",
       "      <td>1355.50</td>\n",
       "      <td>1345.00</td>\n",
       "      <td>1355.00</td>\n",
       "      <td>1312.0</td>\n",
       "      <td>1318.20</td>\n",
       "      <td>1317.65</td>\n",
       "      <td>1326.93</td>\n",
       "      <td>3422913</td>\n",
       "      <td>4.541968e+09</td>\n",
       "      <td>126334</td>\n",
       "      <td>1686523</td>\n",
       "      <td>49.27</td>\n",
       "      <td>1330.888535</td>\n",
       "      <td>1354.464286</td>\n",
       "      <td>1378.040037</td>\n",
       "      <td>Buy</td>\n",
       "      <td>Buy</td>\n",
       "    </tr>\n",
       "  </tbody>\n",
       "</table>\n",
       "</div>"
      ],
      "text/plain": [
       "           Symbol Series  Prev Close  Open Price  High Price  Low Price  \\\n",
       "Date                                                                      \n",
       "2019-05-07     LT     EQ     1352.70     1357.40     1374.35     1350.0   \n",
       "2019-05-08     LT     EQ     1366.60     1363.90     1371.00     1355.0   \n",
       "2019-05-09     LT     EQ     1360.35     1357.00     1368.80     1337.6   \n",
       "2019-05-10     LT     EQ     1356.45     1359.65     1362.50     1345.1   \n",
       "2019-05-13     LT     EQ     1355.50     1345.00     1355.00     1312.0   \n",
       "\n",
       "            Last Price  Close Price  Average Price  Total Traded Quantity  \\\n",
       "Date                                                                        \n",
       "2019-05-07     1368.50      1366.60        1366.49                2596385   \n",
       "2019-05-08     1362.00      1360.35        1364.13                1601700   \n",
       "2019-05-09     1356.00      1356.45        1356.59                2464425   \n",
       "2019-05-10     1356.65      1355.50        1354.49                1466154   \n",
       "2019-05-13     1318.20      1317.65        1326.93                3422913   \n",
       "\n",
       "                Turnover  No. of Trades  Deliverable Qty  \\\n",
       "Date                                                       \n",
       "2019-05-07  3.547930e+09          80814          1727865   \n",
       "2019-05-08  2.184919e+09          77662           910828   \n",
       "2019-05-09  3.343208e+09          97052          1560086   \n",
       "2019-05-10  1.985897e+09          69058           716794   \n",
       "2019-05-13  4.541968e+09         126334          1686523   \n",
       "\n",
       "            % Dly Qt to Traded Qty        lower          avg        upper  \\\n",
       "Date                                                                        \n",
       "2019-05-07                   66.55  1343.064459  1359.460714  1375.856970   \n",
       "2019-05-08                   56.87  1343.037397  1359.421429  1375.805460   \n",
       "2019-05-09                   63.30  1342.982196  1359.389286  1375.796375   \n",
       "2019-05-10                   48.89  1347.049497  1357.539286  1368.029074   \n",
       "2019-05-13                   49.27  1330.888535  1354.464286  1378.040037   \n",
       "\n",
       "                                Call            Predicted Call  \n",
       "Date                                                            \n",
       "2019-05-07  Hold Short/Liquidate Buy  Hold Buy/Liquidate Short  \n",
       "2019-05-08  Hold Short/Liquidate Buy  Hold Buy/Liquidate Short  \n",
       "2019-05-09  Hold Buy/Liquidate Short  Hold Buy/Liquidate Short  \n",
       "2019-05-10  Hold Buy/Liquidate Short  Hold Buy/Liquidate Short  \n",
       "2019-05-13                       Buy                       Buy  "
      ]
     },
     "execution_count": 72,
     "metadata": {},
     "output_type": "execute_result"
    }
   ],
   "source": [
    "another_data[\"Predicted Call\"] = label_encoder.inverse_transform(output_pred)\n",
    "another_data.tail()"
   ]
  },
  {
   "cell_type": "markdown",
   "metadata": {},
   "source": [
    "## <a id=\"id2\">PROBLEM STATEMENT 4.2</a>\n",
    "Now, we'll again utilize classification to make a trade call, and measure the efficiency of our trading algorithm over the past two years. For this assignment , we will use RandomForest classifier. \n",
    "\n",
    "> Import the stock data file of your choice\n",
    "\n",
    "> Define 4 new columns , whose values are: \n",
    "- % change between Open and Close price for the day \n",
    "- % change between Low and High price for the day \n",
    "- 5 day rolling mean of the day to day % change in Close Price \n",
    "- 5 day rolling std of the day to day % change in Close Price \n",
    "\n",
    "> Create a new column 'Action' whose values are: \n",
    "- 1 if next day's price(Close) is greater than present day's. \n",
    "- (-1) if next day's price(Close) is less than present day's. \n",
    "- i.e. Action [ i ] = 1 if Close[ i+1 ] > Close[ i ] \n",
    "- i.e. Action [ i ] = (-1) if Close[ i+1 ] < Close[ i ]\n",
    "\n",
    "> Construct a classification model with the 4 new inputs and 'Action' as target\n",
    "> Check the accuracy of this model , also , plot the net cumulative returns (in %) if we were to follow this algorithmic model\n",
    "\n",
    "<img src=\"https://www.aspiration.link/machine-learning/internship/images/14.png\" alt=\"Drawing\" style=\"width: 500px;\" align=\"left\"/>"
   ]
  },
  {
   "cell_type": "markdown",
   "metadata": {},
   "source": [
    "###### Importing Stock data of LT "
   ]
  },
  {
   "cell_type": "code",
   "execution_count": 73,
   "metadata": {},
   "outputs": [
    {
     "data": {
      "text/html": [
       "<div>\n",
       "<style scoped>\n",
       "    .dataframe tbody tr th:only-of-type {\n",
       "        vertical-align: middle;\n",
       "    }\n",
       "\n",
       "    .dataframe tbody tr th {\n",
       "        vertical-align: top;\n",
       "    }\n",
       "\n",
       "    .dataframe thead th {\n",
       "        text-align: right;\n",
       "    }\n",
       "</style>\n",
       "<table border=\"1\" class=\"dataframe\">\n",
       "  <thead>\n",
       "    <tr style=\"text-align: right;\">\n",
       "      <th></th>\n",
       "      <th>Symbol</th>\n",
       "      <th>Series</th>\n",
       "      <th>Prev Close</th>\n",
       "      <th>Open Price</th>\n",
       "      <th>High Price</th>\n",
       "      <th>Low Price</th>\n",
       "      <th>Last Price</th>\n",
       "      <th>Close Price</th>\n",
       "      <th>Average Price</th>\n",
       "      <th>Total Traded Quantity</th>\n",
       "      <th>Turnover</th>\n",
       "      <th>No. of Trades</th>\n",
       "      <th>Deliverable Qty</th>\n",
       "      <th>% Dly Qt to Traded Qty</th>\n",
       "    </tr>\n",
       "    <tr>\n",
       "      <th>Date</th>\n",
       "      <th></th>\n",
       "      <th></th>\n",
       "      <th></th>\n",
       "      <th></th>\n",
       "      <th></th>\n",
       "      <th></th>\n",
       "      <th></th>\n",
       "      <th></th>\n",
       "      <th></th>\n",
       "      <th></th>\n",
       "      <th></th>\n",
       "      <th></th>\n",
       "      <th></th>\n",
       "      <th></th>\n",
       "    </tr>\n",
       "  </thead>\n",
       "  <tbody>\n",
       "    <tr>\n",
       "      <th>2017-05-15</th>\n",
       "      <td>LT</td>\n",
       "      <td>EQ</td>\n",
       "      <td>1740.60</td>\n",
       "      <td>1748.60</td>\n",
       "      <td>1751.55</td>\n",
       "      <td>1736.50</td>\n",
       "      <td>1742.00</td>\n",
       "      <td>1742.40</td>\n",
       "      <td>1743.15</td>\n",
       "      <td>797134</td>\n",
       "      <td>1.389521e+09</td>\n",
       "      <td>52614</td>\n",
       "      <td>529359</td>\n",
       "      <td>66.41</td>\n",
       "    </tr>\n",
       "    <tr>\n",
       "      <th>2017-05-16</th>\n",
       "      <td>LT</td>\n",
       "      <td>EQ</td>\n",
       "      <td>1742.40</td>\n",
       "      <td>1747.00</td>\n",
       "      <td>1748.25</td>\n",
       "      <td>1727.55</td>\n",
       "      <td>1740.60</td>\n",
       "      <td>1740.70</td>\n",
       "      <td>1736.62</td>\n",
       "      <td>1102926</td>\n",
       "      <td>1.915365e+09</td>\n",
       "      <td>48756</td>\n",
       "      <td>674148</td>\n",
       "      <td>61.12</td>\n",
       "    </tr>\n",
       "    <tr>\n",
       "      <th>2017-05-17</th>\n",
       "      <td>LT</td>\n",
       "      <td>EQ</td>\n",
       "      <td>1740.70</td>\n",
       "      <td>1743.90</td>\n",
       "      <td>1764.00</td>\n",
       "      <td>1730.50</td>\n",
       "      <td>1754.30</td>\n",
       "      <td>1755.45</td>\n",
       "      <td>1749.36</td>\n",
       "      <td>1668586</td>\n",
       "      <td>2.918955e+09</td>\n",
       "      <td>77513</td>\n",
       "      <td>830692</td>\n",
       "      <td>49.78</td>\n",
       "    </tr>\n",
       "    <tr>\n",
       "      <th>2017-05-18</th>\n",
       "      <td>LT</td>\n",
       "      <td>EQ</td>\n",
       "      <td>1755.45</td>\n",
       "      <td>1739.65</td>\n",
       "      <td>1750.10</td>\n",
       "      <td>1716.40</td>\n",
       "      <td>1722.10</td>\n",
       "      <td>1722.60</td>\n",
       "      <td>1725.53</td>\n",
       "      <td>1437220</td>\n",
       "      <td>2.479968e+09</td>\n",
       "      <td>47602</td>\n",
       "      <td>915874</td>\n",
       "      <td>63.73</td>\n",
       "    </tr>\n",
       "    <tr>\n",
       "      <th>2017-05-19</th>\n",
       "      <td>LT</td>\n",
       "      <td>EQ</td>\n",
       "      <td>1722.60</td>\n",
       "      <td>1729.00</td>\n",
       "      <td>1734.00</td>\n",
       "      <td>1697.55</td>\n",
       "      <td>1720.05</td>\n",
       "      <td>1724.55</td>\n",
       "      <td>1718.73</td>\n",
       "      <td>1512094</td>\n",
       "      <td>2.598885e+09</td>\n",
       "      <td>59280</td>\n",
       "      <td>838396</td>\n",
       "      <td>55.45</td>\n",
       "    </tr>\n",
       "  </tbody>\n",
       "</table>\n",
       "</div>"
      ],
      "text/plain": [
       "           Symbol Series  Prev Close  Open Price  High Price  Low Price  \\\n",
       "Date                                                                      \n",
       "2017-05-15     LT     EQ     1740.60     1748.60     1751.55    1736.50   \n",
       "2017-05-16     LT     EQ     1742.40     1747.00     1748.25    1727.55   \n",
       "2017-05-17     LT     EQ     1740.70     1743.90     1764.00    1730.50   \n",
       "2017-05-18     LT     EQ     1755.45     1739.65     1750.10    1716.40   \n",
       "2017-05-19     LT     EQ     1722.60     1729.00     1734.00    1697.55   \n",
       "\n",
       "            Last Price  Close Price  Average Price  Total Traded Quantity  \\\n",
       "Date                                                                        \n",
       "2017-05-15     1742.00      1742.40        1743.15                 797134   \n",
       "2017-05-16     1740.60      1740.70        1736.62                1102926   \n",
       "2017-05-17     1754.30      1755.45        1749.36                1668586   \n",
       "2017-05-18     1722.10      1722.60        1725.53                1437220   \n",
       "2017-05-19     1720.05      1724.55        1718.73                1512094   \n",
       "\n",
       "                Turnover  No. of Trades  Deliverable Qty  \\\n",
       "Date                                                       \n",
       "2017-05-15  1.389521e+09          52614           529359   \n",
       "2017-05-16  1.915365e+09          48756           674148   \n",
       "2017-05-17  2.918955e+09          77513           830692   \n",
       "2017-05-18  2.479968e+09          47602           915874   \n",
       "2017-05-19  2.598885e+09          59280           838396   \n",
       "\n",
       "            % Dly Qt to Traded Qty  \n",
       "Date                                \n",
       "2017-05-15                   66.41  \n",
       "2017-05-16                   61.12  \n",
       "2017-05-17                   49.78  \n",
       "2017-05-18                   63.73  \n",
       "2017-05-19                   55.45  "
      ]
     },
     "execution_count": 73,
     "metadata": {},
     "output_type": "execute_result"
    }
   ],
   "source": [
    "# Importing Stock data of LT \n",
    "stock_data = pd.read_csv(\"./LT.csv\")\n",
    "stock_data.Date = pd.to_datetime(stock_data.Date)\n",
    "stock_data.set_index(\"Date\", inplace=True)\n",
    "stock_data.head()"
   ]
  },
  {
   "cell_type": "code",
   "execution_count": 74,
   "metadata": {},
   "outputs": [
    {
     "data": {
      "text/plain": [
       "(494, 14)"
      ]
     },
     "execution_count": 74,
     "metadata": {},
     "output_type": "execute_result"
    }
   ],
   "source": [
    "stock_data.shape"
   ]
  },
  {
   "cell_type": "markdown",
   "metadata": {},
   "source": [
    "#### Adding Column for `% change between Open and Close price for the day`"
   ]
  },
  {
   "cell_type": "code",
   "execution_count": 75,
   "metadata": {},
   "outputs": [],
   "source": [
    "stock_data['OC_Pct_Change'] = (stock_data['Close Price']-stock_data['Open Price'])/stock_data['Close Price']*100.0"
   ]
  },
  {
   "cell_type": "code",
   "execution_count": 76,
   "metadata": {
    "scrolled": true
   },
   "outputs": [
    {
     "data": {
      "text/html": [
       "<div>\n",
       "<style scoped>\n",
       "    .dataframe tbody tr th:only-of-type {\n",
       "        vertical-align: middle;\n",
       "    }\n",
       "\n",
       "    .dataframe tbody tr th {\n",
       "        vertical-align: top;\n",
       "    }\n",
       "\n",
       "    .dataframe thead th {\n",
       "        text-align: right;\n",
       "    }\n",
       "</style>\n",
       "<table border=\"1\" class=\"dataframe\">\n",
       "  <thead>\n",
       "    <tr style=\"text-align: right;\">\n",
       "      <th></th>\n",
       "      <th>Symbol</th>\n",
       "      <th>Series</th>\n",
       "      <th>Prev Close</th>\n",
       "      <th>Open Price</th>\n",
       "      <th>High Price</th>\n",
       "      <th>Low Price</th>\n",
       "      <th>Last Price</th>\n",
       "      <th>Close Price</th>\n",
       "      <th>Average Price</th>\n",
       "      <th>Total Traded Quantity</th>\n",
       "      <th>Turnover</th>\n",
       "      <th>No. of Trades</th>\n",
       "      <th>Deliverable Qty</th>\n",
       "      <th>% Dly Qt to Traded Qty</th>\n",
       "      <th>OC_Pct_Change</th>\n",
       "    </tr>\n",
       "    <tr>\n",
       "      <th>Date</th>\n",
       "      <th></th>\n",
       "      <th></th>\n",
       "      <th></th>\n",
       "      <th></th>\n",
       "      <th></th>\n",
       "      <th></th>\n",
       "      <th></th>\n",
       "      <th></th>\n",
       "      <th></th>\n",
       "      <th></th>\n",
       "      <th></th>\n",
       "      <th></th>\n",
       "      <th></th>\n",
       "      <th></th>\n",
       "      <th></th>\n",
       "    </tr>\n",
       "  </thead>\n",
       "  <tbody>\n",
       "    <tr>\n",
       "      <th>2017-05-15</th>\n",
       "      <td>LT</td>\n",
       "      <td>EQ</td>\n",
       "      <td>1740.60</td>\n",
       "      <td>1748.60</td>\n",
       "      <td>1751.55</td>\n",
       "      <td>1736.50</td>\n",
       "      <td>1742.00</td>\n",
       "      <td>1742.40</td>\n",
       "      <td>1743.15</td>\n",
       "      <td>797134</td>\n",
       "      <td>1.389521e+09</td>\n",
       "      <td>52614</td>\n",
       "      <td>529359</td>\n",
       "      <td>66.41</td>\n",
       "      <td>-0.355831</td>\n",
       "    </tr>\n",
       "    <tr>\n",
       "      <th>2017-05-16</th>\n",
       "      <td>LT</td>\n",
       "      <td>EQ</td>\n",
       "      <td>1742.40</td>\n",
       "      <td>1747.00</td>\n",
       "      <td>1748.25</td>\n",
       "      <td>1727.55</td>\n",
       "      <td>1740.60</td>\n",
       "      <td>1740.70</td>\n",
       "      <td>1736.62</td>\n",
       "      <td>1102926</td>\n",
       "      <td>1.915365e+09</td>\n",
       "      <td>48756</td>\n",
       "      <td>674148</td>\n",
       "      <td>61.12</td>\n",
       "      <td>-0.361923</td>\n",
       "    </tr>\n",
       "    <tr>\n",
       "      <th>2017-05-17</th>\n",
       "      <td>LT</td>\n",
       "      <td>EQ</td>\n",
       "      <td>1740.70</td>\n",
       "      <td>1743.90</td>\n",
       "      <td>1764.00</td>\n",
       "      <td>1730.50</td>\n",
       "      <td>1754.30</td>\n",
       "      <td>1755.45</td>\n",
       "      <td>1749.36</td>\n",
       "      <td>1668586</td>\n",
       "      <td>2.918955e+09</td>\n",
       "      <td>77513</td>\n",
       "      <td>830692</td>\n",
       "      <td>49.78</td>\n",
       "      <td>0.657951</td>\n",
       "    </tr>\n",
       "    <tr>\n",
       "      <th>2017-05-18</th>\n",
       "      <td>LT</td>\n",
       "      <td>EQ</td>\n",
       "      <td>1755.45</td>\n",
       "      <td>1739.65</td>\n",
       "      <td>1750.10</td>\n",
       "      <td>1716.40</td>\n",
       "      <td>1722.10</td>\n",
       "      <td>1722.60</td>\n",
       "      <td>1725.53</td>\n",
       "      <td>1437220</td>\n",
       "      <td>2.479968e+09</td>\n",
       "      <td>47602</td>\n",
       "      <td>915874</td>\n",
       "      <td>63.73</td>\n",
       "      <td>-0.989783</td>\n",
       "    </tr>\n",
       "    <tr>\n",
       "      <th>2017-05-19</th>\n",
       "      <td>LT</td>\n",
       "      <td>EQ</td>\n",
       "      <td>1722.60</td>\n",
       "      <td>1729.00</td>\n",
       "      <td>1734.00</td>\n",
       "      <td>1697.55</td>\n",
       "      <td>1720.05</td>\n",
       "      <td>1724.55</td>\n",
       "      <td>1718.73</td>\n",
       "      <td>1512094</td>\n",
       "      <td>2.598885e+09</td>\n",
       "      <td>59280</td>\n",
       "      <td>838396</td>\n",
       "      <td>55.45</td>\n",
       "      <td>-0.258038</td>\n",
       "    </tr>\n",
       "  </tbody>\n",
       "</table>\n",
       "</div>"
      ],
      "text/plain": [
       "           Symbol Series  Prev Close  Open Price  High Price  Low Price  \\\n",
       "Date                                                                      \n",
       "2017-05-15     LT     EQ     1740.60     1748.60     1751.55    1736.50   \n",
       "2017-05-16     LT     EQ     1742.40     1747.00     1748.25    1727.55   \n",
       "2017-05-17     LT     EQ     1740.70     1743.90     1764.00    1730.50   \n",
       "2017-05-18     LT     EQ     1755.45     1739.65     1750.10    1716.40   \n",
       "2017-05-19     LT     EQ     1722.60     1729.00     1734.00    1697.55   \n",
       "\n",
       "            Last Price  Close Price  Average Price  Total Traded Quantity  \\\n",
       "Date                                                                        \n",
       "2017-05-15     1742.00      1742.40        1743.15                 797134   \n",
       "2017-05-16     1740.60      1740.70        1736.62                1102926   \n",
       "2017-05-17     1754.30      1755.45        1749.36                1668586   \n",
       "2017-05-18     1722.10      1722.60        1725.53                1437220   \n",
       "2017-05-19     1720.05      1724.55        1718.73                1512094   \n",
       "\n",
       "                Turnover  No. of Trades  Deliverable Qty  \\\n",
       "Date                                                       \n",
       "2017-05-15  1.389521e+09          52614           529359   \n",
       "2017-05-16  1.915365e+09          48756           674148   \n",
       "2017-05-17  2.918955e+09          77513           830692   \n",
       "2017-05-18  2.479968e+09          47602           915874   \n",
       "2017-05-19  2.598885e+09          59280           838396   \n",
       "\n",
       "            % Dly Qt to Traded Qty  OC_Pct_Change  \n",
       "Date                                               \n",
       "2017-05-15                   66.41      -0.355831  \n",
       "2017-05-16                   61.12      -0.361923  \n",
       "2017-05-17                   49.78       0.657951  \n",
       "2017-05-18                   63.73      -0.989783  \n",
       "2017-05-19                   55.45      -0.258038  "
      ]
     },
     "execution_count": 76,
     "metadata": {},
     "output_type": "execute_result"
    }
   ],
   "source": [
    "stock_data.head()"
   ]
  },
  {
   "cell_type": "markdown",
   "metadata": {},
   "source": [
    "#### Adding Column for `% change between Low and High price for the day `"
   ]
  },
  {
   "cell_type": "code",
   "execution_count": 77,
   "metadata": {},
   "outputs": [],
   "source": [
    "stock_data['LH_Pct_Change'] = (stock_data['High Price']-stock_data['Low Price'])/stock_data['High Price']*100.0"
   ]
  },
  {
   "cell_type": "code",
   "execution_count": 78,
   "metadata": {},
   "outputs": [
    {
     "data": {
      "text/html": [
       "<div>\n",
       "<style scoped>\n",
       "    .dataframe tbody tr th:only-of-type {\n",
       "        vertical-align: middle;\n",
       "    }\n",
       "\n",
       "    .dataframe tbody tr th {\n",
       "        vertical-align: top;\n",
       "    }\n",
       "\n",
       "    .dataframe thead th {\n",
       "        text-align: right;\n",
       "    }\n",
       "</style>\n",
       "<table border=\"1\" class=\"dataframe\">\n",
       "  <thead>\n",
       "    <tr style=\"text-align: right;\">\n",
       "      <th></th>\n",
       "      <th>Symbol</th>\n",
       "      <th>Series</th>\n",
       "      <th>Prev Close</th>\n",
       "      <th>Open Price</th>\n",
       "      <th>High Price</th>\n",
       "      <th>Low Price</th>\n",
       "      <th>Last Price</th>\n",
       "      <th>Close Price</th>\n",
       "      <th>Average Price</th>\n",
       "      <th>Total Traded Quantity</th>\n",
       "      <th>Turnover</th>\n",
       "      <th>No. of Trades</th>\n",
       "      <th>Deliverable Qty</th>\n",
       "      <th>% Dly Qt to Traded Qty</th>\n",
       "      <th>OC_Pct_Change</th>\n",
       "      <th>LH_Pct_Change</th>\n",
       "    </tr>\n",
       "    <tr>\n",
       "      <th>Date</th>\n",
       "      <th></th>\n",
       "      <th></th>\n",
       "      <th></th>\n",
       "      <th></th>\n",
       "      <th></th>\n",
       "      <th></th>\n",
       "      <th></th>\n",
       "      <th></th>\n",
       "      <th></th>\n",
       "      <th></th>\n",
       "      <th></th>\n",
       "      <th></th>\n",
       "      <th></th>\n",
       "      <th></th>\n",
       "      <th></th>\n",
       "      <th></th>\n",
       "    </tr>\n",
       "  </thead>\n",
       "  <tbody>\n",
       "    <tr>\n",
       "      <th>2017-05-15</th>\n",
       "      <td>LT</td>\n",
       "      <td>EQ</td>\n",
       "      <td>1740.60</td>\n",
       "      <td>1748.60</td>\n",
       "      <td>1751.55</td>\n",
       "      <td>1736.50</td>\n",
       "      <td>1742.00</td>\n",
       "      <td>1742.40</td>\n",
       "      <td>1743.15</td>\n",
       "      <td>797134</td>\n",
       "      <td>1.389521e+09</td>\n",
       "      <td>52614</td>\n",
       "      <td>529359</td>\n",
       "      <td>66.41</td>\n",
       "      <td>-0.355831</td>\n",
       "      <td>0.859239</td>\n",
       "    </tr>\n",
       "    <tr>\n",
       "      <th>2017-05-16</th>\n",
       "      <td>LT</td>\n",
       "      <td>EQ</td>\n",
       "      <td>1742.40</td>\n",
       "      <td>1747.00</td>\n",
       "      <td>1748.25</td>\n",
       "      <td>1727.55</td>\n",
       "      <td>1740.60</td>\n",
       "      <td>1740.70</td>\n",
       "      <td>1736.62</td>\n",
       "      <td>1102926</td>\n",
       "      <td>1.915365e+09</td>\n",
       "      <td>48756</td>\n",
       "      <td>674148</td>\n",
       "      <td>61.12</td>\n",
       "      <td>-0.361923</td>\n",
       "      <td>1.184041</td>\n",
       "    </tr>\n",
       "    <tr>\n",
       "      <th>2017-05-17</th>\n",
       "      <td>LT</td>\n",
       "      <td>EQ</td>\n",
       "      <td>1740.70</td>\n",
       "      <td>1743.90</td>\n",
       "      <td>1764.00</td>\n",
       "      <td>1730.50</td>\n",
       "      <td>1754.30</td>\n",
       "      <td>1755.45</td>\n",
       "      <td>1749.36</td>\n",
       "      <td>1668586</td>\n",
       "      <td>2.918955e+09</td>\n",
       "      <td>77513</td>\n",
       "      <td>830692</td>\n",
       "      <td>49.78</td>\n",
       "      <td>0.657951</td>\n",
       "      <td>1.899093</td>\n",
       "    </tr>\n",
       "    <tr>\n",
       "      <th>2017-05-18</th>\n",
       "      <td>LT</td>\n",
       "      <td>EQ</td>\n",
       "      <td>1755.45</td>\n",
       "      <td>1739.65</td>\n",
       "      <td>1750.10</td>\n",
       "      <td>1716.40</td>\n",
       "      <td>1722.10</td>\n",
       "      <td>1722.60</td>\n",
       "      <td>1725.53</td>\n",
       "      <td>1437220</td>\n",
       "      <td>2.479968e+09</td>\n",
       "      <td>47602</td>\n",
       "      <td>915874</td>\n",
       "      <td>63.73</td>\n",
       "      <td>-0.989783</td>\n",
       "      <td>1.925604</td>\n",
       "    </tr>\n",
       "    <tr>\n",
       "      <th>2017-05-19</th>\n",
       "      <td>LT</td>\n",
       "      <td>EQ</td>\n",
       "      <td>1722.60</td>\n",
       "      <td>1729.00</td>\n",
       "      <td>1734.00</td>\n",
       "      <td>1697.55</td>\n",
       "      <td>1720.05</td>\n",
       "      <td>1724.55</td>\n",
       "      <td>1718.73</td>\n",
       "      <td>1512094</td>\n",
       "      <td>2.598885e+09</td>\n",
       "      <td>59280</td>\n",
       "      <td>838396</td>\n",
       "      <td>55.45</td>\n",
       "      <td>-0.258038</td>\n",
       "      <td>2.102076</td>\n",
       "    </tr>\n",
       "  </tbody>\n",
       "</table>\n",
       "</div>"
      ],
      "text/plain": [
       "           Symbol Series  Prev Close  Open Price  High Price  Low Price  \\\n",
       "Date                                                                      \n",
       "2017-05-15     LT     EQ     1740.60     1748.60     1751.55    1736.50   \n",
       "2017-05-16     LT     EQ     1742.40     1747.00     1748.25    1727.55   \n",
       "2017-05-17     LT     EQ     1740.70     1743.90     1764.00    1730.50   \n",
       "2017-05-18     LT     EQ     1755.45     1739.65     1750.10    1716.40   \n",
       "2017-05-19     LT     EQ     1722.60     1729.00     1734.00    1697.55   \n",
       "\n",
       "            Last Price  Close Price  Average Price  Total Traded Quantity  \\\n",
       "Date                                                                        \n",
       "2017-05-15     1742.00      1742.40        1743.15                 797134   \n",
       "2017-05-16     1740.60      1740.70        1736.62                1102926   \n",
       "2017-05-17     1754.30      1755.45        1749.36                1668586   \n",
       "2017-05-18     1722.10      1722.60        1725.53                1437220   \n",
       "2017-05-19     1720.05      1724.55        1718.73                1512094   \n",
       "\n",
       "                Turnover  No. of Trades  Deliverable Qty  \\\n",
       "Date                                                       \n",
       "2017-05-15  1.389521e+09          52614           529359   \n",
       "2017-05-16  1.915365e+09          48756           674148   \n",
       "2017-05-17  2.918955e+09          77513           830692   \n",
       "2017-05-18  2.479968e+09          47602           915874   \n",
       "2017-05-19  2.598885e+09          59280           838396   \n",
       "\n",
       "            % Dly Qt to Traded Qty  OC_Pct_Change  LH_Pct_Change  \n",
       "Date                                                              \n",
       "2017-05-15                   66.41      -0.355831       0.859239  \n",
       "2017-05-16                   61.12      -0.361923       1.184041  \n",
       "2017-05-17                   49.78       0.657951       1.899093  \n",
       "2017-05-18                   63.73      -0.989783       1.925604  \n",
       "2017-05-19                   55.45      -0.258038       2.102076  "
      ]
     },
     "execution_count": 78,
     "metadata": {},
     "output_type": "execute_result"
    }
   ],
   "source": [
    "stock_data.head()"
   ]
  },
  {
   "cell_type": "markdown",
   "metadata": {},
   "source": [
    "#### Adding Column for `5 day rolling mean of the day to day % change in Close Price`"
   ]
  },
  {
   "cell_type": "code",
   "execution_count": 79,
   "metadata": {},
   "outputs": [],
   "source": [
    "stock_data['Mean_rolling'] = stock_data['Close Price'].rolling(window=5).mean() / stock_data.OC_Pct_Change"
   ]
  },
  {
   "cell_type": "code",
   "execution_count": 80,
   "metadata": {
    "scrolled": true
   },
   "outputs": [
    {
     "data": {
      "text/html": [
       "<div>\n",
       "<style scoped>\n",
       "    .dataframe tbody tr th:only-of-type {\n",
       "        vertical-align: middle;\n",
       "    }\n",
       "\n",
       "    .dataframe tbody tr th {\n",
       "        vertical-align: top;\n",
       "    }\n",
       "\n",
       "    .dataframe thead th {\n",
       "        text-align: right;\n",
       "    }\n",
       "</style>\n",
       "<table border=\"1\" class=\"dataframe\">\n",
       "  <thead>\n",
       "    <tr style=\"text-align: right;\">\n",
       "      <th></th>\n",
       "      <th>Symbol</th>\n",
       "      <th>Series</th>\n",
       "      <th>Prev Close</th>\n",
       "      <th>Open Price</th>\n",
       "      <th>High Price</th>\n",
       "      <th>Low Price</th>\n",
       "      <th>Last Price</th>\n",
       "      <th>Close Price</th>\n",
       "      <th>Average Price</th>\n",
       "      <th>Total Traded Quantity</th>\n",
       "      <th>Turnover</th>\n",
       "      <th>No. of Trades</th>\n",
       "      <th>Deliverable Qty</th>\n",
       "      <th>% Dly Qt to Traded Qty</th>\n",
       "      <th>OC_Pct_Change</th>\n",
       "      <th>LH_Pct_Change</th>\n",
       "      <th>Mean_rolling</th>\n",
       "    </tr>\n",
       "    <tr>\n",
       "      <th>Date</th>\n",
       "      <th></th>\n",
       "      <th></th>\n",
       "      <th></th>\n",
       "      <th></th>\n",
       "      <th></th>\n",
       "      <th></th>\n",
       "      <th></th>\n",
       "      <th></th>\n",
       "      <th></th>\n",
       "      <th></th>\n",
       "      <th></th>\n",
       "      <th></th>\n",
       "      <th></th>\n",
       "      <th></th>\n",
       "      <th></th>\n",
       "      <th></th>\n",
       "      <th></th>\n",
       "    </tr>\n",
       "  </thead>\n",
       "  <tbody>\n",
       "    <tr>\n",
       "      <th>2017-05-15</th>\n",
       "      <td>LT</td>\n",
       "      <td>EQ</td>\n",
       "      <td>1740.60</td>\n",
       "      <td>1748.60</td>\n",
       "      <td>1751.55</td>\n",
       "      <td>1736.50</td>\n",
       "      <td>1742.00</td>\n",
       "      <td>1742.40</td>\n",
       "      <td>1743.15</td>\n",
       "      <td>797134</td>\n",
       "      <td>1.389521e+09</td>\n",
       "      <td>52614</td>\n",
       "      <td>529359</td>\n",
       "      <td>66.41</td>\n",
       "      <td>-0.355831</td>\n",
       "      <td>0.859239</td>\n",
       "      <td>NaN</td>\n",
       "    </tr>\n",
       "    <tr>\n",
       "      <th>2017-05-16</th>\n",
       "      <td>LT</td>\n",
       "      <td>EQ</td>\n",
       "      <td>1742.40</td>\n",
       "      <td>1747.00</td>\n",
       "      <td>1748.25</td>\n",
       "      <td>1727.55</td>\n",
       "      <td>1740.60</td>\n",
       "      <td>1740.70</td>\n",
       "      <td>1736.62</td>\n",
       "      <td>1102926</td>\n",
       "      <td>1.915365e+09</td>\n",
       "      <td>48756</td>\n",
       "      <td>674148</td>\n",
       "      <td>61.12</td>\n",
       "      <td>-0.361923</td>\n",
       "      <td>1.184041</td>\n",
       "      <td>NaN</td>\n",
       "    </tr>\n",
       "    <tr>\n",
       "      <th>2017-05-17</th>\n",
       "      <td>LT</td>\n",
       "      <td>EQ</td>\n",
       "      <td>1740.70</td>\n",
       "      <td>1743.90</td>\n",
       "      <td>1764.00</td>\n",
       "      <td>1730.50</td>\n",
       "      <td>1754.30</td>\n",
       "      <td>1755.45</td>\n",
       "      <td>1749.36</td>\n",
       "      <td>1668586</td>\n",
       "      <td>2.918955e+09</td>\n",
       "      <td>77513</td>\n",
       "      <td>830692</td>\n",
       "      <td>49.78</td>\n",
       "      <td>0.657951</td>\n",
       "      <td>1.899093</td>\n",
       "      <td>NaN</td>\n",
       "    </tr>\n",
       "    <tr>\n",
       "      <th>2017-05-18</th>\n",
       "      <td>LT</td>\n",
       "      <td>EQ</td>\n",
       "      <td>1755.45</td>\n",
       "      <td>1739.65</td>\n",
       "      <td>1750.10</td>\n",
       "      <td>1716.40</td>\n",
       "      <td>1722.10</td>\n",
       "      <td>1722.60</td>\n",
       "      <td>1725.53</td>\n",
       "      <td>1437220</td>\n",
       "      <td>2.479968e+09</td>\n",
       "      <td>47602</td>\n",
       "      <td>915874</td>\n",
       "      <td>63.73</td>\n",
       "      <td>-0.989783</td>\n",
       "      <td>1.925604</td>\n",
       "      <td>NaN</td>\n",
       "    </tr>\n",
       "    <tr>\n",
       "      <th>2017-05-19</th>\n",
       "      <td>LT</td>\n",
       "      <td>EQ</td>\n",
       "      <td>1722.60</td>\n",
       "      <td>1729.00</td>\n",
       "      <td>1734.00</td>\n",
       "      <td>1697.55</td>\n",
       "      <td>1720.05</td>\n",
       "      <td>1724.55</td>\n",
       "      <td>1718.73</td>\n",
       "      <td>1512094</td>\n",
       "      <td>2.598885e+09</td>\n",
       "      <td>59280</td>\n",
       "      <td>838396</td>\n",
       "      <td>55.45</td>\n",
       "      <td>-0.258038</td>\n",
       "      <td>2.102076</td>\n",
       "      <td>-6732.100645</td>\n",
       "    </tr>\n",
       "  </tbody>\n",
       "</table>\n",
       "</div>"
      ],
      "text/plain": [
       "           Symbol Series  Prev Close  Open Price  High Price  Low Price  \\\n",
       "Date                                                                      \n",
       "2017-05-15     LT     EQ     1740.60     1748.60     1751.55    1736.50   \n",
       "2017-05-16     LT     EQ     1742.40     1747.00     1748.25    1727.55   \n",
       "2017-05-17     LT     EQ     1740.70     1743.90     1764.00    1730.50   \n",
       "2017-05-18     LT     EQ     1755.45     1739.65     1750.10    1716.40   \n",
       "2017-05-19     LT     EQ     1722.60     1729.00     1734.00    1697.55   \n",
       "\n",
       "            Last Price  Close Price  Average Price  Total Traded Quantity  \\\n",
       "Date                                                                        \n",
       "2017-05-15     1742.00      1742.40        1743.15                 797134   \n",
       "2017-05-16     1740.60      1740.70        1736.62                1102926   \n",
       "2017-05-17     1754.30      1755.45        1749.36                1668586   \n",
       "2017-05-18     1722.10      1722.60        1725.53                1437220   \n",
       "2017-05-19     1720.05      1724.55        1718.73                1512094   \n",
       "\n",
       "                Turnover  No. of Trades  Deliverable Qty  \\\n",
       "Date                                                       \n",
       "2017-05-15  1.389521e+09          52614           529359   \n",
       "2017-05-16  1.915365e+09          48756           674148   \n",
       "2017-05-17  2.918955e+09          77513           830692   \n",
       "2017-05-18  2.479968e+09          47602           915874   \n",
       "2017-05-19  2.598885e+09          59280           838396   \n",
       "\n",
       "            % Dly Qt to Traded Qty  OC_Pct_Change  LH_Pct_Change  Mean_rolling  \n",
       "Date                                                                            \n",
       "2017-05-15                   66.41      -0.355831       0.859239           NaN  \n",
       "2017-05-16                   61.12      -0.361923       1.184041           NaN  \n",
       "2017-05-17                   49.78       0.657951       1.899093           NaN  \n",
       "2017-05-18                   63.73      -0.989783       1.925604           NaN  \n",
       "2017-05-19                   55.45      -0.258038       2.102076  -6732.100645  "
      ]
     },
     "execution_count": 80,
     "metadata": {},
     "output_type": "execute_result"
    }
   ],
   "source": [
    "stock_data.head()"
   ]
  },
  {
   "cell_type": "markdown",
   "metadata": {},
   "source": [
    "#### Adding Column for `5 day rolling std of the day to day % change in Close Price`"
   ]
  },
  {
   "cell_type": "code",
   "execution_count": 81,
   "metadata": {},
   "outputs": [],
   "source": [
    "stock_data['Std_rolling'] = stock_data['Close Price'].rolling(window=5).std() / stock_data.OC_Pct_Change"
   ]
  },
  {
   "cell_type": "code",
   "execution_count": 82,
   "metadata": {},
   "outputs": [
    {
     "data": {
      "text/html": [
       "<div>\n",
       "<style scoped>\n",
       "    .dataframe tbody tr th:only-of-type {\n",
       "        vertical-align: middle;\n",
       "    }\n",
       "\n",
       "    .dataframe tbody tr th {\n",
       "        vertical-align: top;\n",
       "    }\n",
       "\n",
       "    .dataframe thead th {\n",
       "        text-align: right;\n",
       "    }\n",
       "</style>\n",
       "<table border=\"1\" class=\"dataframe\">\n",
       "  <thead>\n",
       "    <tr style=\"text-align: right;\">\n",
       "      <th></th>\n",
       "      <th>Symbol</th>\n",
       "      <th>Series</th>\n",
       "      <th>Prev Close</th>\n",
       "      <th>Open Price</th>\n",
       "      <th>High Price</th>\n",
       "      <th>Low Price</th>\n",
       "      <th>Last Price</th>\n",
       "      <th>Close Price</th>\n",
       "      <th>Average Price</th>\n",
       "      <th>Total Traded Quantity</th>\n",
       "      <th>Turnover</th>\n",
       "      <th>No. of Trades</th>\n",
       "      <th>Deliverable Qty</th>\n",
       "      <th>% Dly Qt to Traded Qty</th>\n",
       "      <th>OC_Pct_Change</th>\n",
       "      <th>LH_Pct_Change</th>\n",
       "      <th>Mean_rolling</th>\n",
       "      <th>Std_rolling</th>\n",
       "    </tr>\n",
       "    <tr>\n",
       "      <th>Date</th>\n",
       "      <th></th>\n",
       "      <th></th>\n",
       "      <th></th>\n",
       "      <th></th>\n",
       "      <th></th>\n",
       "      <th></th>\n",
       "      <th></th>\n",
       "      <th></th>\n",
       "      <th></th>\n",
       "      <th></th>\n",
       "      <th></th>\n",
       "      <th></th>\n",
       "      <th></th>\n",
       "      <th></th>\n",
       "      <th></th>\n",
       "      <th></th>\n",
       "      <th></th>\n",
       "      <th></th>\n",
       "    </tr>\n",
       "  </thead>\n",
       "  <tbody>\n",
       "    <tr>\n",
       "      <th>2017-05-15</th>\n",
       "      <td>LT</td>\n",
       "      <td>EQ</td>\n",
       "      <td>1740.60</td>\n",
       "      <td>1748.60</td>\n",
       "      <td>1751.55</td>\n",
       "      <td>1736.50</td>\n",
       "      <td>1742.00</td>\n",
       "      <td>1742.40</td>\n",
       "      <td>1743.15</td>\n",
       "      <td>797134</td>\n",
       "      <td>1.389521e+09</td>\n",
       "      <td>52614</td>\n",
       "      <td>529359</td>\n",
       "      <td>66.41</td>\n",
       "      <td>-0.355831</td>\n",
       "      <td>0.859239</td>\n",
       "      <td>NaN</td>\n",
       "      <td>NaN</td>\n",
       "    </tr>\n",
       "    <tr>\n",
       "      <th>2017-05-16</th>\n",
       "      <td>LT</td>\n",
       "      <td>EQ</td>\n",
       "      <td>1742.40</td>\n",
       "      <td>1747.00</td>\n",
       "      <td>1748.25</td>\n",
       "      <td>1727.55</td>\n",
       "      <td>1740.60</td>\n",
       "      <td>1740.70</td>\n",
       "      <td>1736.62</td>\n",
       "      <td>1102926</td>\n",
       "      <td>1.915365e+09</td>\n",
       "      <td>48756</td>\n",
       "      <td>674148</td>\n",
       "      <td>61.12</td>\n",
       "      <td>-0.361923</td>\n",
       "      <td>1.184041</td>\n",
       "      <td>NaN</td>\n",
       "      <td>NaN</td>\n",
       "    </tr>\n",
       "    <tr>\n",
       "      <th>2017-05-17</th>\n",
       "      <td>LT</td>\n",
       "      <td>EQ</td>\n",
       "      <td>1740.70</td>\n",
       "      <td>1743.90</td>\n",
       "      <td>1764.00</td>\n",
       "      <td>1730.50</td>\n",
       "      <td>1754.30</td>\n",
       "      <td>1755.45</td>\n",
       "      <td>1749.36</td>\n",
       "      <td>1668586</td>\n",
       "      <td>2.918955e+09</td>\n",
       "      <td>77513</td>\n",
       "      <td>830692</td>\n",
       "      <td>49.78</td>\n",
       "      <td>0.657951</td>\n",
       "      <td>1.899093</td>\n",
       "      <td>NaN</td>\n",
       "      <td>NaN</td>\n",
       "    </tr>\n",
       "    <tr>\n",
       "      <th>2017-05-18</th>\n",
       "      <td>LT</td>\n",
       "      <td>EQ</td>\n",
       "      <td>1755.45</td>\n",
       "      <td>1739.65</td>\n",
       "      <td>1750.10</td>\n",
       "      <td>1716.40</td>\n",
       "      <td>1722.10</td>\n",
       "      <td>1722.60</td>\n",
       "      <td>1725.53</td>\n",
       "      <td>1437220</td>\n",
       "      <td>2.479968e+09</td>\n",
       "      <td>47602</td>\n",
       "      <td>915874</td>\n",
       "      <td>63.73</td>\n",
       "      <td>-0.989783</td>\n",
       "      <td>1.925604</td>\n",
       "      <td>NaN</td>\n",
       "      <td>NaN</td>\n",
       "    </tr>\n",
       "    <tr>\n",
       "      <th>2017-05-19</th>\n",
       "      <td>LT</td>\n",
       "      <td>EQ</td>\n",
       "      <td>1722.60</td>\n",
       "      <td>1729.00</td>\n",
       "      <td>1734.00</td>\n",
       "      <td>1697.55</td>\n",
       "      <td>1720.05</td>\n",
       "      <td>1724.55</td>\n",
       "      <td>1718.73</td>\n",
       "      <td>1512094</td>\n",
       "      <td>2.598885e+09</td>\n",
       "      <td>59280</td>\n",
       "      <td>838396</td>\n",
       "      <td>55.45</td>\n",
       "      <td>-0.258038</td>\n",
       "      <td>2.102076</td>\n",
       "      <td>-6732.100645</td>\n",
       "      <td>-52.907173</td>\n",
       "    </tr>\n",
       "  </tbody>\n",
       "</table>\n",
       "</div>"
      ],
      "text/plain": [
       "           Symbol Series  Prev Close  Open Price  High Price  Low Price  \\\n",
       "Date                                                                      \n",
       "2017-05-15     LT     EQ     1740.60     1748.60     1751.55    1736.50   \n",
       "2017-05-16     LT     EQ     1742.40     1747.00     1748.25    1727.55   \n",
       "2017-05-17     LT     EQ     1740.70     1743.90     1764.00    1730.50   \n",
       "2017-05-18     LT     EQ     1755.45     1739.65     1750.10    1716.40   \n",
       "2017-05-19     LT     EQ     1722.60     1729.00     1734.00    1697.55   \n",
       "\n",
       "            Last Price  Close Price  Average Price  Total Traded Quantity  \\\n",
       "Date                                                                        \n",
       "2017-05-15     1742.00      1742.40        1743.15                 797134   \n",
       "2017-05-16     1740.60      1740.70        1736.62                1102926   \n",
       "2017-05-17     1754.30      1755.45        1749.36                1668586   \n",
       "2017-05-18     1722.10      1722.60        1725.53                1437220   \n",
       "2017-05-19     1720.05      1724.55        1718.73                1512094   \n",
       "\n",
       "                Turnover  No. of Trades  Deliverable Qty  \\\n",
       "Date                                                       \n",
       "2017-05-15  1.389521e+09          52614           529359   \n",
       "2017-05-16  1.915365e+09          48756           674148   \n",
       "2017-05-17  2.918955e+09          77513           830692   \n",
       "2017-05-18  2.479968e+09          47602           915874   \n",
       "2017-05-19  2.598885e+09          59280           838396   \n",
       "\n",
       "            % Dly Qt to Traded Qty  OC_Pct_Change  LH_Pct_Change  \\\n",
       "Date                                                               \n",
       "2017-05-15                   66.41      -0.355831       0.859239   \n",
       "2017-05-16                   61.12      -0.361923       1.184041   \n",
       "2017-05-17                   49.78       0.657951       1.899093   \n",
       "2017-05-18                   63.73      -0.989783       1.925604   \n",
       "2017-05-19                   55.45      -0.258038       2.102076   \n",
       "\n",
       "            Mean_rolling  Std_rolling  \n",
       "Date                                   \n",
       "2017-05-15           NaN          NaN  \n",
       "2017-05-16           NaN          NaN  \n",
       "2017-05-17           NaN          NaN  \n",
       "2017-05-18           NaN          NaN  \n",
       "2017-05-19  -6732.100645   -52.907173  "
      ]
     },
     "execution_count": 82,
     "metadata": {},
     "output_type": "execute_result"
    }
   ],
   "source": [
    "stock_data.head()"
   ]
  },
  {
   "cell_type": "code",
   "execution_count": 83,
   "metadata": {},
   "outputs": [
    {
     "data": {
      "text/plain": [
       "(494, 18)"
      ]
     },
     "execution_count": 83,
     "metadata": {},
     "output_type": "execute_result"
    }
   ],
   "source": [
    "stock_data.shape"
   ]
  },
  {
   "cell_type": "code",
   "execution_count": 84,
   "metadata": {},
   "outputs": [],
   "source": [
    "stock_data['Action'] = (stock_data['Close Price'].shift(-1) > stock_data['Close Price']).replace([True, False],[1,-1])[:-1]"
   ]
  },
  {
   "cell_type": "markdown",
   "metadata": {},
   "source": [
    "Replacing the Infinity or minus Infinity Values with NaN values"
   ]
  },
  {
   "cell_type": "code",
   "execution_count": 85,
   "metadata": {},
   "outputs": [
    {
     "name": "stderr",
     "output_type": "stream",
     "text": [
      "C:\\Users\\Shiva\\anaconda3\\lib\\site-packages\\ipykernel_launcher.py:1: FutureWarning: The pandas.np module is deprecated and will be removed from pandas in a future version. Import numpy directly instead\n",
      "  \"\"\"Entry point for launching an IPython kernel.\n"
     ]
    }
   ],
   "source": [
    "stock_data=stock_data.replace([pd.np.inf, -pd.np.inf], pd.np.nan)"
   ]
  },
  {
   "cell_type": "markdown",
   "metadata": {},
   "source": [
    "Droping NaNs"
   ]
  },
  {
   "cell_type": "code",
   "execution_count": 86,
   "metadata": {},
   "outputs": [],
   "source": [
    "stock_data.dropna(inplace=True)"
   ]
  },
  {
   "cell_type": "code",
   "execution_count": 87,
   "metadata": {},
   "outputs": [
    {
     "data": {
      "text/plain": [
       "(488, 19)"
      ]
     },
     "execution_count": 87,
     "metadata": {},
     "output_type": "execute_result"
    }
   ],
   "source": [
    "stock_data.shape"
   ]
  },
  {
   "cell_type": "markdown",
   "metadata": {},
   "source": [
    "#### Traning and Testing Split\n",
    "Construct a classification model with the 4 new inputs and 'Action' as target"
   ]
  },
  {
   "cell_type": "code",
   "execution_count": 88,
   "metadata": {},
   "outputs": [
    {
     "data": {
      "text/html": [
       "<div>\n",
       "<style scoped>\n",
       "    .dataframe tbody tr th:only-of-type {\n",
       "        vertical-align: middle;\n",
       "    }\n",
       "\n",
       "    .dataframe tbody tr th {\n",
       "        vertical-align: top;\n",
       "    }\n",
       "\n",
       "    .dataframe thead th {\n",
       "        text-align: right;\n",
       "    }\n",
       "</style>\n",
       "<table border=\"1\" class=\"dataframe\">\n",
       "  <thead>\n",
       "    <tr style=\"text-align: right;\">\n",
       "      <th></th>\n",
       "      <th>OC_Pct_Change</th>\n",
       "      <th>LH_Pct_Change</th>\n",
       "      <th>Mean_rolling</th>\n",
       "      <th>Std_rolling</th>\n",
       "    </tr>\n",
       "    <tr>\n",
       "      <th>Date</th>\n",
       "      <th></th>\n",
       "      <th></th>\n",
       "      <th></th>\n",
       "      <th></th>\n",
       "    </tr>\n",
       "  </thead>\n",
       "  <tbody>\n",
       "    <tr>\n",
       "      <th>2017-05-19</th>\n",
       "      <td>-0.258038</td>\n",
       "      <td>2.102076</td>\n",
       "      <td>-6732.100645</td>\n",
       "      <td>-52.907173</td>\n",
       "    </tr>\n",
       "    <tr>\n",
       "      <th>2017-05-22</th>\n",
       "      <td>1.081652</td>\n",
       "      <td>1.705514</td>\n",
       "      <td>1607.772373</td>\n",
       "      <td>14.012875</td>\n",
       "    </tr>\n",
       "    <tr>\n",
       "      <th>2017-05-23</th>\n",
       "      <td>-0.818613</td>\n",
       "      <td>2.124766</td>\n",
       "      <td>-2124.399084</td>\n",
       "      <td>-18.517219</td>\n",
       "    </tr>\n",
       "    <tr>\n",
       "      <th>2017-05-24</th>\n",
       "      <td>-3.422482</td>\n",
       "      <td>4.513632</td>\n",
       "      <td>-503.979259</td>\n",
       "      <td>-7.484361</td>\n",
       "    </tr>\n",
       "    <tr>\n",
       "      <th>2017-05-25</th>\n",
       "      <td>4.344631</td>\n",
       "      <td>4.676056</td>\n",
       "      <td>399.138643</td>\n",
       "      <td>7.392993</td>\n",
       "    </tr>\n",
       "  </tbody>\n",
       "</table>\n",
       "</div>"
      ],
      "text/plain": [
       "            OC_Pct_Change  LH_Pct_Change  Mean_rolling  Std_rolling\n",
       "Date                                                               \n",
       "2017-05-19      -0.258038       2.102076  -6732.100645   -52.907173\n",
       "2017-05-22       1.081652       1.705514   1607.772373    14.012875\n",
       "2017-05-23      -0.818613       2.124766  -2124.399084   -18.517219\n",
       "2017-05-24      -3.422482       4.513632   -503.979259    -7.484361\n",
       "2017-05-25       4.344631       4.676056    399.138643     7.392993"
      ]
     },
     "execution_count": 88,
     "metadata": {},
     "output_type": "execute_result"
    }
   ],
   "source": [
    "Input = stock_data[['OC_Pct_Change', 'LH_Pct_Change', 'Mean_rolling', 'Std_rolling']]\n",
    "Input.head()"
   ]
  },
  {
   "cell_type": "markdown",
   "metadata": {},
   "source": [
    "##### Need to Normalize Input Data"
   ]
  },
  {
   "cell_type": "code",
   "execution_count": 89,
   "metadata": {},
   "outputs": [],
   "source": [
    "from sklearn.preprocessing import MinMaxScaler\n",
    "Input = MinMaxScaler().fit_transform(Input)"
   ]
  },
  {
   "cell_type": "code",
   "execution_count": 91,
   "metadata": {},
   "outputs": [
    {
     "data": {
      "text/plain": [
       "array([[0.29527119, 0.21307174, 0.50671218, 0.38816003],\n",
       "       [0.41187766, 0.16150486, 0.5173087 , 0.39525862],\n",
       "       [0.24647887, 0.21602225, 0.51256666, 0.39180797],\n",
       "       ...,\n",
       "       [0.29501669, 0.09148321, 0.50864231, 0.39163388],\n",
       "       [0.31420161, 0.23612599, 0.47265064, 0.37929364],\n",
       "       [0.29108268, 0.10579133, 0.50962877, 0.3919087 ]])"
      ]
     },
     "execution_count": 91,
     "metadata": {},
     "output_type": "execute_result"
    }
   ],
   "source": [
    "Input"
   ]
  },
  {
   "cell_type": "code",
   "execution_count": 92,
   "metadata": {},
   "outputs": [
    {
     "data": {
      "text/plain": [
       "Date\n",
       "2017-05-19    1.0\n",
       "2017-05-22   -1.0\n",
       "2017-05-23   -1.0\n",
       "2017-05-24    1.0\n",
       "2017-05-25    1.0\n",
       "Name: Action, dtype: float64"
      ]
     },
     "execution_count": 92,
     "metadata": {},
     "output_type": "execute_result"
    }
   ],
   "source": [
    "Output = stock_data.Action\n",
    "Output.head()"
   ]
  },
  {
   "cell_type": "code",
   "execution_count": 93,
   "metadata": {},
   "outputs": [],
   "source": [
    "X_train, X_test,y_train, y_test = train_test_split(Input, Output, test_size=0.2)"
   ]
  },
  {
   "cell_type": "code",
   "execution_count": 94,
   "metadata": {},
   "outputs": [],
   "source": [
    "y_train = y_train.values.ravel()\n",
    "y_test = y_test.values.ravel()"
   ]
  },
  {
   "cell_type": "code",
   "execution_count": 95,
   "metadata": {},
   "outputs": [
    {
     "name": "stdout",
     "output_type": "stream",
     "text": [
      "[ 1.  1. -1. -1. -1.  1.  1. -1.  1. -1.  1. -1. -1.  1. -1. -1.  1. -1.\n",
      "  1. -1. -1.  1.  1.  1.  1.  1. -1. -1. -1.  1.  1. -1.  1.  1. -1. -1.\n",
      " -1.  1. -1. -1.  1. -1. -1.  1. -1.  1. -1.  1. -1.  1. -1. -1. -1. -1.\n",
      "  1. -1.  1. -1.  1.  1.  1.  1.  1.  1. -1. -1.  1.  1.  1. -1.  1. -1.\n",
      " -1. -1. -1. -1. -1.  1. -1.  1. -1.  1. -1.  1. -1.  1.  1. -1. -1.  1.\n",
      "  1. -1. -1. -1. -1.  1. -1. -1. -1. -1.  1.  1.  1.  1.  1. -1.  1. -1.\n",
      " -1. -1. -1.  1.  1.  1. -1.  1. -1.  1. -1.  1. -1. -1.  1.  1.  1.  1.\n",
      " -1. -1. -1.  1.  1. -1. -1. -1. -1.  1.  1. -1.  1. -1. -1.  1. -1.  1.\n",
      " -1.  1.  1.  1.  1. -1.  1.  1.  1. -1.  1.  1.  1. -1. -1.  1. -1.  1.\n",
      " -1.  1.  1.  1.  1. -1. -1. -1. -1.  1.  1. -1.  1.  1. -1.  1.  1. -1.\n",
      "  1.  1.  1.  1. -1.  1.  1.  1. -1. -1. -1.  1. -1.  1. -1. -1. -1.  1.\n",
      " -1. -1.  1. -1. -1. -1. -1. -1.  1.  1.  1. -1.  1.  1.  1.  1.  1.  1.\n",
      " -1.  1.  1.  1.  1. -1. -1. -1. -1. -1. -1. -1.  1.  1.  1. -1.  1.  1.\n",
      " -1. -1.  1.  1. -1.  1. -1. -1.  1.  1. -1. -1.  1.  1. -1.  1.  1.  1.\n",
      " -1.  1. -1. -1. -1. -1. -1. -1. -1. -1.  1. -1.  1. -1.  1. -1.  1. -1.\n",
      " -1.  1. -1. -1. -1.  1. -1. -1.  1.  1.  1.  1. -1.  1.  1.  1. -1.  1.\n",
      " -1.  1. -1.  1. -1.  1. -1.  1. -1. -1. -1.  1. -1. -1. -1. -1.  1. -1.\n",
      " -1. -1. -1.  1. -1. -1. -1.  1.  1. -1.  1.  1. -1.  1. -1. -1.  1.  1.\n",
      "  1. -1. -1.  1.  1. -1.  1.  1.  1.  1.  1.  1. -1.  1.  1.  1.  1. -1.\n",
      " -1.  1. -1. -1. -1. -1. -1. -1.  1. -1. -1.  1. -1.  1.  1. -1.  1. -1.\n",
      "  1. -1.  1. -1.  1. -1. -1.  1.  1. -1. -1.  1.  1.  1. -1.  1. -1.  1.\n",
      " -1. -1.  1.  1.  1.  1. -1. -1.  1.  1.  1. -1.]\n",
      "\n",
      "\n",
      "[ 1.  1. -1. -1.  1. -1.  1. -1.  1.  1. -1.  1. -1.  1. -1. -1. -1. -1.\n",
      " -1. -1.  1. -1.  1.  1.  1. -1. -1. -1. -1. -1. -1. -1. -1. -1. -1.  1.\n",
      "  1. -1. -1.  1. -1. -1. -1. -1. -1. -1. -1.  1. -1. -1. -1.  1. -1.  1.\n",
      "  1. -1. -1.  1. -1.  1. -1. -1. -1.  1. -1. -1.  1.  1. -1.  1. -1.  1.\n",
      "  1.  1.  1. -1. -1. -1.  1.  1. -1.  1.  1.  1.  1.  1.  1.  1. -1. -1.\n",
      "  1.  1. -1.  1. -1. -1. -1.  1.]\n"
     ]
    }
   ],
   "source": [
    "print(y_train)\n",
    "print('\\n')\n",
    "print(y_test)"
   ]
  },
  {
   "cell_type": "markdown",
   "metadata": {},
   "source": [
    "#### Classification Model : Random Forest"
   ]
  },
  {
   "cell_type": "code",
   "execution_count": 96,
   "metadata": {},
   "outputs": [
    {
     "data": {
      "text/plain": [
       "RandomForestClassifier(bootstrap=True, ccp_alpha=0.0, class_weight='balanced',\n",
       "                       criterion='gini', max_depth=10, max_features='auto',\n",
       "                       max_leaf_nodes=None, max_samples=None,\n",
       "                       min_impurity_decrease=0.0, min_impurity_split=None,\n",
       "                       min_samples_leaf=1, min_samples_split=2,\n",
       "                       min_weight_fraction_leaf=0.0, n_estimators=10,\n",
       "                       n_jobs=None, oob_score=False, random_state=None,\n",
       "                       verbose=0, warm_start=False)"
      ]
     },
     "execution_count": 96,
     "metadata": {},
     "output_type": "execute_result"
    }
   ],
   "source": [
    "rf_classifier = RandomForestClassifier(max_depth = 10, n_estimators =10,class_weight='balanced')\n",
    "rf_classifier.fit(X_train, y_train)"
   ]
  },
  {
   "cell_type": "markdown",
   "metadata": {},
   "source": [
    "#### Accuracy"
   ]
  },
  {
   "cell_type": "code",
   "execution_count": 97,
   "metadata": {},
   "outputs": [
    {
     "data": {
      "text/plain": [
       "0.9128205128205128"
      ]
     },
     "execution_count": 97,
     "metadata": {},
     "output_type": "execute_result"
    }
   ],
   "source": [
    "rf_classifier.score(X_train, y_train)"
   ]
  },
  {
   "cell_type": "code",
   "execution_count": 98,
   "metadata": {},
   "outputs": [
    {
     "data": {
      "text/plain": [
       "0.8135245901639344"
      ]
     },
     "execution_count": 98,
     "metadata": {},
     "output_type": "execute_result"
    }
   ],
   "source": [
    "rf_classifier.score(Input, Output)"
   ]
  },
  {
   "cell_type": "markdown",
   "metadata": {},
   "source": [
    "#### Net Cumulative Returns (in %)\n",
    "plot the net cumulative returns (in %) if we were to follow this algorithmic model"
   ]
  },
  {
   "cell_type": "code",
   "execution_count": 99,
   "metadata": {},
   "outputs": [],
   "source": [
    "stock_data['Net_cum_returns'] = ((stock_data['Open Price']-stock_data['Close Price'])/stock_data['Open Price']*100).cumsum()"
   ]
  },
  {
   "cell_type": "code",
   "execution_count": 100,
   "metadata": {},
   "outputs": [
    {
     "data": {
      "text/html": [
       "<div>\n",
       "<style scoped>\n",
       "    .dataframe tbody tr th:only-of-type {\n",
       "        vertical-align: middle;\n",
       "    }\n",
       "\n",
       "    .dataframe tbody tr th {\n",
       "        vertical-align: top;\n",
       "    }\n",
       "\n",
       "    .dataframe thead th {\n",
       "        text-align: right;\n",
       "    }\n",
       "</style>\n",
       "<table border=\"1\" class=\"dataframe\">\n",
       "  <thead>\n",
       "    <tr style=\"text-align: right;\">\n",
       "      <th></th>\n",
       "      <th>Symbol</th>\n",
       "      <th>Series</th>\n",
       "      <th>Prev Close</th>\n",
       "      <th>Open Price</th>\n",
       "      <th>High Price</th>\n",
       "      <th>Low Price</th>\n",
       "      <th>Last Price</th>\n",
       "      <th>Close Price</th>\n",
       "      <th>Average Price</th>\n",
       "      <th>Total Traded Quantity</th>\n",
       "      <th>Turnover</th>\n",
       "      <th>No. of Trades</th>\n",
       "      <th>Deliverable Qty</th>\n",
       "      <th>% Dly Qt to Traded Qty</th>\n",
       "      <th>OC_Pct_Change</th>\n",
       "      <th>LH_Pct_Change</th>\n",
       "      <th>Mean_rolling</th>\n",
       "      <th>Std_rolling</th>\n",
       "      <th>Action</th>\n",
       "      <th>Net_cum_returns</th>\n",
       "    </tr>\n",
       "    <tr>\n",
       "      <th>Date</th>\n",
       "      <th></th>\n",
       "      <th></th>\n",
       "      <th></th>\n",
       "      <th></th>\n",
       "      <th></th>\n",
       "      <th></th>\n",
       "      <th></th>\n",
       "      <th></th>\n",
       "      <th></th>\n",
       "      <th></th>\n",
       "      <th></th>\n",
       "      <th></th>\n",
       "      <th></th>\n",
       "      <th></th>\n",
       "      <th></th>\n",
       "      <th></th>\n",
       "      <th></th>\n",
       "      <th></th>\n",
       "      <th></th>\n",
       "      <th></th>\n",
       "    </tr>\n",
       "  </thead>\n",
       "  <tbody>\n",
       "    <tr>\n",
       "      <th>2017-05-19</th>\n",
       "      <td>LT</td>\n",
       "      <td>EQ</td>\n",
       "      <td>1722.60</td>\n",
       "      <td>1729.0</td>\n",
       "      <td>1734.0</td>\n",
       "      <td>1697.55</td>\n",
       "      <td>1720.05</td>\n",
       "      <td>1724.55</td>\n",
       "      <td>1718.73</td>\n",
       "      <td>1512094</td>\n",
       "      <td>2.598885e+09</td>\n",
       "      <td>59280</td>\n",
       "      <td>838396</td>\n",
       "      <td>55.45</td>\n",
       "      <td>-0.258038</td>\n",
       "      <td>2.102076</td>\n",
       "      <td>-6732.100645</td>\n",
       "      <td>-52.907173</td>\n",
       "      <td>1.0</td>\n",
       "      <td>0.257374</td>\n",
       "    </tr>\n",
       "    <tr>\n",
       "      <th>2017-05-22</th>\n",
       "      <td>LT</td>\n",
       "      <td>EQ</td>\n",
       "      <td>1724.55</td>\n",
       "      <td>1733.0</td>\n",
       "      <td>1759.0</td>\n",
       "      <td>1729.00</td>\n",
       "      <td>1753.00</td>\n",
       "      <td>1751.95</td>\n",
       "      <td>1749.85</td>\n",
       "      <td>1892816</td>\n",
       "      <td>3.312148e+09</td>\n",
       "      <td>81450</td>\n",
       "      <td>1222100</td>\n",
       "      <td>64.57</td>\n",
       "      <td>1.081652</td>\n",
       "      <td>1.705514</td>\n",
       "      <td>1607.772373</td>\n",
       "      <td>14.012875</td>\n",
       "      <td>-1.0</td>\n",
       "      <td>-0.836105</td>\n",
       "    </tr>\n",
       "    <tr>\n",
       "      <th>2017-05-23</th>\n",
       "      <td>LT</td>\n",
       "      <td>EQ</td>\n",
       "      <td>1751.95</td>\n",
       "      <td>1755.0</td>\n",
       "      <td>1764.9</td>\n",
       "      <td>1727.40</td>\n",
       "      <td>1735.50</td>\n",
       "      <td>1740.75</td>\n",
       "      <td>1744.75</td>\n",
       "      <td>975870</td>\n",
       "      <td>1.702648e+09</td>\n",
       "      <td>54639</td>\n",
       "      <td>431247</td>\n",
       "      <td>44.19</td>\n",
       "      <td>-0.818613</td>\n",
       "      <td>2.124766</td>\n",
       "      <td>-2124.399084</td>\n",
       "      <td>-18.517219</td>\n",
       "      <td>-1.0</td>\n",
       "      <td>-0.024139</td>\n",
       "    </tr>\n",
       "    <tr>\n",
       "      <th>2017-05-24</th>\n",
       "      <td>LT</td>\n",
       "      <td>EQ</td>\n",
       "      <td>1740.75</td>\n",
       "      <td>1742.1</td>\n",
       "      <td>1756.9</td>\n",
       "      <td>1677.60</td>\n",
       "      <td>1689.45</td>\n",
       "      <td>1684.45</td>\n",
       "      <td>1721.17</td>\n",
       "      <td>1448713</td>\n",
       "      <td>2.493487e+09</td>\n",
       "      <td>50761</td>\n",
       "      <td>754200</td>\n",
       "      <td>52.06</td>\n",
       "      <td>-3.422482</td>\n",
       "      <td>4.513632</td>\n",
       "      <td>-503.979259</td>\n",
       "      <td>-7.484361</td>\n",
       "      <td>1.0</td>\n",
       "      <td>3.285085</td>\n",
       "    </tr>\n",
       "    <tr>\n",
       "      <th>2017-05-25</th>\n",
       "      <td>LT</td>\n",
       "      <td>EQ</td>\n",
       "      <td>1684.45</td>\n",
       "      <td>1692.0</td>\n",
       "      <td>1775.0</td>\n",
       "      <td>1692.00</td>\n",
       "      <td>1765.00</td>\n",
       "      <td>1768.85</td>\n",
       "      <td>1753.44</td>\n",
       "      <td>3603181</td>\n",
       "      <td>6.317948e+09</td>\n",
       "      <td>95146</td>\n",
       "      <td>2346405</td>\n",
       "      <td>65.12</td>\n",
       "      <td>4.344631</td>\n",
       "      <td>4.676056</td>\n",
       "      <td>399.138643</td>\n",
       "      <td>7.392993</td>\n",
       "      <td>1.0</td>\n",
       "      <td>-1.256877</td>\n",
       "    </tr>\n",
       "  </tbody>\n",
       "</table>\n",
       "</div>"
      ],
      "text/plain": [
       "           Symbol Series  Prev Close  Open Price  High Price  Low Price  \\\n",
       "Date                                                                      \n",
       "2017-05-19     LT     EQ     1722.60      1729.0      1734.0    1697.55   \n",
       "2017-05-22     LT     EQ     1724.55      1733.0      1759.0    1729.00   \n",
       "2017-05-23     LT     EQ     1751.95      1755.0      1764.9    1727.40   \n",
       "2017-05-24     LT     EQ     1740.75      1742.1      1756.9    1677.60   \n",
       "2017-05-25     LT     EQ     1684.45      1692.0      1775.0    1692.00   \n",
       "\n",
       "            Last Price  Close Price  Average Price  Total Traded Quantity  \\\n",
       "Date                                                                        \n",
       "2017-05-19     1720.05      1724.55        1718.73                1512094   \n",
       "2017-05-22     1753.00      1751.95        1749.85                1892816   \n",
       "2017-05-23     1735.50      1740.75        1744.75                 975870   \n",
       "2017-05-24     1689.45      1684.45        1721.17                1448713   \n",
       "2017-05-25     1765.00      1768.85        1753.44                3603181   \n",
       "\n",
       "                Turnover  No. of Trades  Deliverable Qty  \\\n",
       "Date                                                       \n",
       "2017-05-19  2.598885e+09          59280           838396   \n",
       "2017-05-22  3.312148e+09          81450          1222100   \n",
       "2017-05-23  1.702648e+09          54639           431247   \n",
       "2017-05-24  2.493487e+09          50761           754200   \n",
       "2017-05-25  6.317948e+09          95146          2346405   \n",
       "\n",
       "            % Dly Qt to Traded Qty  OC_Pct_Change  LH_Pct_Change  \\\n",
       "Date                                                               \n",
       "2017-05-19                   55.45      -0.258038       2.102076   \n",
       "2017-05-22                   64.57       1.081652       1.705514   \n",
       "2017-05-23                   44.19      -0.818613       2.124766   \n",
       "2017-05-24                   52.06      -3.422482       4.513632   \n",
       "2017-05-25                   65.12       4.344631       4.676056   \n",
       "\n",
       "            Mean_rolling  Std_rolling  Action  Net_cum_returns  \n",
       "Date                                                            \n",
       "2017-05-19  -6732.100645   -52.907173     1.0         0.257374  \n",
       "2017-05-22   1607.772373    14.012875    -1.0        -0.836105  \n",
       "2017-05-23  -2124.399084   -18.517219    -1.0        -0.024139  \n",
       "2017-05-24   -503.979259    -7.484361     1.0         3.285085  \n",
       "2017-05-25    399.138643     7.392993     1.0        -1.256877  "
      ]
     },
     "execution_count": 100,
     "metadata": {},
     "output_type": "execute_result"
    }
   ],
   "source": [
    "stock_data.head()"
   ]
  },
  {
   "cell_type": "code",
   "execution_count": 101,
   "metadata": {},
   "outputs": [],
   "source": [
    "import matplotlib.pyplot as plt"
   ]
  },
  {
   "cell_type": "code",
   "execution_count": 102,
   "metadata": {},
   "outputs": [
    {
     "data": {
      "image/png": "[encoded data removed]",
      "text/plain": [
       "<Figure size 1152x576 with 1 Axes>"
      ]
     },
     "metadata": {
      "needs_background": "light"
     },
     "output_type": "display_data"
    }
   ],
   "source": [
    "plt.figure(figsize=(16,8))\n",
    "plt.plot(stock_data.index, stock_data['Net_cum_returns'])\n",
    "plt.ylabel(\"Strategy Returns (%)\")\n",
    "plt.xlabel(\"Date\")\n",
    "plt.show()"
   ]
  },
  {
   "cell_type": "code",
   "execution_count": null,
   "metadata": {},
   "outputs": [],
   "source": []
  }
 ],
 "metadata": {
  "kernelspec": {
   "display_name": "Python 3",
   "language": "python",
   "name": "python3"
  },
  "language_info": {
   "codemirror_mode": {
    "name": "ipython",
    "version": 3
   },
   "file_extension": ".py",
   "mimetype": "text/x-python",
   "name": "python",
   "nbconvert_exporter": "python",
   "pygments_lexer": "ipython3",
   "version": "3.7.6"
  }
 },
 "nbformat": 4,
 "nbformat_minor": 4
}
